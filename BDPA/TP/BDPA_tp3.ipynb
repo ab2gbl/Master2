{
  "nbformat": 4,
  "nbformat_minor": 0,
  "metadata": {
    "colab": {
      "provenance": [],
      "authorship_tag": "ABX9TyP83TnJ1UTeB+AKAnDrfIlm",
      "include_colab_link": true
    },
    "kernelspec": {
      "name": "python3",
      "display_name": "Python 3"
    },
    "language_info": {
      "name": "python"
    }
  },
  "cells": [
    {
      "cell_type": "markdown",
      "metadata": {
        "id": "view-in-github",
        "colab_type": "text"
      },
      "source": [
        "<a href=\"https://colab.research.google.com/github/ab2gbl/Master2/blob/main/BDPA/TP/BDPA_tp3.ipynb\" target=\"_parent\"><img src=\"https://colab.research.google.com/assets/colab-badge.svg\" alt=\"Open In Colab\"/></a>"
      ]
    },
    {
      "cell_type": "code",
      "source": [
        "from pyspark.sql import SparkSession\n",
        "from pyspark import SparkContext\n",
        "spark = SparkSession.builder.appName(\"sparkFirstLab\").getOrCreate()\n",
        "sc = SparkContext.getOrCreate()"
      ],
      "metadata": {
        "id": "TJeOr71LoK3b"
      },
      "execution_count": null,
      "outputs": []
    },
    {
      "cell_type": "code",
      "execution_count": null,
      "metadata": {
        "id": "iQoFP6v8mOy0"
      },
      "outputs": [],
      "source": [
        "df = spark.read.csv('./epl-training.csv', header=True)"
      ]
    },
    {
      "cell_type": "code",
      "source": [
        "list(df.columns)"
      ],
      "metadata": {
        "colab": {
          "base_uri": "https://localhost:8080/"
        },
        "id": "0GC6tF8mrYD7",
        "outputId": "4d63340c-54dc-4781-ebb4-d60317c46136"
      },
      "execution_count": null,
      "outputs": [
        {
          "output_type": "execute_result",
          "data": {
            "text/plain": [
              "['Date',\n",
              " 'HomeTeam',\n",
              " 'AwayTeam',\n",
              " 'FTHG',\n",
              " 'FTAG',\n",
              " 'FTR',\n",
              " 'HTHG',\n",
              " 'HTAG',\n",
              " 'HTR',\n",
              " 'Referee',\n",
              " 'HS',\n",
              " 'AS',\n",
              " 'HST',\n",
              " 'AST',\n",
              " 'HC',\n",
              " 'AC',\n",
              " 'HF',\n",
              " 'AF',\n",
              " 'HY',\n",
              " 'AY',\n",
              " 'HR',\n",
              " 'AR']"
            ]
          },
          "metadata": {},
          "execution_count": 21
        }
      ]
    },
    {
      "cell_type": "code",
      "source": [
        "df.show(5)"
      ],
      "metadata": {
        "colab": {
          "base_uri": "https://localhost:8080/"
        },
        "id": "GdiuEYhYvN2C",
        "outputId": "d686cfb3-5414-44c2-e424-8d6613712fd0"
      },
      "execution_count": null,
      "outputs": [
        {
          "output_type": "stream",
          "name": "stdout",
          "text": [
            "+----------+--------+-------------+----+----+---+----+----+---+----------------+---+---+---+---+---+---+---+---+---+---+---+---+\n",
            "|      Date|HomeTeam|     AwayTeam|FTHG|FTAG|FTR|HTHG|HTAG|HTR|         Referee| HS| AS|HST|AST| HC| AC| HF| AF| HY| AY| HR| AR|\n",
            "+----------+--------+-------------+----+----+---+----+----+---+----------------+---+---+---+---+---+---+---+---+---+---+---+---+\n",
            "|19/08/2000|Charlton|     Man City|   4|   0|  H|   2|   0|  H|      Rob Harris| 17|  8| 14|  4|  6|  6| 13| 12|  1|  2|  0|  0|\n",
            "|19/08/2000| Chelsea|     West Ham|   4|   2|  H|   1|   0|  H|   Graham Barber| 17| 12| 10|  5|  7|  7| 19| 14|  1|  2|  0|  0|\n",
            "|19/08/2000|Coventry|Middlesbrough|   1|   3|  A|   1|   1|  D|    Barry Knight|  6| 16|  3|  9|  8|  4| 15| 21|  5|  3|  1|  0|\n",
            "|19/08/2000|   Derby|  Southampton|   2|   2|  D|   1|   2|  A|     Andy D'Urso|  6| 13|  4|  6|  5|  8| 11| 13|  1|  1|  0|  0|\n",
            "|19/08/2000|   Leeds|      Everton|   2|   0|  H|   2|   0|  H|Dermot Gallagher| 17| 12|  8|  6|  6|  4| 21| 20|  1|  3|  0|  0|\n",
            "+----------+--------+-------------+----+----+---+----+----+---+----------------+---+---+---+---+---+---+---+---+---+---+---+---+\n",
            "only showing top 5 rows\n",
            "\n"
          ]
        }
      ]
    },
    {
      "cell_type": "code",
      "source": [
        "teams = df.select(\"HomeTeam\").distinct()\n",
        "teams.show()\n"
      ],
      "metadata": {
        "colab": {
          "base_uri": "https://localhost:8080/"
        },
        "id": "_7rpnqwPoYtY",
        "outputId": "ab012445-0758-4e31-d69b-5617cac96012"
      },
      "execution_count": null,
      "outputs": [
        {
          "output_type": "stream",
          "name": "stdout",
          "text": [
            "+----------------+\n",
            "|        HomeTeam|\n",
            "+----------------+\n",
            "|       Tottenham|\n",
            "|        Brighton|\n",
            "|          Bolton|\n",
            "|      Sunderland|\n",
            "|   Nott'm Forest|\n",
            "|        Bradford|\n",
            "|            Hull|\n",
            "|        Coventry|\n",
            "|         Arsenal|\n",
            "|        Man City|\n",
            "|       Brentford|\n",
            "|       Blackburn|\n",
            "|         Cardiff|\n",
            "|Sheffield United|\n",
            "|         Norwich|\n",
            "|  Crystal Palace|\n",
            "|      Birmingham|\n",
            "|         Burnley|\n",
            "|           Derby|\n",
            "|       Leicester|\n",
            "+----------------+\n",
            "only showing top 20 rows\n",
            "\n"
          ]
        }
      ]
    },
    {
      "cell_type": "code",
      "source": [
        "df.groupBy(\"HomeTeam\").agg({\"FTHG\": \"sum\"}) \\\n",
        "  .orderBy(\"sum(FTHG)\", ascending=False) \\\n",
        "  .show(5)\n"
      ],
      "metadata": {
        "colab": {
          "base_uri": "https://localhost:8080/"
        },
        "id": "MC6SHjVNovkg",
        "outputId": "148bce3e-d5f5-4ceb-b30e-fa4ea09b6936"
      },
      "execution_count": null,
      "outputs": [
        {
          "output_type": "stream",
          "name": "stdout",
          "text": [
            "+----------+---------+\n",
            "|  HomeTeam|sum(FTHG)|\n",
            "+----------+---------+\n",
            "|   Arsenal|   1008.0|\n",
            "|  Man City|    966.0|\n",
            "| Liverpool|    955.0|\n",
            "|Man United|    948.0|\n",
            "|   Chelsea|    942.0|\n",
            "+----------+---------+\n",
            "only showing top 5 rows\n",
            "\n"
          ]
        }
      ]
    },
    {
      "cell_type": "code",
      "source": [
        "df.groupBy(\"AwayTeam\").agg({\"FTHG\": \"sum\"}) \\\n",
        "  .orderBy(\"sum(FTHG)\", ascending=False) \\\n",
        "  .show(5)\n"
      ],
      "metadata": {
        "colab": {
          "base_uri": "https://localhost:8080/"
        },
        "id": "Ooe1eAf1wxs0",
        "outputId": "b4386c04-1582-4c9b-abdb-ad6d6cf47938"
      },
      "execution_count": null,
      "outputs": [
        {
          "output_type": "stream",
          "name": "stdout",
          "text": [
            "+-----------+---------+\n",
            "|   AwayTeam|sum(FTHG)|\n",
            "+-----------+---------+\n",
            "|  Newcastle|    704.0|\n",
            "|   West Ham|    675.0|\n",
            "|    Everton|    672.0|\n",
            "|  Tottenham|    665.0|\n",
            "|Aston Villa|    650.0|\n",
            "+-----------+---------+\n",
            "only showing top 5 rows\n",
            "\n"
          ]
        }
      ]
    },
    {
      "cell_type": "code",
      "source": [
        "home_goals = df.groupBy(\"HomeTeam\").agg({\"FTHG\": \"sum\"}).withColumnRenamed(\"sum(FTHG)\", \"HomeGoals\")\n",
        "away_goals = df.groupBy(\"AwayTeam\").agg({\"FTAG\": \"sum\"}).withColumnRenamed(\"sum(FTAG)\", \"AwayGoals\")\n",
        "\n",
        "total_goals = home_goals.join(away_goals, home_goals.HomeTeam == away_goals.AwayTeam) \\\n",
        "                        .withColumn(\"TotalGoals\", home_goals.HomeGoals + away_goals.AwayGoals) \\\n",
        "                        .select(\"HomeTeam\", \"TotalGoals\") \\\n",
        "                        .orderBy(\"TotalGoals\", ascending=False)\n",
        "\n",
        "total_goals.show(3)\n"
      ],
      "metadata": {
        "colab": {
          "base_uri": "https://localhost:8080/"
        },
        "id": "f0GKmSvjpOSv",
        "outputId": "8c0d4c75-8070-4447-fc5a-2c3a410f8399"
      },
      "execution_count": null,
      "outputs": [
        {
          "output_type": "stream",
          "name": "stdout",
          "text": [
            "+---------+----------+\n",
            "| HomeTeam|TotalGoals|\n",
            "+---------+----------+\n",
            "|  Arsenal|    1763.0|\n",
            "|Liverpool|    1700.0|\n",
            "| Man City|    1690.0|\n",
            "+---------+----------+\n",
            "only showing top 3 rows\n",
            "\n"
          ]
        }
      ]
    },
    {
      "cell_type": "code",
      "source": [
        "home_matches = df.groupBy(\"HomeTeam\").count().withColumnRenamed(\"count\", \"HomeMatches\")\n",
        "away_matches = df.groupBy(\"AwayTeam\").count().withColumnRenamed(\"count\", \"AwayMatches\")\n",
        "\n",
        "total_matches = home_matches.join(away_matches, home_matches.HomeTeam == away_matches.AwayTeam) \\\n",
        "                            .withColumn(\"TotalMatches\", home_matches.HomeMatches + away_matches.AwayMatches) \\\n",
        "                            .select(\"HomeTeam\", \"TotalMatches\") \\\n",
        "                            .orderBy(\"TotalMatches\", ascending=False)\n",
        "\n",
        "total_matches.show(1)\n"
      ],
      "metadata": {
        "colab": {
          "base_uri": "https://localhost:8080/"
        },
        "id": "GmZoAycRpQp7",
        "outputId": "da0bed2f-171b-4f49-87cf-e8b872eb2da5"
      },
      "execution_count": null,
      "outputs": [
        {
          "output_type": "stream",
          "name": "stdout",
          "text": [
            "+---------+------------+\n",
            "| HomeTeam|TotalMatches|\n",
            "+---------+------------+\n",
            "|Tottenham|         922|\n",
            "+---------+------------+\n",
            "only showing top 1 row\n",
            "\n"
          ]
        }
      ]
    },
    {
      "cell_type": "code",
      "source": [
        "from pyspark.sql.functions import to_date, year, col\n",
        "\n",
        "# Convert the 'Date' column to a proper DateType\n",
        "df = df.withColumn(\"Date\", to_date(col(\"Date\"), \"dd/MM/yyyy\"))\n",
        "\n",
        "# Extract the year from the Date column\n",
        "df = df.withColumn(\"Year\", year(col(\"Date\")))\n",
        "\n",
        "# Calculate the current year\n",
        "current_year = 2024  # Replace with `datetime.now().year` if using dynamically\n",
        "\n",
        "# Filter the dataset for matches played in the last decade\n",
        "last_decade_df = df.filter(col(\"Year\") >= current_year - 10)"
      ],
      "metadata": {
        "id": "Ki7hEmwD06Pu"
      },
      "execution_count": null,
      "outputs": []
    },
    {
      "cell_type": "code",
      "source": [
        "home_goals = last_decade_df.groupBy(\"HomeTeam\").agg({\"FTHG\": \"sum\"}).withColumnRenamed(\"sum(FTHG)\", \"HomeGoals\")\n",
        "away_goals = last_decade_df.groupBy(\"AwayTeam\").agg({\"FTAG\": \"sum\"}).withColumnRenamed(\"sum(FTAG)\", \"AwayGoals\")\n",
        "home_conceded = last_decade_df.groupBy(\"HomeTeam\").agg({\"FTAG\": \"sum\"}).withColumnRenamed(\"sum(FTAG)\", \"HomeConceded\")\n",
        "away_conceded = last_decade_df.groupBy(\"AwayTeam\").agg({\"FTHG\": \"sum\"}).withColumnRenamed(\"sum(FTHG)\", \"AwayConceded\")\n",
        "\n",
        "total_goals = home_goals.join(away_goals, home_goals.HomeTeam == away_goals.AwayTeam) \\\n",
        "                        .withColumn(\"TotalGoals\", home_goals.HomeGoals + away_goals.AwayGoals) \\\n",
        "                        .select(\"HomeTeam\", \"TotalGoals\") \\\n",
        "                        .orderBy(\"TotalGoals\", ascending=False)\n",
        "\n",
        "total_conceded = home_conceded.join(away_conceded, home_conceded.HomeTeam == away_conceded.AwayTeam) \\\n",
        "                        .withColumn(\"TotalConceded\", home_conceded.HomeConceded + away_conceded.AwayConceded) \\\n",
        "                        .select(\"HomeTeam\", \"TotalConceded\") \\\n",
        "                        .orderBy(\"TotalConceded\", ascending=False)\n",
        "\n",
        "ratios = total_goals.join(total_conceded, total_goals.HomeTeam == total_conceded.HomeTeam).withColumn('ratio',total_goals.TotalGoals/total_conceded.TotalConceded).orderBy(\"ratio\", ascending=False)\n",
        "ratios.show(5)\n"
      ],
      "metadata": {
        "colab": {
          "base_uri": "https://localhost:8080/"
        },
        "id": "HAnVuUBmpVaw",
        "outputId": "52325619-d2d9-4dd7-d241-673348e1b1b5"
      },
      "execution_count": null,
      "outputs": [
        {
          "output_type": "stream",
          "name": "stdout",
          "text": [
            "+---------+----------+---------+-------------+------------------+\n",
            "| HomeTeam|TotalGoals| HomeTeam|TotalConceded|             ratio|\n",
            "+---------+----------+---------+-------------+------------------+\n",
            "| Man City|     979.0| Man City|        351.0|2.7891737891737893|\n",
            "|Liverpool|     854.0|Liverpool|        425.0|2.0094117647058822|\n",
            "|  Arsenal|     765.0|  Arsenal|        456.0|1.6776315789473684|\n",
            "|  Chelsea|     709.0|  Chelsea|        447.0|1.5861297539149888|\n",
            "|Tottenham|     751.0|Tottenham|        481.0|1.5613305613305613|\n",
            "+---------+----------+---------+-------------+------------------+\n",
            "only showing top 5 rows\n",
            "\n"
          ]
        }
      ]
    },
    {
      "cell_type": "code",
      "source": [
        "from pyspark.sql.functions import avg, month\n",
        "\n",
        "# Add month column\n",
        "df = df.withColumn(\"Month\", month(col(\"Date\")))\n",
        "\n",
        "# Define periods\n",
        "periods = [\n",
        "    (9, 11, \"Sep-Nov\"),\n",
        "    (12, 3, \"Dec-Mar\"),\n",
        "    (4, 6, \"Apr-Jun\")\n",
        "]\n",
        "\n",
        "for start, end, label in periods:\n",
        "    period_df = df.filter((col(\"Month\") >= start%12) & (col(\"Month\") <= end%12))\n",
        "    avg_goals = period_df.select((col(\"FTHG\") + col(\"FTAG\")).alias(\"TotalGoals\")).agg(avg(\"TotalGoals\").alias(\"AvgGoals\"))\n",
        "    print(f\"Period: {label}\")\n",
        "    avg_goals.show()"
      ],
      "metadata": {
        "colab": {
          "base_uri": "https://localhost:8080/"
        },
        "id": "vqxS-CgKpYgK",
        "outputId": "fe355902-99a7-4c75-cf60-041b03710c7e"
      },
      "execution_count": null,
      "outputs": [
        {
          "output_type": "stream",
          "name": "stdout",
          "text": [
            "Period: Sep-Nov\n",
            "+------------------+\n",
            "|          AvgGoals|\n",
            "+------------------+\n",
            "|2.7249426166794186|\n",
            "+------------------+\n",
            "\n",
            "Period: Dec-Mar\n",
            "+------------------+\n",
            "|          AvgGoals|\n",
            "+------------------+\n",
            "|2.6525066972828166|\n",
            "+------------------+\n",
            "\n",
            "Period: Apr-Jun\n",
            "+------------------+\n",
            "|          AvgGoals|\n",
            "+------------------+\n",
            "|2.7919203099059215|\n",
            "+------------------+\n",
            "\n"
          ]
        }
      ]
    }
  ]
}