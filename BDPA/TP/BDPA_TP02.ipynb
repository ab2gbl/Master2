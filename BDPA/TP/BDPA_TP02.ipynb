{
  "nbformat": 4,
  "nbformat_minor": 0,
  "metadata": {
    "colab": {
      "provenance": [],
      "authorship_tag": "ABX9TyOwe5ByYInIEetj+k9v9fbs",
      "include_colab_link": true
    },
    "kernelspec": {
      "name": "python3",
      "display_name": "Python 3"
    },
    "language_info": {
      "name": "python"
    }
  },
  "cells": [
    {
      "cell_type": "markdown",
      "metadata": {
        "id": "view-in-github",
        "colab_type": "text"
      },
      "source": [
        "<a href=\"https://colab.research.google.com/github/ab2gbl/Master2/blob/main/BDPA/TP/BDPA_TP02.ipynb\" target=\"_parent\"><img src=\"https://colab.research.google.com/assets/colab-badge.svg\" alt=\"Open In Colab\"/></a>"
      ]
    },
    {
      "cell_type": "code",
      "source": [
        "from pyspark.sql import SparkSession\n",
        "from pyspark import SparkContext\n",
        "spark = SparkSession.builder.appName(\"sparkFirstLab\").getOrCreate()\n",
        "sc = SparkContext.getOrCreate()"
      ],
      "metadata": {
        "id": "xXKrmuGuMnpG"
      },
      "execution_count": null,
      "outputs": []
    },
    {
      "cell_type": "code",
      "source": [
        "data = [(1, 1), (2, 2), (3, 3), (10, 10), (11, 11), (12, 12)]\n",
        "dataRdd = sc.parallelize(data)\n"
      ],
      "metadata": {
        "id": "DHbtYyXfNDlI"
      },
      "execution_count": null,
      "outputs": []
    },
    {
      "cell_type": "code",
      "source": [
        "import random\n",
        "\n",
        "def centroids_init(data, k):\n",
        "    data_points = data.collect()  # Collect data to driver\n",
        "    return random.sample(data_points, k)"
      ],
      "metadata": {
        "id": "23YN-mLpLn0K"
      },
      "execution_count": null,
      "outputs": []
    },
    {
      "cell_type": "code",
      "source": [
        "\n",
        "print(centroids_init(dataRdd,2))"
      ],
      "metadata": {
        "colab": {
          "base_uri": "https://localhost:8080/"
        },
        "id": "qqGmBdMPYCrO",
        "outputId": "8a0a2b4f-c55c-4dd7-9afa-d9147399b112"
      },
      "execution_count": null,
      "outputs": [
        {
          "output_type": "stream",
          "name": "stdout",
          "text": [
            "[(3, 3), (12, 12)]\n"
          ]
        }
      ]
    },
    {
      "cell_type": "code",
      "source": [
        "import math\n",
        "\n",
        "def euclidian_distance(p1, p2):\n",
        "    return math.sqrt((p1[0]-p2[0])**2+(p1[1]-p2[1])**2)\n"
      ],
      "metadata": {
        "id": "FeIRAkK_Lz7P"
      },
      "execution_count": null,
      "outputs": []
    },
    {
      "cell_type": "code",
      "source": [
        "print(euclidian_distance((1, 1), (2, 2)))"
      ],
      "metadata": {
        "colab": {
          "base_uri": "https://localhost:8080/"
        },
        "id": "-Y1DN7QLYpyx",
        "outputId": "16b70e59-9fe0-40e4-afc2-7912ac1a2bad"
      },
      "execution_count": null,
      "outputs": [
        {
          "output_type": "stream",
          "name": "stdout",
          "text": [
            "1.4142135623730951\n"
          ]
        }
      ]
    },
    {
      "cell_type": "code",
      "source": [
        "def get_label(point, centroids):\n",
        "    distances = [euclidian_distance(point, centroid) for centroid in centroids]\n",
        "    #print(distances)\n",
        "    return distances.index(min(distances))\n"
      ],
      "metadata": {
        "id": "WTvykB4XL03E"
      },
      "execution_count": null,
      "outputs": []
    },
    {
      "cell_type": "code",
      "source": [
        "print(get_label((1, 1), centroids_init(dataRdd, 2)))"
      ],
      "metadata": {
        "colab": {
          "base_uri": "https://localhost:8080/"
        },
        "id": "KPzrxnf1aihC",
        "outputId": "171e0609-c248-42f3-c549-630c5f8f89e3"
      },
      "execution_count": null,
      "outputs": [
        {
          "output_type": "stream",
          "name": "stdout",
          "text": [
            "[12.727922061357855, 2.8284271247461903]\n",
            "1\n"
          ]
        }
      ]
    },
    {
      "cell_type": "code",
      "source": [
        "def calculate_mean_point(labeled_rdd, label):\n",
        "    cluster_points = labeled_rdd.filter(lambda x: x[1] == label).map(lambda x: x[0])\n",
        "    print(cluster_points.collect())\n",
        "    count = cluster_points.count()\n",
        "    summed = cluster_points.reduce(lambda p1, p2: tuple(x + y for x, y in zip(p1, p2)))\n",
        "    return tuple(x / count for x in summed)\n"
      ],
      "metadata": {
        "id": "K4wTLpTKL1Fy"
      },
      "execution_count": null,
      "outputs": []
    },
    {
      "cell_type": "code",
      "source": [
        "\n",
        "print('dataRdd: ',dataRdd.collect())\n",
        "centroids = centroids_init(dataRdd, 2)\n",
        "print('centroids: ',centroids)\n",
        "labeledRdd = dataRdd.map(lambda point: (point, get_label(point, centroids)))\n",
        "print('labeledRdd: ',labeledRdd.collect())\n",
        "calculate_mean_point(labeledRdd,)"
      ],
      "metadata": {
        "colab": {
          "base_uri": "https://localhost:8080/"
        },
        "id": "v2rrnPmFcjzn",
        "outputId": "89507e69-d0e8-40ec-ef86-f4b1af7c2ec5"
      },
      "execution_count": null,
      "outputs": [
        {
          "output_type": "stream",
          "name": "stdout",
          "text": [
            "dataRdd:  [(1, 1), (2, 2), (3, 3), (10, 10), (11, 11), (12, 12)]\n",
            "centroids:  [(12, 12), (11, 11)]\n",
            "labeledRdd:  [((1, 1), 1), ((2, 2), 1), ((3, 3), 1), ((10, 10), 1), ((11, 11), 1), ((12, 12), 0)]\n"
          ]
        }
      ]
    },
    {
      "cell_type": "code",
      "source": [
        "def new_centroids(labeled_rdd, k):\n",
        "    return [calculate_mean_point(labeled_rdd, label) for label in range(k)]\n"
      ],
      "metadata": {
        "id": "7957_QgtL1NA"
      },
      "execution_count": null,
      "outputs": []
    },
    {
      "cell_type": "code",
      "source": [
        "\n",
        "data = [(1, 1), (2, 2), (3, 3), (10, 10), (11, 11), (12, 12)]\n",
        "dataRdd = sc.parallelize(data)\n"
      ],
      "metadata": {
        "id": "5WJg3SrUL1R8"
      },
      "execution_count": null,
      "outputs": []
    },
    {
      "cell_type": "code",
      "source": [
        "# Assign each point to the nearest cluster\n",
        "labeledRdd = dataRdd.map(lambda point: (point, get_label(point, centroids)))\n"
      ],
      "metadata": {
        "id": "56wZOpN7L1Wy"
      },
      "execution_count": null,
      "outputs": []
    },
    {
      "cell_type": "code",
      "source": [
        "max_iter = 100\n",
        "conv = False\n",
        "iter = 1\n",
        "k = 2\n",
        "\n",
        "# Initialize centroids\n",
        "centroids = centroids_init(dataRdd, k)\n",
        "old_centroids = []\n",
        "\n",
        "while iter < max_iter and not conv:\n",
        "    # Assign points to clusters\n",
        "    labeledRdd = dataRdd.map(lambda point: (point, get_label(point, centroids)))\n",
        "\n",
        "    # Calculate new centroids\n",
        "    centroids = new_centroids(labeledRdd, k)\n",
        "\n",
        "    # Check for convergence\n",
        "    conv = (old_centroids == centroids)\n",
        "    old_centroids = centroids\n",
        "\n",
        "    iter += 1\n"
      ],
      "metadata": {
        "id": "e5vHOKamM3SW"
      },
      "execution_count": null,
      "outputs": []
    },
    {
      "cell_type": "code",
      "source": [
        "final_labels = labeledRdd.collect()\n",
        "print(final_labels)\n"
      ],
      "metadata": {
        "colab": {
          "base_uri": "https://localhost:8080/"
        },
        "id": "IuDWn9ktNNO1",
        "outputId": "193a3ee7-c9f4-4b94-91b7-cbee4221c2dc"
      },
      "execution_count": null,
      "outputs": [
        {
          "output_type": "stream",
          "name": "stdout",
          "text": [
            "[((1, 1), 1), ((2, 2), 1), ((3, 3), 1), ((10, 10), 0), ((11, 11), 0), ((12, 12), 0)]\n"
          ]
        }
      ]
    },
    {
      "cell_type": "code",
      "source": [
        "import matplotlib.pyplot as plt\n",
        "\n",
        "for label in range(k):\n",
        "    cluster_points = [point for point, lbl in final_labels if lbl == label]\n",
        "    x, y = zip(*cluster_points)\n",
        "    plt.scatter(x, y, label=f'Cluster {label}')\n",
        "\n",
        "plt.scatter(*zip(*centroids), color='red', marker='x', label='Centroids')\n",
        "plt.legend()\n",
        "plt.show()\n"
      ],
      "metadata": {
        "colab": {
          "base_uri": "https://localhost:8080/",
          "height": 430
        },
        "id": "dzoTV7bLNP9E",
        "outputId": "a41dcd4e-387e-4a4b-da7f-d9465bea0e76"
      },
      "execution_count": null,
      "outputs": [
        {
          "output_type": "display_data",
          "data": {
            "text/plain": [
              "<Figure size 640x480 with 1 Axes>"
            ],
            "image/png": "[encoded data removed]"
          },
          "metadata": {}
        }
      ]
    }
  ]
}