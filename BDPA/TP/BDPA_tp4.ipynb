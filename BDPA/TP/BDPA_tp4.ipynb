{
  "nbformat": 4,
  "nbformat_minor": 0,
  "metadata": {
    "colab": {
      "provenance": [],
      "authorship_tag": "ABX9TyPmuKISjbPbryHPaPl6i+ou",
      "include_colab_link": true
    },
    "kernelspec": {
      "name": "python3",
      "display_name": "Python 3"
    },
    "language_info": {
      "name": "python"
    }
  },
  "cells": [
    {
      "cell_type": "markdown",
      "metadata": {
        "id": "view-in-github",
        "colab_type": "text"
      },
      "source": [
        "<a href=\"https://colab.research.google.com/github/ab2gbl/Master2/blob/main/BDPA/TP/BDPA_tp4.ipynb\" target=\"_parent\"><img src=\"https://colab.research.google.com/assets/colab-badge.svg\" alt=\"Open In Colab\"/></a>"
      ]
    },
    {
      "cell_type": "code",
      "source": [
        "#!unzip ./weatherHistory.csv.zip"
      ],
      "metadata": {
        "id": "7jFcclq3LLQ6"
      },
      "execution_count": null,
      "outputs": []
    },
    {
      "cell_type": "code",
      "source": [
        "import pandas as pd\n",
        "import numpy as np"
      ],
      "metadata": {
        "id": "TPCu5HqMPOq9"
      },
      "execution_count": null,
      "outputs": []
    },
    {
      "cell_type": "code",
      "execution_count": null,
      "metadata": {
        "id": "zOY1e62kIy4i"
      },
      "outputs": [],
      "source": [
        "from pyspark.sql import SparkSession\n",
        "\n",
        "spark = SparkSession.builder.appName(\"WeatherPrediction\").getOrCreate()\n",
        "\n",
        "file_path = \"./weatherHistory.csv\"\n",
        "\n",
        "df = spark.read.csv(file_path, header=True, inferSchema=True)\n",
        "df.printSchema()\n"
      ]
    },
    {
      "cell_type": "code",
      "source": [
        "from pyspark.ml.feature import StringIndexer\n",
        "\n",
        "indexer = StringIndexer(inputCol=\"Summary\", outputCol=\"SummaryIndex\")\n",
        "df = indexer.fit(df).transform(df)\n",
        "\n",
        "indexer2 = StringIndexer(inputCol=\"Precip Type\", outputCol=\"PrecipTypeIndex\")\n",
        "df = indexer2.fit(df).transform(df)\n",
        "\n",
        "indexer3 = StringIndexer(inputCol=\"Daily Summary\", outputCol=\"DailySummaryIndex\")\n",
        "df = indexer3.fit(df).transform(df)\n",
        "\n",
        "df.printSchema()\n"
      ],
      "metadata": {
        "id": "vNvojhCwL9yh"
      },
      "execution_count": null,
      "outputs": []
    },
    {
      "cell_type": "code",
      "source": [
        "df.dtypes"
      ],
      "metadata": {
        "id": "W-ih3e1VN4NC"
      },
      "execution_count": null,
      "outputs": []
    },
    {
      "cell_type": "code",
      "source": [
        "from pyspark.sql.functions import col\n",
        "\n",
        "columns_to_cast = ['Temperature (C)', 'Apparent Temperature (C)', 'Humidity', 'Wind Speed (km/h)',\n",
        "                   'Wind Bearing (degrees)', 'Visibility (km)', 'Loud Cover', 'Pressure (millibars)']\n",
        "\n",
        "for col_name in columns_to_cast:\n",
        "    df = df.withColumn(col_name, col(col_name).cast(\"float\"))\n"
      ],
      "metadata": {
        "id": "fzzcjzABMxT2"
      },
      "execution_count": null,
      "outputs": []
    },
    {
      "cell_type": "code",
      "source": [
        "from pyspark.ml.feature import VectorAssembler\n",
        "\n",
        "feature_columns = [ 'Humidity', 'Wind Speed (km/h)',\n",
        "                   'Wind Bearing (degrees)', 'Visibility (km)', 'Loud Cover', 'Pressure (millibars)',\n",
        "                   'SummaryIndex', 'PrecipTypeIndex']\n",
        "\n",
        "assembler = VectorAssembler(inputCols=feature_columns, outputCol=\"weather_features\")\n",
        "\n",
        "df = assembler.transform(df)\n",
        "\n"
      ],
      "metadata": {
        "id": "5LzfWEy9QHPO"
      },
      "execution_count": null,
      "outputs": []
    },
    {
      "cell_type": "code",
      "source": [
        "final_df = df.select(\"weather_features\", \"Temperature (C)\")\n",
        "final_df.show(5)\n"
      ],
      "metadata": {
        "id": "sJ7jFyc1Qqyb"
      },
      "execution_count": null,
      "outputs": []
    },
    {
      "cell_type": "markdown",
      "source": [
        "# Linear Regression"
      ],
      "metadata": {
        "id": "pqUPDvZWZIV0"
      }
    },
    {
      "cell_type": "code",
      "source": [
        "from pyspark.ml.regression import LinearRegression\n",
        "\n",
        "train_data, test_data = final_df.randomSplit([0.7, 0.3], seed=42)\n",
        "\n",
        "lr = LinearRegression(featuresCol=\"weather_features\", labelCol=\"Temperature (C)\")\n",
        "\n",
        "model = lr.fit(train_data)\n",
        "\n",
        "print(f\"Coefficients: {model.coefficients}\")\n",
        "print(f\"Intercept: {model.intercept}\")\n"
      ],
      "metadata": {
        "colab": {
          "base_uri": "https://localhost:8080/"
        },
        "id": "qUOj5aIcQ7AU",
        "outputId": "79b94d1d-1ee6-4e34-c733-9e6757c711e6"
      },
      "execution_count": null,
      "outputs": [
        {
          "output_type": "stream",
          "name": "stdout",
          "text": [
            "Coefficients: [-26.679999420390136,-0.19812815348079615,0.0021767120057714045,0.17144397880874138,0.0,-0.0010110169516249537,-0.20270512656588377,-10.584678461460065]\n",
            "Intercept: 34.088073550271496\n"
          ]
        }
      ]
    },
    {
      "cell_type": "code",
      "source": [
        "from pyspark.ml.evaluation import RegressionEvaluator\n",
        "\n",
        "predictions = model.transform(test_data)\n",
        "\n",
        "evaluator = RegressionEvaluator(labelCol=\"Temperature (C)\", predictionCol=\"prediction\", metricName=\"r2\")\n",
        "r2 = evaluator.evaluate(predictions)\n",
        "\n",
        "print(f\"R2 Metric: {r2}\")\n"
      ],
      "metadata": {
        "colab": {
          "base_uri": "https://localhost:8080/"
        },
        "id": "UXLFfsigRK8t",
        "outputId": "6aced79e-4e28-4ec5-dd08-529080425f29"
      },
      "execution_count": null,
      "outputs": [
        {
          "output_type": "stream",
          "name": "stdout",
          "text": [
            "R2 Metric: 0.5828526417727735\n"
          ]
        }
      ]
    },
    {
      "cell_type": "markdown",
      "source": [
        "# optimise"
      ],
      "metadata": {
        "id": "sm-1ImXSZW8L"
      }
    },
    {
      "cell_type": "code",
      "source": [
        "from pyspark.ml.regression import RandomForestRegressor,GBTRegressor\n",
        "\n",
        "rf = RandomForestRegressor(featuresCol=\"weather_features\", labelCol=\"Temperature (C)\")\n",
        "rf_model = rf.fit(train_data)\n",
        "print(rf_model.featureImportances)\n"
      ],
      "metadata": {
        "colab": {
          "base_uri": "https://localhost:8080/"
        },
        "id": "IfCrf8NqUeET",
        "outputId": "ebcc8eae-5129-4cb8-c9df-b24174827959"
      },
      "execution_count": null,
      "outputs": [
        {
          "output_type": "stream",
          "name": "stdout",
          "text": [
            "(8,[0,1,2,3,5,6,7],[0.43153404868943895,0.012017932554312409,0.0007169956648431816,0.13930405072834864,0.07473878217102092,0.04444931249705128,0.2972388776949844])\n"
          ]
        }
      ]
    },
    {
      "cell_type": "code",
      "source": [
        "from pyspark.ml.feature import StandardScaler\n",
        "from pyspark.ml.regression import GBTRegressor\n",
        "from pyspark.ml.evaluation import RegressionEvaluator\n",
        "\n",
        "scaler = StandardScaler(inputCol=\"weather_features\", outputCol=\"scaled_features\", withStd=True, withMean=True)\n",
        "\n",
        "scaled_df = scaler.fit(final_df).transform(final_df)\n",
        "\n",
        "train_data, test_data = scaled_df.randomSplit([0.7, 0.3], seed=42)\n",
        "\n",
        "gbt = GBTRegressor(featuresCol=\"scaled_features\", labelCol=\"Temperature (C)\", maxIter=50)\n",
        "gbt_model = gbt.fit(train_data)\n",
        "\n",
        "test_predictions = gbt_model.transform(test_data)\n",
        "\n",
        "evaluator = RegressionEvaluator(labelCol=\"Temperature (C)\", predictionCol=\"prediction\", metricName=\"r2\")\n",
        "r2 = evaluator.evaluate(test_predictions)\n",
        "\n",
        "print(f\"R2 after scaling and using GBT: {r2}\")\n"
      ],
      "metadata": {
        "colab": {
          "base_uri": "https://localhost:8080/"
        },
        "id": "YoHs9dKwU-AQ",
        "outputId": "1673a233-d9a0-4c5b-8251-b7bcbcdc295d"
      },
      "execution_count": null,
      "outputs": [
        {
          "output_type": "stream",
          "name": "stdout",
          "text": [
            "R2 after scaling and using GBT: 0.7375447236877823\n"
          ]
        }
      ]
    },
    {
      "cell_type": "code",
      "source": [
        "\n",
        "from pyspark.ml.tuning import ParamGridBuilder, CrossValidator\n",
        "\n",
        "# Scale features\n",
        "scaler = StandardScaler(inputCol=\"weather_features\", outputCol=\"scaled_features\", withStd=True, withMean=True)\n",
        "final_df = scaler.fit(final_df).transform(final_df)\n",
        "\n",
        "# 2. Split Data\n",
        "train_data, test_data = final_df.randomSplit([0.7, 0.3], seed=42)\n",
        "\n",
        "# 3. Model Training with Hyperparameter Tuning\n",
        "gbt = GBTRegressor(featuresCol=\"scaled_features\", labelCol=\"Temperature (C)\", maxIter=50)\n",
        "\n",
        "# Parameter grid\n",
        "param_grid = ParamGridBuilder() \\\n",
        "    .addGrid(gbt.maxDepth, [5, 10, 15]) \\\n",
        "    .addGrid(gbt.maxIter, [50, 100]) \\\n",
        "    .addGrid(gbt.stepSize, [0.05, 0.1]) \\\n",
        "    .build()\n",
        "\n",
        "# Cross-validation\n",
        "evaluator = RegressionEvaluator(labelCol=\"Temperature (C)\", predictionCol=\"prediction\", metricName=\"r2\")\n",
        "crossval = CrossValidator(estimator=gbt, estimatorParamMaps=param_grid, evaluator=evaluator, numFolds=5)\n",
        "\n",
        "# Train the model\n",
        "cv_model = crossval.fit(train_data)\n",
        "\n",
        "# 4. Model Evaluation\n",
        "best_model = cv_model.bestModel\n",
        "test_predictions = best_model.transform(test_data)\n",
        "r2 = evaluator.evaluate(test_predictions)\n",
        "\n",
        "# Results\n",
        "print(f\"Optimized R² on test data: {r2}\")"
      ],
      "metadata": {
        "id": "pIGi1r-vWtVc"
      },
      "execution_count": null,
      "outputs": []
    }
  ]
}