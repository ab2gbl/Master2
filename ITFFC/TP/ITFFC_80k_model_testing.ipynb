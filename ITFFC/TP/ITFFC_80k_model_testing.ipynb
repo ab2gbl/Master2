{
  "cells": [
    {
      "cell_type": "markdown",
      "metadata": {
        "id": "view-in-github",
        "colab_type": "text"
      },
      "source": [
        "<a href=\"https://colab.research.google.com/github/ab2gbl/Master2/blob/main/ITFFC/TP/ITFFC_80k_model_testing.ipynb\" target=\"_parent\"><img src=\"https://colab.research.google.com/assets/colab-badge.svg\" alt=\"Open In Colab\"/></a>"
      ]
    },
    {
      "cell_type": "code",
      "execution_count": null,
      "metadata": {
        "id": "9nAZC1qYNcPp"
      },
      "outputs": [],
      "source": [
        "#!git clone https://github.com/liamdugan/human-detection.git"
      ]
    },
    {
      "cell_type": "code",
      "source": [
        "import torch\n",
        "from transformers import RobertaTokenizer, RobertaForSequenceClassification, Trainer, TrainingArguments\n",
        "from sklearn.model_selection import train_test_split\n",
        "from nltk.tokenize import sent_tokenize\n",
        "import pandas as pd\n",
        "import numpy as np"
      ],
      "metadata": {
        "id": "trJr1IpyZdct"
      },
      "execution_count": null,
      "outputs": []
    },
    {
      "cell_type": "code",
      "execution_count": null,
      "metadata": {
        "id": "uVoP28LJCz28"
      },
      "outputs": [],
      "source": [
        "!pip install opendatasets"
      ]
    },
    {
      "cell_type": "markdown",
      "source": [
        "# ROFT dataset"
      ],
      "metadata": {
        "id": "nTBOYhV8thl5"
      }
    },
    {
      "cell_type": "code",
      "execution_count": null,
      "metadata": {
        "id": "L0V6KMCWPyCr"
      },
      "outputs": [],
      "source": [
        "!cp /content/drive/MyDrive/Master2/ITFFC/roft.csv ./roft.csv"
      ]
    },
    {
      "cell_type": "code",
      "execution_count": null,
      "metadata": {
        "colab": {
          "base_uri": "https://localhost:8080/"
        },
        "id": "PGRBBoTDbEsg",
        "outputId": "3e00f49c-39a1-470f-bc38-998c9d43b25a"
      },
      "outputs": [
        {
          "output_type": "stream",
          "name": "stdout",
          "text": [
            "                               date      model  dataset  annotator group  \\\n",
            "0  2021-08-31 17:11:39.095000+00:00  finetuned  Recipes       1666     A   \n",
            "1  2021-09-06 21:54:48.912000+00:00  finetuned  Recipes       1666     A   \n",
            "2  2021-09-06 21:55:07.069000+00:00  finetuned  Recipes       1666     A   \n",
            "3  2021-09-06 21:58:44.944000+00:00  finetuned  Recipes       1666     A   \n",
            "4  2021-09-06 21:59:16.230000+00:00  finetuned  Recipes       1666     A   \n",
            "\n",
            "   dec_strat_value  predicted_boundary_index  true_boundary_index  points  \\\n",
            "0              0.4                         0                    2       0   \n",
            "1              0.4                         8                    8       5   \n",
            "2              0.4                         0                    7       0   \n",
            "3              0.4                         1                    7       0   \n",
            "4              0.4                         1                    2       0   \n",
            "\n",
            "                    reason  prompt  \\\n",
            "0  ['9123971792800820313']   13803   \n",
            "1           ['irrelevant']   20719   \n",
            "2           ['irrelevant']   20365   \n",
            "3   ['326860638652886185']   20240   \n",
            "4           ['repetition']   13888   \n",
            "\n",
            "                                         prompt_body  generation  \\\n",
            "0  HOW TO MAKE: Baby Shell Pasta Salad With Kalam...       22877   \n",
            "1  HOW TO MAKE: Nest Cookies\\nIngredients:\\n1 12 ...       26444   \n",
            "2  HOW TO MAKE: Pink Lemonade Cupcakes\\nIngredien...       26089   \n",
            "3  HOW TO MAKE: Beef Stroganaff\\nIngredients:\\n1 ...       25963   \n",
            "4  HOW TO MAKE: One-Pan Creamy Chicken and Veggie...       23225   \n",
            "\n",
            "                                            gen_body  recipe_familiarity  \\\n",
            "0  Meanwhile, combine all dressing ingredients in...                   2   \n",
            "1  Photograph by fans blistering bens down!_SEP_F...                   2   \n",
            "2  Fill prepared pans two-thirds full._SEP_Bake f...                   2   \n",
            "3  I have added some green peppers, red peppers, ...                   2   \n",
            "4  Add frozen veggies and pasta._SEP_Pour in chic...                   2   \n",
            "\n",
            "   news_familiarity  stories_familiarity  gen_familiarity native_speaker  \\\n",
            "0                 3                    5                2            Yes   \n",
            "1                 3                    5                2            Yes   \n",
            "2                 3                    5                2            Yes   \n",
            "3                 3                    5                2            Yes   \n",
            "4                 3                    5                2            Yes   \n",
            "\n",
            "  read_guide  \n",
            "0        NaN  \n",
            "1        NaN  \n",
            "2        NaN  \n",
            "3        NaN  \n",
            "4        NaN  \n",
            "date                           0\n",
            "model                          0\n",
            "dataset                        0\n",
            "annotator                      0\n",
            "group                          0\n",
            "dec_strat_value                0\n",
            "predicted_boundary_index       0\n",
            "true_boundary_index            0\n",
            "points                         0\n",
            "reason                         0\n",
            "prompt                         0\n",
            "prompt_body                    0\n",
            "generation                     0\n",
            "gen_body                    3397\n",
            "recipe_familiarity             0\n",
            "news_familiarity               0\n",
            "stories_familiarity            0\n",
            "gen_familiarity                0\n",
            "native_speaker                 0\n",
            "read_guide                  6089\n",
            "dtype: int64\n"
          ]
        }
      ],
      "source": [
        "import pandas as pd\n",
        "\n",
        "# Load the RoFT dataset\n",
        "roft_df = pd.read_csv(\"roft.csv\")\n",
        "\n",
        "# Inspect the first few rows\n",
        "print(roft_df.head())\n",
        "\n",
        "# Check for missing values\n",
        "print(roft_df.isnull().sum())"
      ]
    },
    {
      "cell_type": "code",
      "execution_count": null,
      "metadata": {
        "id": "TnfBLf53bWRX",
        "colab": {
          "base_uri": "https://localhost:8080/"
        },
        "outputId": "46440f98-c339-4369-f492-a9ef4276c6cd"
      },
      "outputs": [
        {
          "output_type": "stream",
          "name": "stderr",
          "text": [
            "<ipython-input-25-bf88d409cc97>:5: SettingWithCopyWarning: \n",
            "A value is trying to be set on a copy of a slice from a DataFrame.\n",
            "Try using .loc[row_indexer,col_indexer] = value instead\n",
            "\n",
            "See the caveats in the documentation: https://pandas.pydata.org/pandas-docs/stable/user_guide/indexing.html#returning-a-view-versus-a-copy\n",
            "  roft_df[\"label\"] = roft_df[\"model\"].apply(lambda x: 1 if x != \"baseline\" else 0)\n"
          ]
        }
      ],
      "source": [
        "# Drop rows where `gen_body` is NaN\n",
        "roft_df = roft_df.dropna(subset=[\"gen_body\"])\n",
        "\n",
        "# Create a binary label column: AI-generated (1) or Human-written (0)\n",
        "roft_df[\"label\"] = roft_df[\"model\"].apply(lambda x: 1 if x != \"baseline\" else 0)\n",
        "\n",
        "# Select only the relevant columns\n",
        "roft_df = roft_df[[\"gen_body\", \"label\"]]\n",
        "\n",
        "roft_df.rename(columns={'gen_body': 'text'}, inplace=True)"
      ]
    },
    {
      "cell_type": "code",
      "execution_count": null,
      "metadata": {
        "colab": {
          "base_uri": "https://localhost:8080/"
        },
        "id": "Km3RT_eiHhBA",
        "outputId": "edf98278-d4c4-449d-c522-fd6792149331"
      },
      "outputs": [
        {
          "output_type": "stream",
          "name": "stdout",
          "text": [
            "Number of rows with label=0: 196\n",
            "Number of rows with label=1: 24021\n"
          ]
        }
      ],
      "source": [
        "num_rows_label_0 = roft_df[roft_df[\"label\"] == 0].shape[0]\n",
        "num_rows_label_1 = roft_df[roft_df[\"label\"] == 1].shape[0]\n",
        "\n",
        "\n",
        "print(f\"Number of rows with label=0: {num_rows_label_0}\")\n",
        "print(f\"Number of rows with label=1: {num_rows_label_1}\")"
      ]
    },
    {
      "cell_type": "markdown",
      "source": [
        "# Augmented data for LLM - Detect AI Generated Text"
      ],
      "metadata": {
        "id": "tZdQZxqQtn19"
      }
    },
    {
      "cell_type": "code",
      "source": [
        "import opendatasets as od\n",
        "od.download(\"https://www.kaggle.com/datasets/jdragonxherrera/augmented-data-for-llm-detect-ai-generated-text\")\n",
        "#https://www.kaggle.com/datasets/ratthachat/writing-prompts"
      ],
      "metadata": {
        "colab": {
          "base_uri": "https://localhost:8080/"
        },
        "id": "qa7ph5Cisp8W",
        "outputId": "73072af0-ee23-4a09-a2ca-46dd9f821465"
      },
      "execution_count": null,
      "outputs": [
        {
          "output_type": "stream",
          "name": "stdout",
          "text": [
            "Please provide your Kaggle credentials to download this dataset. Learn more: http://bit.ly/kaggle-creds\n",
            "Your Kaggle username: abdessamiguebli\n",
            "Your Kaggle Key: ··········\n",
            "Dataset URL: https://www.kaggle.com/datasets/jdragonxherrera/augmented-data-for-llm-detect-ai-generated-text\n",
            "Downloading augmented-data-for-llm-detect-ai-generated-text.zip to ./augmented-data-for-llm-detect-ai-generated-text\n"
          ]
        },
        {
          "output_type": "stream",
          "name": "stderr",
          "text": [
            "100%|██████████| 314M/314M [00:03<00:00, 100MB/s]\n"
          ]
        },
        {
          "output_type": "stream",
          "name": "stdout",
          "text": [
            "\n"
          ]
        }
      ]
    },
    {
      "cell_type": "code",
      "source": [
        "aug_train = pd.read_csv('/content/augmented-data-for-llm-detect-ai-generated-text/final_train.csv')\n",
        "aug_test = pd.read_csv('/content/augmented-data-for-llm-detect-ai-generated-text/final_test.csv')\n"
      ],
      "metadata": {
        "id": "ibgaNQTu6ZbT"
      },
      "execution_count": null,
      "outputs": []
    },
    {
      "cell_type": "code",
      "source": [
        "aug_train.columns"
      ],
      "metadata": {
        "colab": {
          "base_uri": "https://localhost:8080/"
        },
        "id": "wmvDbOucs5lf",
        "outputId": "323b0e15-0421-4bcc-d18a-40f920c6eb77"
      },
      "execution_count": null,
      "outputs": [
        {
          "output_type": "execute_result",
          "data": {
            "text/plain": [
              "Index(['text', 'label'], dtype='object')"
            ]
          },
          "metadata": {},
          "execution_count": 12
        }
      ]
    },
    {
      "cell_type": "code",
      "source": [
        "aug_df = pd.concat([aug_train, aug_test], ignore_index=True)"
      ],
      "metadata": {
        "id": "x6rZJU4q78yI"
      },
      "execution_count": null,
      "outputs": []
    },
    {
      "cell_type": "code",
      "source": [
        "aug_df.count()"
      ],
      "metadata": {
        "colab": {
          "base_uri": "https://localhost:8080/",
          "height": 147
        },
        "id": "tlSRM45E5tcA",
        "outputId": "bb907594-9c1a-4605-a03d-9fdb26afe5ef"
      },
      "execution_count": null,
      "outputs": [
        {
          "output_type": "execute_result",
          "data": {
            "text/plain": [
              "text     433564\n",
              "label    433564\n",
              "dtype: int64"
            ],
            "text/html": [
              "<div>\n",
              "<style scoped>\n",
              "    .dataframe tbody tr th:only-of-type {\n",
              "        vertical-align: middle;\n",
              "    }\n",
              "\n",
              "    .dataframe tbody tr th {\n",
              "        vertical-align: top;\n",
              "    }\n",
              "\n",
              "    .dataframe thead th {\n",
              "        text-align: right;\n",
              "    }\n",
              "</style>\n",
              "<table border=\"1\" class=\"dataframe\">\n",
              "  <thead>\n",
              "    <tr style=\"text-align: right;\">\n",
              "      <th></th>\n",
              "      <th>0</th>\n",
              "    </tr>\n",
              "  </thead>\n",
              "  <tbody>\n",
              "    <tr>\n",
              "      <th>text</th>\n",
              "      <td>433564</td>\n",
              "    </tr>\n",
              "    <tr>\n",
              "      <th>label</th>\n",
              "      <td>433564</td>\n",
              "    </tr>\n",
              "  </tbody>\n",
              "</table>\n",
              "</div><br><label><b>dtype:</b> int64</label>"
            ]
          },
          "metadata": {},
          "execution_count": 15
        }
      ]
    },
    {
      "cell_type": "code",
      "source": [
        "aug_df['label'] = aug_df['label'].astype(int)"
      ],
      "metadata": {
        "id": "qzIbLQCT8fVA"
      },
      "execution_count": null,
      "outputs": []
    },
    {
      "cell_type": "code",
      "source": [
        "aug_df = aug_df.dropna(how='any')"
      ],
      "metadata": {
        "id": "4vmqR7Kv8niL"
      },
      "execution_count": null,
      "outputs": []
    },
    {
      "cell_type": "code",
      "source": [
        "aug_df.drop_duplicates(inplace=True)"
      ],
      "metadata": {
        "id": "EGAPY49m2CDN"
      },
      "execution_count": null,
      "outputs": []
    },
    {
      "cell_type": "code",
      "source": [
        "aug_df['label'].value_counts()"
      ],
      "metadata": {
        "colab": {
          "base_uri": "https://localhost:8080/",
          "height": 178
        },
        "id": "6ejGqEze8dGB",
        "outputId": "8f28616f-7b43-4fed-9e3e-cf2e7f978ee9"
      },
      "execution_count": null,
      "outputs": [
        {
          "output_type": "execute_result",
          "data": {
            "text/plain": [
              "label\n",
              "0    277981\n",
              "1    155565\n",
              "Name: count, dtype: int64"
            ],
            "text/html": [
              "<div>\n",
              "<style scoped>\n",
              "    .dataframe tbody tr th:only-of-type {\n",
              "        vertical-align: middle;\n",
              "    }\n",
              "\n",
              "    .dataframe tbody tr th {\n",
              "        vertical-align: top;\n",
              "    }\n",
              "\n",
              "    .dataframe thead th {\n",
              "        text-align: right;\n",
              "    }\n",
              "</style>\n",
              "<table border=\"1\" class=\"dataframe\">\n",
              "  <thead>\n",
              "    <tr style=\"text-align: right;\">\n",
              "      <th></th>\n",
              "      <th>count</th>\n",
              "    </tr>\n",
              "    <tr>\n",
              "      <th>label</th>\n",
              "      <th></th>\n",
              "    </tr>\n",
              "  </thead>\n",
              "  <tbody>\n",
              "    <tr>\n",
              "      <th>0</th>\n",
              "      <td>277981</td>\n",
              "    </tr>\n",
              "    <tr>\n",
              "      <th>1</th>\n",
              "      <td>155565</td>\n",
              "    </tr>\n",
              "  </tbody>\n",
              "</table>\n",
              "</div><br><label><b>dtype:</b> int64</label>"
            ]
          },
          "metadata": {},
          "execution_count": 27
        }
      ]
    },
    {
      "cell_type": "markdown",
      "source": [
        "# writing prompts dataset\n"
      ],
      "metadata": {
        "id": "b0zaAcOYtVdU"
      }
    },
    {
      "cell_type": "code",
      "execution_count": null,
      "metadata": {
        "colab": {
          "base_uri": "https://localhost:8080/"
        },
        "id": "UtIsXkZzDuCJ",
        "outputId": "92165695-2017-4f96-ee69-e6115b2dafd7"
      },
      "outputs": [
        {
          "metadata": {
            "tags": null
          },
          "name": "stdout",
          "output_type": "stream",
          "text": [
            "Please provide your Kaggle credentials to download this dataset. Learn more: http://bit.ly/kaggle-creds\n",
            "Your Kaggle username:"
          ]
        }
      ],
      "source": [
        "import opendatasets as od\n",
        "od.download(\"https://www.kaggle.com/datasets/ratthachat/writing-prompts\")\n",
        "# 9aba4703ac130612b1bc4c2d83ed8627\n",
        "#https://www.kaggle.com/datasets/ratthachat/writing-prompts"
      ]
    },
    {
      "cell_type": "code",
      "execution_count": null,
      "metadata": {
        "colab": {
          "base_uri": "https://localhost:8080/"
        },
        "id": "02hY3IUBEvq8",
        "outputId": "64aec241-3e9b-40d6-f197-3288dc9f0cd6"
      },
      "outputs": [
        {
          "output_type": "stream",
          "name": "stdout",
          "text": [
            "Number of prompts: 272600\n",
            "Number of stories: 272600\n"
          ]
        }
      ],
      "source": [
        "# Load the prompts and stories\n",
        "with open(\"./writing-prompts/writingPrompts/train.wp_source\", \"r\") as f:\n",
        "    prompts = f.readlines()\n",
        "\n",
        "with open(\"./writing-prompts/writingPrompts/train.wp_target\", \"r\") as f:\n",
        "    stories = f.readlines()\n",
        "\n",
        "print(f\"Number of prompts: {len(prompts)}\")\n",
        "print(f\"Number of stories: {len(stories)}\")"
      ]
    },
    {
      "cell_type": "code",
      "execution_count": null,
      "metadata": {
        "id": "HFPtTHEJFd3N"
      },
      "outputs": [],
      "source": [
        "import pandas as pd\n",
        "\n",
        "# Create a DataFrame\n",
        "human_data = pd.DataFrame({\n",
        "    \"text\": stories,  # Use stories as human-generated text\n",
        "    \"label\": 0        # Human-generated\n",
        "})"
      ]
    },
    {
      "cell_type": "markdown",
      "source": [
        "# Merge datasets"
      ],
      "metadata": {
        "id": "FvcVdE8FBIqL"
      }
    },
    {
      "cell_type": "code",
      "execution_count": null,
      "metadata": {
        "id": "HKpDMN90Fk9h"
      },
      "outputs": [],
      "source": [
        "# Assuming your RoFT dataset is in a DataFrame `roft_data`\n",
        "df = pd.concat([roft_df, aug_df, human_data], ignore_index=True)"
      ]
    },
    {
      "cell_type": "code",
      "source": [
        "df = aug_df.dropna(how='any')\n",
        "df.drop_duplicates(inplace=True)"
      ],
      "metadata": {
        "id": "pVogZNltAEBb"
      },
      "execution_count": null,
      "outputs": []
    },
    {
      "cell_type": "code",
      "execution_count": null,
      "metadata": {
        "colab": {
          "base_uri": "https://localhost:8080/"
        },
        "id": "-fdnZKAQHSj2",
        "outputId": "03d174ff-e82a-483e-f390-426bb7dd73dc"
      },
      "outputs": [
        {
          "output_type": "stream",
          "name": "stdout",
          "text": [
            "label\n",
            "0    277981\n",
            "1    155565\n",
            "Name: count, dtype: int64\n",
            "Columns in balanced_data:\n",
            "Index(['text', 'label'], dtype='object')\n"
          ]
        }
      ],
      "source": [
        "print(df['label'].value_counts())\n",
        "print(\"Columns in balanced_data:\")\n",
        "print(df.columns)"
      ]
    },
    {
      "cell_type": "code",
      "source": [
        "df.to_csv('AiVsHuman.csv')"
      ],
      "metadata": {
        "id": "BTmeNGEuAReT"
      },
      "execution_count": null,
      "outputs": []
    },
    {
      "cell_type": "code",
      "source": [
        "#!cp ./AiVsHuman.csv /content/drive/MyDrive/Master2/ITFFC/AiVsHuman.csv"
      ],
      "metadata": {
        "id": "ROiF-GenAwJK"
      },
      "execution_count": null,
      "outputs": []
    },
    {
      "cell_type": "markdown",
      "source": [
        "# model trainning"
      ],
      "metadata": {
        "id": "SVeLgIufBQR7"
      }
    },
    {
      "cell_type": "code",
      "source": [
        "!cp /content/drive/MyDrive/Master2/ITFFC/AiVsHuman.csv ./AiVsHuman.csv"
      ],
      "metadata": {
        "id": "q-KGFttjA-ZM"
      },
      "execution_count": null,
      "outputs": []
    },
    {
      "cell_type": "code",
      "source": [
        "import pandas as pd\n",
        "df = pd.read_csv(\"./AiVsHuman.csv\")\n",
        "print(df['label'].value_counts())"
      ],
      "metadata": {
        "colab": {
          "base_uri": "https://localhost:8080/"
        },
        "id": "8XLcUf_OBe_5",
        "outputId": "dcfef470-454c-44d5-c12b-0152513f50b5"
      },
      "execution_count": null,
      "outputs": [
        {
          "output_type": "stream",
          "name": "stdout",
          "text": [
            "label\n",
            "0    277981\n",
            "1    155565\n",
            "Name: count, dtype: int64\n"
          ]
        }
      ]
    },
    {
      "cell_type": "code",
      "source": [
        "# Separate the dataset by label\n",
        "df_label_0 = df[df['label'] == 0]\n",
        "df_label_1 = df[df['label'] == 1]\n",
        "\n",
        "# Sample 80,000 rows from each label (if there are enough rows)\n",
        "df_label_1_sampled = df_label_1.sample(n=100000, random_state=42)\n",
        "df_label_0_sampled = df_label_0.sample(n=100000, random_state=42)\n",
        "\n",
        "# Concatenate the sampled data back together\n",
        "df_balanced = pd.concat([df_label_0_sampled, df_label_1_sampled])\n",
        "\n",
        "# Shuffle the resulting dataset\n",
        "df_balanced = df_balanced.sample(frac=1, random_state=42).reset_index(drop=True)\n",
        "\n",
        "# Check the new label distribution\n",
        "print(df_balanced['label'].value_counts())"
      ],
      "metadata": {
        "colab": {
          "base_uri": "https://localhost:8080/"
        },
        "id": "txj8daM0EBIQ",
        "outputId": "d94f03ad-46af-404e-a003-716aeb7835ba"
      },
      "execution_count": null,
      "outputs": [
        {
          "output_type": "stream",
          "name": "stdout",
          "text": [
            "label\n",
            "1    100000\n",
            "0    100000\n",
            "Name: count, dtype: int64\n"
          ]
        }
      ]
    },
    {
      "cell_type": "code",
      "source": [
        "df = df_balanced"
      ],
      "metadata": {
        "id": "GOQFIQaFELya"
      },
      "execution_count": null,
      "outputs": []
    },
    {
      "cell_type": "code",
      "execution_count": null,
      "metadata": {
        "id": "KlNaGaAcbZK0",
        "colab": {
          "base_uri": "https://localhost:8080/"
        },
        "outputId": "0ed3e1c6-4555-43db-daaf-8c09789b8303"
      },
      "outputs": [
        {
          "output_type": "stream",
          "name": "stdout",
          "text": [
            "This is a test text with a URL and some HTML bold\n"
          ]
        }
      ],
      "source": [
        "import re\n",
        "\n",
        "def clean_text(text):\n",
        "    # Remove URLs\n",
        "    text = re.sub(r\"http\\S+|www\\S+|https\\S+\", '', text, flags=re.MULTILINE)\n",
        "\n",
        "    # Remove HTML tags\n",
        "    text = re.sub(r\"<.*?>\", '', text)\n",
        "\n",
        "    # Remove special characters and numbers\n",
        "    text = re.sub(r\"[^A-Za-z\\s]\", '', text)\n",
        "\n",
        "    # Remove extra whitespace\n",
        "    text = re.sub(r\"\\s+\", ' ', text).strip()\n",
        "\n",
        "    return text\n",
        "\n",
        "\n",
        "cleaned_text = clean_text(\"This is a test text with a URL: https://example.com and some HTML <b>bold</b>.\")\n",
        "print(cleaned_text)\n",
        "\n",
        "cleaned_text = cleaned_text.lower()\n",
        "\n",
        "\n",
        "\n",
        "\n"
      ]
    },
    {
      "cell_type": "code",
      "source": [
        "\n",
        "from nltk.stem import WordNetLemmatizer\n",
        "nltk.download('wordnet')\n",
        "\n",
        "lemmatizer = WordNetLemmatizer()\n",
        "\n",
        "def lemmatize_text(text):\n",
        "    return ' '.join([lemmatizer.lemmatize(word) for word in text.split()])\n",
        "\n",
        "cleaned_text = lemmatize_text(cleaned_text)\n",
        "print(cleaned_text)"
      ],
      "metadata": {
        "colab": {
          "base_uri": "https://localhost:8080/"
        },
        "id": "vcAjHSKrpd9S",
        "outputId": "8633895c-61e1-483e-e6de-e95a6c614a58"
      },
      "execution_count": null,
      "outputs": [
        {
          "output_type": "stream",
          "name": "stderr",
          "text": [
            "[nltk_data] Downloading package wordnet to /root/nltk_data...\n"
          ]
        },
        {
          "output_type": "stream",
          "name": "stdout",
          "text": [
            "this is a test text with a url and some html bold\n"
          ]
        },
        {
          "output_type": "stream",
          "name": "stderr",
          "text": [
            "[nltk_data]   Package wordnet is already up-to-date!\n"
          ]
        }
      ]
    },
    {
      "cell_type": "code",
      "source": [
        "\n",
        "def preprocess_text(text):\n",
        "    # Clean the text\n",
        "    text = clean_text(text)\n",
        "\n",
        "    # Lowercase\n",
        "    text = text.lower()\n",
        "\n",
        "    # Lemmatize text\n",
        "    text = lemmatize_text(text)\n",
        "\n",
        "    return text\n",
        "\n",
        "# Apply preprocessing to the dataset\n",
        "df['text'] = df['text'].apply(preprocess_text)"
      ],
      "metadata": {
        "id": "pIz7ghf0pmDv"
      },
      "execution_count": null,
      "outputs": []
    },
    {
      "cell_type": "code",
      "source": [
        "pd.set_option('display.max_colwidth', 1000000)\n",
        "df.sample().get('text').to_string()"
      ],
      "metadata": {
        "colab": {
          "base_uri": "https://localhost:8080/",
          "height": 192
        },
        "id": "MMzJukV5qKuS",
        "outputId": "b105ebf7-b575-4ebf-a103-675d0bb7ed80"
      },
      "execution_count": null,
      "outputs": [
        {
          "output_type": "execute_result",
          "data": {
            "text/plain": [
              "'166372    there are many school that offer online class and distance learning many will argue that online class are much more beneficial than the average school setting but how beneficial could it possibly be for student it help those who cannot find a way to school but a majority of people who attend school are within distance so it would be pointless to force the student to take an online class they can attend on campus people often forget that there are parent and guardian to those student and online learning could possibly take a toll on the wallet of those caregiver many family already have a hard time getting by a is and adding wifi to the bill make it much more difficult distance learning is a great idea for those who live far away from campus or have a difficult time arriving to school some school already have online class so adding it into the regular curriculum would be easy there are plenty of online tool that student use to learn for instance quizlet google classroom math space ixl and needing in some class teacher even prepare student for a test by creating a quizlet or kahoot for them to play study and review many school also give a laptop out for all student to use and keep until the end of the year therefore offering online class should serve no problem although online learning can be beneficial for student it would be best to leave it a an option school environment remove unnecessary distraction but home are filled with them with little to no supervision student are bound to lose focus for example if a student is exhausted and fall asleep who would wake them up in class teacher can tap on the student but how will they do that virtually it will be hard for teacher to enforce any consequence of a screen also if a student were to miss an online class how would the student ask for more help furthermore student are often told to join club and sport because doing so would look good for college but if all their class are online and they live too far how will the student account for the lackluster application a main part of school is it extracurriculars if a student needed more help they could stay after with a teacher and incorporating online class for student to attend would greatly decrease absence and improve attendance record but that would be assuming the student ha access to an internet connection the creation of wifi ha improved many life because of the quick and easy access but there are still some who struggle to have the same privilege not every student can afford wifi public school come free of charge however laptop phone and any electronic doe not it is safe to assume that many of the less fortunate student will choose the option that doe not put any further strain on their parent wallet there are plenty of student that apply for fafsa and free or reduced lunch so school should be keep in mind the cost efficiency of online learning all in all distance learning is great for those who live too far and still want a chance at learning but overall obsolete for the average student there are many question that need to be answered and many item that need to be reconsidered before pushing student to attend class from home it is widely known that student hate having extra work to do at home and one could say that adding more workclasses on top of that would generate more student to dislike learning a lot of student may struggle with finding a way to access online class and some student even have to juggle a job too student already have enough on their plate with keeping a job attending class every weekday finishing homework every night and having to keep a good sleep schedule and adding online class would ruin the bliss and peacefulness student feel when they arrive home home is a student safe space and school should not interfere it is the one place where they can stop and take a breath'"
            ],
            "application/vnd.google.colaboratory.intrinsic+json": {
              "type": "string"
            }
          },
          "metadata": {},
          "execution_count": 31
        }
      ]
    },
    {
      "cell_type": "code",
      "execution_count": null,
      "metadata": {
        "colab": {
          "base_uri": "https://localhost:8080/",
          "height": 35
        },
        "id": "BqHjpPjKlFCB",
        "outputId": "fe743c1c-653a-4fc3-c552-be6a9e6dda09"
      },
      "outputs": [
        {
          "data": {
            "application/vnd.google.colaboratory.intrinsic+json": {
              "type": "string"
            },
            "text/plain": [
              "'from sklearn.utils import shuffle\\n\\n# Shuffle the dataset\\ndf = shuffle(df, random_state=42)'"
            ]
          },
          "execution_count": 8,
          "metadata": {},
          "output_type": "execute_result"
        }
      ],
      "source": [
        "'''from sklearn.utils import shuffle\n",
        "\n",
        "# Shuffle the dataset\n",
        "df = shuffle(df, random_state=42)'''\n"
      ]
    },
    {
      "cell_type": "code",
      "execution_count": null,
      "metadata": {
        "id": "kCqaWXtJbuPP"
      },
      "outputs": [],
      "source": [
        "from sklearn.model_selection import train_test_split\n",
        "\n",
        "# Split into train (80%), validation (10%), and test (10%)\n",
        "train_texts, test_texts, train_labels, test_labels = train_test_split(\n",
        "    df[\"text\"], df[\"label\"], test_size=0.2, random_state=42\n",
        ")\n",
        "\n",
        "val_texts, test_texts, val_labels, test_labels = train_test_split(\n",
        "    test_texts, test_labels, test_size=0.5, random_state=42\n",
        ")"
      ]
    },
    {
      "cell_type": "code",
      "execution_count": null,
      "metadata": {
        "id": "vqD5hyvRb0mF",
        "colab": {
          "base_uri": "https://localhost:8080/",
          "height": 301,
          "referenced_widgets": [
            "ff7ce7c67fda4f4a8becfc04ab24e85a",
            "2f85efd6070d4980a7ae73214e322843",
            "e974e4c3562546e6a1433244de88229c",
            "f4f7722215d046d6863414952d1670a0",
            "2d4a6b866a80408286520741c25fd8c3",
            "c4f4239a1f754bcb9cad88e0bdb0cbc5",
            "9bf44daff0d3432a8d535cf84ac8fded",
            "3242ae8a41a34430ab6fb8a8d5621777",
            "08e3b29f9afb4593bfba804ea303c6de",
            "402144eead894c9c9d167e08a55acaa0",
            "f755d713d05e47ceba3a2604484ccffe",
            "9f255566aed048bc858cfa372033af3f",
            "b51c07d4ca9249bba65d76fd42055405",
            "a73abd0531bb4731b49c05778d644eaa",
            "2286464cfc804a518fdde5ee80997134",
            "81d54294b2d3435b9d416c03be4e83c2",
            "02bd387587b84bf8944b7935aa99fcf6",
            "fab5a1f2f3c34436bd55f274c40cc2ba",
            "6de208da0356412fb776f4b587e83876",
            "6f0516e7ffe04ac3a6f0c95a349377a2",
            "fff6929cbc5c4b4a8c4f6510f7363c55",
            "32b48ca722fa49d6afed7c6a227b69c9",
            "39fd3015cfa94017b3ebf004fc75e986",
            "0af6cf2cbbe343d095b3ce1360573733",
            "05e4ea156dd446e8aca39bd751ec9b61",
            "60d61a83c5e74775bff9f1226340acc1",
            "5bfb2e6f37994d9a9f8e89ecec20814a",
            "bdc348274e864e17a59dfe495476611f",
            "cf377603a10e4ff6966c5f6ed9ddf706",
            "8d7c71cb7576449fb9d53a5f43d45951",
            "e0003852f9194d1d805abe4e8c16304c",
            "e52d26d14aaf499998591c8dc625c4cc",
            "24f5228c931c44dfad25991f964ae7ed",
            "5430956c0cdb4b058b56463015d35cb6",
            "14eb68394c4046528abfb5e0f7d1aee7",
            "4ad476eb73d144aaade1f8dd00164771",
            "0ac1db7b41bb43c19e98526351752b56",
            "9faa07114e72443ea105a240aae2869e",
            "574047b0a84d4876882006cb6d161235",
            "2452b2adbbe343f58ea60b162f4a2e92",
            "97eab9ebe14e44fc86362a4f0df4af3d",
            "f91187cc4cbf4d058f0ae750a63d5941",
            "a309e8d3f3894fcfbee0b6b6d82d31ca",
            "8fcaa4094a7e4bc0a92cb4186b5f8bc2",
            "1de5b9f745ee4fa78d99f3e08fe08ad8",
            "5987660029e44e998dde64ef73837f1e",
            "ecd26680dcf044418e3549eda136ba18",
            "35c63ff6e1ab48f4af49a454570d8baf",
            "700fae4813e14a82949c9d4e6b09c615",
            "2d325eb7df934b159a5718f236685d0c",
            "68c2ad3f99f144cba6d806a37ec820b9",
            "49a1d8c6635941fbbac65a855f13b15f",
            "0a8bf2d211d940f6a3d7fa5cae7c3d3a",
            "2e34df9906e8416b9b79213198e192cf",
            "1c9a0812d5014c48a8e511787cdf518e"
          ]
        },
        "outputId": "8e4e6426-8e52-415b-fb76-b7f6a7137462"
      },
      "outputs": [
        {
          "output_type": "stream",
          "name": "stderr",
          "text": [
            "/usr/local/lib/python3.10/dist-packages/huggingface_hub/utils/_auth.py:94: UserWarning: \n",
            "The secret `HF_TOKEN` does not exist in your Colab secrets.\n",
            "To authenticate with the Hugging Face Hub, create a token in your settings tab (https://huggingface.co/settings/tokens), set it as secret in your Google Colab and restart your session.\n",
            "You will be able to reuse this secret in all of your notebooks.\n",
            "Please note that authentication is recommended but still optional to access public models or datasets.\n",
            "  warnings.warn(\n"
          ]
        },
        {
          "output_type": "display_data",
          "data": {
            "text/plain": [
              "tokenizer_config.json:   0%|          | 0.00/25.0 [00:00<?, ?B/s]"
            ],
            "application/vnd.jupyter.widget-view+json": {
              "version_major": 2,
              "version_minor": 0,
              "model_id": "ff7ce7c67fda4f4a8becfc04ab24e85a"
            }
          },
          "metadata": {}
        },
        {
          "output_type": "display_data",
          "data": {
            "text/plain": [
              "vocab.json:   0%|          | 0.00/899k [00:00<?, ?B/s]"
            ],
            "application/vnd.jupyter.widget-view+json": {
              "version_major": 2,
              "version_minor": 0,
              "model_id": "9f255566aed048bc858cfa372033af3f"
            }
          },
          "metadata": {}
        },
        {
          "output_type": "display_data",
          "data": {
            "text/plain": [
              "merges.txt:   0%|          | 0.00/456k [00:00<?, ?B/s]"
            ],
            "application/vnd.jupyter.widget-view+json": {
              "version_major": 2,
              "version_minor": 0,
              "model_id": "39fd3015cfa94017b3ebf004fc75e986"
            }
          },
          "metadata": {}
        },
        {
          "output_type": "display_data",
          "data": {
            "text/plain": [
              "tokenizer.json:   0%|          | 0.00/1.36M [00:00<?, ?B/s]"
            ],
            "application/vnd.jupyter.widget-view+json": {
              "version_major": 2,
              "version_minor": 0,
              "model_id": "5430956c0cdb4b058b56463015d35cb6"
            }
          },
          "metadata": {}
        },
        {
          "output_type": "display_data",
          "data": {
            "text/plain": [
              "config.json:   0%|          | 0.00/481 [00:00<?, ?B/s]"
            ],
            "application/vnd.jupyter.widget-view+json": {
              "version_major": 2,
              "version_minor": 0,
              "model_id": "1de5b9f745ee4fa78d99f3e08fe08ad8"
            }
          },
          "metadata": {}
        }
      ],
      "source": [
        "from transformers import RobertaTokenizer\n",
        "\n",
        "# Load the tokenizer\n",
        "tokenizer = RobertaTokenizer.from_pretrained(\"roberta-base\")\n",
        "\n",
        "# Tokenize the text\n",
        "# train_encodings = tokenizer(list(train_texts), truncation=True, padding=True, max_length=512)\n",
        "# val_encodings = tokenizer(list(val_texts), truncation=True, padding=True, max_length=512)\n",
        "# test_encodings = tokenizer(list(test_texts), truncation=True, padding=True, max_length=512)"
      ]
    },
    {
      "cell_type": "code",
      "execution_count": null,
      "metadata": {
        "id": "-OSiU3HmcEFf"
      },
      "outputs": [],
      "source": [
        "import torch\n",
        "\n",
        "# Custom Dataset Class\n",
        "class CustomDataset(torch.utils.data.Dataset):\n",
        "    def __init__(self, texts, labels, tokenizer, max_length):\n",
        "        self.texts = texts\n",
        "        self.labels = labels\n",
        "        self.tokenizer = tokenizer\n",
        "        self.max_length = max_length\n",
        "\n",
        "    def __len__(self):\n",
        "        return len(self.texts)\n",
        "\n",
        "    def __getitem__(self, idx):\n",
        "        text = self.texts.iloc[idx]\n",
        "        label = self.labels.iloc[idx]\n",
        "        encoding = self.tokenizer(\n",
        "            text,\n",
        "            max_length=self.max_length,\n",
        "            padding=\"max_length\",\n",
        "            truncation=True,\n",
        "            return_tensors=\"pt\"\n",
        "        )\n",
        "        return {\n",
        "            \"input_ids\": encoding[\"input_ids\"].squeeze(0),\n",
        "            \"attention_mask\": encoding[\"attention_mask\"].squeeze(0),\n",
        "            \"labels\": torch.tensor(label, dtype=torch.long)\n",
        "        }\n",
        "# Create datasets\n",
        "train_dataset = CustomDataset(train_texts, train_labels , tokenizer, max_length=512)\n",
        "val_dataset = CustomDataset(val_texts, val_labels , tokenizer, max_length=512)\n",
        "test_dataset = CustomDataset( test_texts, test_labels , tokenizer, max_length=512)\n",
        "# test_dataset = CustomDataset(test_encodings, test_labels.tolist())"
      ]
    },
    {
      "cell_type": "code",
      "execution_count": null,
      "metadata": {
        "id": "gf5yFvZ_cwvn"
      },
      "outputs": [],
      "source": [
        "import os\n",
        "os.environ[\"WANDB_DISABLED\"] = \"true\""
      ]
    },
    {
      "cell_type": "code",
      "source": [
        "from sklearn.metrics import accuracy_score, precision_recall_fscore_support\n",
        "\n",
        "def compute_metrics(pred):\n",
        "    labels = pred.label_ids\n",
        "    preds = pred.predictions.argmax(-1)\n",
        "    acc = accuracy_score(labels, preds)\n",
        "    precision, recall, f1, _ = precision_recall_fscore_support(labels, preds, average=\"binary\")\n",
        "    return {\"accuracy\": acc, \"precision\": precision, \"recall\": recall, \"f1\": f1}"
      ],
      "metadata": {
        "id": "E-QG8SPsY3mc"
      },
      "execution_count": null,
      "outputs": []
    },
    {
      "cell_type": "code",
      "execution_count": null,
      "metadata": {
        "colab": {
          "base_uri": "https://localhost:8080/"
        },
        "id": "93UcyDCkTge_",
        "outputId": "d7a5dae4-7741-4ecc-cd8e-1f33169de2ca"
      },
      "outputs": [
        {
          "output_type": "stream",
          "name": "stderr",
          "text": [
            "Some weights of RobertaForSequenceClassification were not initialized from the model checkpoint at roberta-base and are newly initialized: ['classifier.dense.bias', 'classifier.dense.weight', 'classifier.out_proj.bias', 'classifier.out_proj.weight']\n",
            "You should probably TRAIN this model on a down-stream task to be able to use it for predictions and inference.\n",
            "/usr/local/lib/python3.10/dist-packages/transformers/training_args.py:1568: FutureWarning: `evaluation_strategy` is deprecated and will be removed in version 4.46 of 🤗 Transformers. Use `eval_strategy` instead\n",
            "  warnings.warn(\n",
            "Using the `WANDB_DISABLED` environment variable is deprecated and will be removed in v5. Use the --report_to flag to control the integrations used for logging result (for instance --report_to none).\n"
          ]
        }
      ],
      "source": [
        "from transformers import RobertaForSequenceClassification, Trainer, TrainingArguments\n",
        "from transformers import EarlyStoppingCallback\n",
        "# Load the pre-trained RoBERTa model\n",
        "model = RobertaForSequenceClassification.from_pretrained(\"roberta-base\", num_labels=2)\n",
        "# Add Early Stopping Callback\n",
        "early_stopping = EarlyStoppingCallback(early_stopping_patience=2)\n",
        "\n",
        "# Updated Training Arguments\n",
        "training_args = TrainingArguments(\n",
        "    output_dir=\"./results\",\n",
        "    evaluation_strategy=\"epoch\",   # Evaluate on validation set every epoch\n",
        "    save_strategy=\"epoch\",         # Save model checkpoints\n",
        "    learning_rate=3e-5,            # Fine-tuned learning rate\n",
        "    per_device_train_batch_size=8, # Reduce batch size\n",
        "    per_device_eval_batch_size=8,  # Match evaluation batch size\n",
        "    num_train_epochs=4,            # Reduce epochs if early stopping is used\n",
        "    weight_decay=0.01,             # Regularization\n",
        "    logging_dir=\"./logs\",          # Directory for logs\n",
        "    fp16=True,                     # Mixed precision\n",
        "    gradient_accumulation_steps=2, # Simulate larger batch size\n",
        "    save_total_limit=2,            # Keep the latest 2 checkpoints\n",
        "    load_best_model_at_end=True,   # Automatically load the best model\n",
        "    lr_scheduler_type=\"linear\",    # Use linear learning rate scheduling\n",
        "    logging_steps=10               # Log every 10 stepWe were talking about the logistics involved in pulling off something like this, and how great it felt for him to be improvising in front of a camera again, and the curious tensions that popped up in his interview with Eminem. And then we got onto the subject of discomfort and disorientation, and the urge he has to seek out those feelings, and from there it was a quick jump to the nature of suffering. Before long we were sitting there with a plate of roast chicken and several bottles of Cholula on the table between us, both of us rubbing tears from our eyes. “The level of emotion you're getting from me right now—I'm not saying it's dishonest,” he said. “I'm just saying it's not normal. I'd really love to go to bed. I promise you, I do not spend my time on the edge of tears.”\n",
        "\n",
        "I've easily played the recording of that conversation a dozen times, only one of them in order to transcribe. And while we spent plenty of time talking about comedy and the conventions of late-night and the sheer practical challenge of doing a show twice as long as his old one—the thing I've been thinking about the most since my time with Colbert is loss. The losses he's experienced in his life, yes, but really the meaning we all make of our losses. Deaths of loved ones, the phases of our children's lives hurtling by, jobs and relationships we never imagined would end. All of it. Among other things, our lives are compendiums of loss and change and what we make of it. I've never met anyone who's faced that reality more meaningfully than Stephen Colbert. I suppose, more than anything, that's what this story is about.\n",
        "\n",
        "Also: ball jokes. Or the absence of them. They're doing network now, after all, and Colbert has declared a moratorium on ball jokes. (I believe I was present for the last one. It involved Greece and the Eurozone—and Paul Krugman's balls.)s\n",
        ")\n",
        "\n",
        "# Trainer with Early Stopping\n",
        "trainer = Trainer(\n",
        "    model=model,\n",
        "    args=training_args,\n",
        "    train_dataset=train_dataset,\n",
        "    eval_dataset=val_dataset,\n",
        "    compute_metrics=compute_metrics,\n",
        "    callbacks=[early_stopping]  # Add early stopping callback\n",
        ")\n"
      ]
    },
    {
      "cell_type": "code",
      "execution_count": null,
      "metadata": {
        "colab": {
          "base_uri": "https://localhost:8080/",
          "height": 380
        },
        "id": "UkQglbB2dLE6",
        "outputId": "cef85d8d-5994-44b7-9a21-b6533c75bdd7"
      },
      "outputs": [
        {
          "output_type": "display_data",
          "data": {
            "text/plain": [
              "<IPython.core.display.HTML object>"
            ],
            "text/html": [
              "\n",
              "    <div>\n",
              "      \n",
              "      <progress value='8' max='40000' style='width:300px; height:20px; vertical-align: middle;'></progress>\n",
              "      [    8/40000 00:03 < 6:29:19, 1.71 it/s, Epoch 0.00/4]\n",
              "    </div>\n",
              "    <table border=\"1\" class=\"dataframe\">\n",
              "  <thead>\n",
              " <tr style=\"text-align: left;\">\n",
              "      <th>Epoch</th>\n",
              "      <th>Training Loss</th>\n",
              "      <th>Validation Loss</th>\n",
              "    </tr>\n",
              "  </thead>\n",
              "  <tbody>\n",
              "  </tbody>\n",
              "</table><p>"
            ]
          },
          "metadata": {}
        },
        {
          "output_type": "error",
          "ename": "KeyboardInterrupt",
          "evalue": "",
          "traceback": [
            "\u001b[0;31m---------------------------------------------------------------------------\u001b[0m",
            "\u001b[0;31mKeyboardInterrupt\u001b[0m                         Traceback (most recent call last)",
            "\u001b[0;32m<ipython-input-40-e5e6b3b9574e>\u001b[0m in \u001b[0;36m<cell line: 2>\u001b[0;34m()\u001b[0m\n\u001b[1;32m      1\u001b[0m \u001b[0;31m# Train the model\u001b[0m\u001b[0;34m\u001b[0m\u001b[0;34m\u001b[0m\u001b[0m\n\u001b[0;32m----> 2\u001b[0;31m \u001b[0mtrainer\u001b[0m\u001b[0;34m.\u001b[0m\u001b[0mtrain\u001b[0m\u001b[0;34m(\u001b[0m\u001b[0;34m)\u001b[0m\u001b[0;34m\u001b[0m\u001b[0;34m\u001b[0m\u001b[0m\n\u001b[0m",
            "\u001b[0;32m/usr/local/lib/python3.10/dist-packages/transformers/trainer.py\u001b[0m in \u001b[0;36mtrain\u001b[0;34m(self, resume_from_checkpoint, trial, ignore_keys_for_eval, **kwargs)\u001b[0m\n\u001b[1;32m   2121\u001b[0m                 \u001b[0mhf_hub_utils\u001b[0m\u001b[0;34m.\u001b[0m\u001b[0menable_progress_bars\u001b[0m\u001b[0;34m(\u001b[0m\u001b[0;34m)\u001b[0m\u001b[0;34m\u001b[0m\u001b[0;34m\u001b[0m\u001b[0m\n\u001b[1;32m   2122\u001b[0m         \u001b[0;32melse\u001b[0m\u001b[0;34m:\u001b[0m\u001b[0;34m\u001b[0m\u001b[0;34m\u001b[0m\u001b[0m\n\u001b[0;32m-> 2123\u001b[0;31m             return inner_training_loop(\n\u001b[0m\u001b[1;32m   2124\u001b[0m                 \u001b[0margs\u001b[0m\u001b[0;34m=\u001b[0m\u001b[0margs\u001b[0m\u001b[0;34m,\u001b[0m\u001b[0;34m\u001b[0m\u001b[0;34m\u001b[0m\u001b[0m\n\u001b[1;32m   2125\u001b[0m                 \u001b[0mresume_from_checkpoint\u001b[0m\u001b[0;34m=\u001b[0m\u001b[0mresume_from_checkpoint\u001b[0m\u001b[0;34m,\u001b[0m\u001b[0;34m\u001b[0m\u001b[0;34m\u001b[0m\u001b[0m\n",
            "\u001b[0;32m/usr/local/lib/python3.10/dist-packages/transformers/trainer.py\u001b[0m in \u001b[0;36m_inner_training_loop\u001b[0;34m(self, batch_size, args, resume_from_checkpoint, trial, ignore_keys_for_eval)\u001b[0m\n\u001b[1;32m   2484\u001b[0m                         \u001b[0margs\u001b[0m\u001b[0;34m.\u001b[0m\u001b[0mlogging_nan_inf_filter\u001b[0m\u001b[0;34m\u001b[0m\u001b[0;34m\u001b[0m\u001b[0m\n\u001b[1;32m   2485\u001b[0m                         \u001b[0;32mand\u001b[0m \u001b[0;32mnot\u001b[0m \u001b[0mis_torch_xla_available\u001b[0m\u001b[0;34m(\u001b[0m\u001b[0;34m)\u001b[0m\u001b[0;34m\u001b[0m\u001b[0;34m\u001b[0m\u001b[0m\n\u001b[0;32m-> 2486\u001b[0;31m                         \u001b[0;32mand\u001b[0m \u001b[0;34m(\u001b[0m\u001b[0mtorch\u001b[0m\u001b[0;34m.\u001b[0m\u001b[0misnan\u001b[0m\u001b[0;34m(\u001b[0m\u001b[0mtr_loss_step\u001b[0m\u001b[0;34m)\u001b[0m \u001b[0;32mor\u001b[0m \u001b[0mtorch\u001b[0m\u001b[0;34m.\u001b[0m\u001b[0misinf\u001b[0m\u001b[0;34m(\u001b[0m\u001b[0mtr_loss_step\u001b[0m\u001b[0;34m)\u001b[0m\u001b[0;34m)\u001b[0m\u001b[0;34m\u001b[0m\u001b[0;34m\u001b[0m\u001b[0m\n\u001b[0m\u001b[1;32m   2487\u001b[0m                     ):\n\u001b[1;32m   2488\u001b[0m                         \u001b[0;31m# if loss is nan or inf simply add the average of previous logged losses\u001b[0m\u001b[0;34m\u001b[0m\u001b[0;34m\u001b[0m\u001b[0m\n",
            "\u001b[0;31mKeyboardInterrupt\u001b[0m: "
          ]
        }
      ],
      "source": [
        "\n",
        "# Train the model\n",
        "trainer.train()"
      ]
    },
    {
      "cell_type": "code",
      "execution_count": null,
      "metadata": {
        "colab": {
          "base_uri": "https://localhost:8080/"
        },
        "id": "YHtprzwG6Pr6",
        "outputId": "927248db-441f-416c-dad7-4e37ac0ab42f"
      },
      "outputs": [
        {
          "output_type": "execute_result",
          "data": {
            "text/plain": [
              "('/content/drive/MyDrive/Master2/ITFFC/first_80k_4ep_model/tokenizer_config.json',\n",
              " '/content/drive/MyDrive/Master2/ITFFC/first_80k_4ep_model/special_tokens_map.json',\n",
              " '/content/drive/MyDrive/Master2/ITFFC/first_80k_4ep_model/vocab.json',\n",
              " '/content/drive/MyDrive/Master2/ITFFC/first_80k_4ep_model/merges.txt',\n",
              " '/content/drive/MyDrive/Master2/ITFFC/first_80k_4ep_model/added_tokens.json')"
            ]
          },
          "metadata": {},
          "execution_count": 41
        }
      ],
      "source": [
        "# Save the model\n",
        "model.save_pretrained(\"/content/drive/MyDrive/Master2/ITFFC/first_80k_4ep_model\")\n",
        "\n",
        "# Save the tokenizer\n",
        "tokenizer.save_pretrained(\"/content/drive/MyDrive/Master2/ITFFC/first_80k_4ep_model\")\n"
      ]
    },
    {
      "cell_type": "code",
      "source": [
        "\n",
        "metrics = trainer.evaluate()\n",
        "print(\"Validation Metrics:\", metrics)"
      ],
      "metadata": {
        "colab": {
          "base_uri": "https://localhost:8080/",
          "height": 109
        },
        "id": "36DR3U0z3oA6",
        "outputId": "91109fe2-483d-4477-de65-46907da0d24e"
      },
      "execution_count": null,
      "outputs": [
        {
          "output_type": "stream",
          "name": "stderr",
          "text": [
            "/usr/local/lib/python3.10/dist-packages/torch/utils/data/dataloader.py:617: UserWarning: This DataLoader will create 4 worker processes in total. Our suggested max number of worker in current system is 2, which is smaller than what this DataLoader is going to create. Please be aware that excessive worker creation might get DataLoader running slow or even freeze, lower the worker number to avoid potential slowness/freeze if necessary.\n",
            "  warnings.warn(\n"
          ]
        },
        {
          "output_type": "display_data",
          "data": {
            "text/plain": [
              "<IPython.core.display.HTML object>"
            ],
            "text/html": [
              "\n",
              "    <div>\n",
              "      \n",
              "      <progress value='1000' max='1000' style='width:300px; height:20px; vertical-align: middle;'></progress>\n",
              "      [1000/1000 01:11]\n",
              "    </div>\n",
              "    "
            ]
          },
          "metadata": {}
        },
        {
          "output_type": "stream",
          "name": "stdout",
          "text": [
            "Validation Metrics: {'eval_loss': 0.012787416577339172, 'eval_accuracy': 0.998375, 'eval_precision': 0.997075310748233, 'eval_recall': 0.9997556207233627, 'eval_f1': 0.9984136668700427, 'eval_runtime': 72.3077, 'eval_samples_per_second': 110.638, 'eval_steps_per_second': 13.83, 'epoch': 4.0}\n"
          ]
        }
      ]
    },
    {
      "cell_type": "code",
      "source": [
        "from sklearn.metrics import classification_report\n",
        "\n",
        "predictions = trainer.predict(test_dataset)"
      ],
      "metadata": {
        "colab": {
          "base_uri": "https://localhost:8080/",
          "height": 72
        },
        "id": "wg5RTp7Lj8WK",
        "outputId": "45ad8730-ce86-4f41-919f-b9fde0d0fb47"
      },
      "execution_count": null,
      "outputs": [
        {
          "output_type": "stream",
          "name": "stderr",
          "text": [
            "/usr/local/lib/python3.10/dist-packages/torch/utils/data/dataloader.py:617: UserWarning: This DataLoader will create 4 worker processes in total. Our suggested max number of worker in current system is 2, which is smaller than what this DataLoader is going to create. Please be aware that excessive worker creation might get DataLoader running slow or even freeze, lower the worker number to avoid potential slowness/freeze if necessary.\n",
            "  warnings.warn(\n"
          ]
        },
        {
          "output_type": "display_data",
          "data": {
            "text/plain": [
              "<IPython.core.display.HTML object>"
            ],
            "text/html": []
          },
          "metadata": {}
        }
      ]
    },
    {
      "cell_type": "code",
      "source": [
        "# Predicted labels\n",
        "predicted_labels = predictions.predictions.argmax(-1)\n",
        "\n",
        "# Generate classification report\n",
        "report = classification_report(test_labels, predicted_labels, target_names=[\"Human-Generated\", \"AI-Generated\"])\n",
        "print(report)\n"
      ],
      "metadata": {
        "colab": {
          "base_uri": "https://localhost:8080/"
        },
        "id": "yxagiVd14cXG",
        "outputId": "1a56c1f7-f0b1-4c7c-c1e3-4018c0acd671"
      },
      "execution_count": null,
      "outputs": [
        {
          "output_type": "stream",
          "name": "stdout",
          "text": [
            "                 precision    recall  f1-score   support\n",
            "\n",
            "Human-Generated       1.00      1.00      1.00      4008\n",
            "   AI-Generated       1.00      1.00      1.00      3992\n",
            "\n",
            "       accuracy                           1.00      8000\n",
            "      macro avg       1.00      1.00      1.00      8000\n",
            "   weighted avg       1.00      1.00      1.00      8000\n",
            "\n"
          ]
        }
      ]
    },
    {
      "cell_type": "markdown",
      "source": [
        "# using the model"
      ],
      "metadata": {
        "id": "XbQiZsf85lN7"
      }
    },
    {
      "cell_type": "code",
      "execution_count": null,
      "metadata": {
        "id": "7JmTirMqTYV-"
      },
      "outputs": [],
      "source": [
        "from transformers import RobertaForSequenceClassification, RobertaTokenizer\n",
        "\n",
        "model_path = \"/content/drive/MyDrive/Master2/ITFFC/first_80k_4ep_model\"\n",
        "model = RobertaForSequenceClassification.from_pretrained(model_path)\n",
        "\n",
        "tokenizer = RobertaTokenizer.from_pretrained(model_path)"
      ]
    },
    {
      "cell_type": "code",
      "source": [
        "import torch"
      ],
      "metadata": {
        "id": "ckR6Dekgcr5y"
      },
      "execution_count": null,
      "outputs": []
    },
    {
      "cell_type": "code",
      "execution_count": null,
      "metadata": {
        "colab": {
          "base_uri": "https://localhost:8080/"
        },
        "id": "jNpkE3fd3IBs",
        "outputId": "177a5d74-5d6a-4f42-feff-0179ac284eaf"
      },
      "outputs": [
        {
          "output_type": "stream",
          "name": "stdout",
          "text": [
            "Predicted label: AI-Generated\n"
          ]
        }
      ],
      "source": [
        "\n",
        "\n",
        "# Set the device (use GPU if available, else fallback to CPU)\n",
        "device = torch.device(\"cuda\" if torch.cuda.is_available() else \"cpu\")\n",
        "\n",
        "# Move the model to the appropriate device\n",
        "model = model.to(device)\n",
        "\n",
        "# Input text\n",
        "text = \"\"\"\n",
        "The Universal Declaration of Human Rights (UDHR) is a milestone document in the history of human rights. Drafted by representatives with different legal and cultural backgrounds from all regions of the world, the Declaration was proclaimed by the United Nations General Assembly in Paris on 10 December 1948 (General Assembly resolution 217 A) as a common standard of achievements for all peoples and all nations. It sets out, for the first time, fundamental human rights to be universally protected and it has been translated into over 500 languages. The UDHR is widely recognized as having inspired, and paved the way for, the adoption of more than seventy human rights treaties, applied today on a permanent basis at global and regional levels (all containing references to it in their preambles).\n",
        "\"\"\"\n",
        "\n",
        "# Tokenize the input text\n",
        "inputs = tokenizer(text, return_tensors=\"pt\", padding=True, truncation=True, max_length=512)\n",
        "\n",
        "# Move the input tensors to the same device as the model\n",
        "inputs = {key: value.to(device) for key, value in inputs.items()}\n",
        "\n",
        "# Perform inference\n",
        "model.eval()\n",
        "with torch.no_grad():\n",
        "    outputs = model(**inputs)\n",
        "    logits = outputs.logits\n",
        "\n",
        "# Get the predicted class\n",
        "predicted_class = torch.argmax(logits, dim=1).item()\n",
        "\n",
        "# Interpret the output\n",
        "labels = [\"Human-Generated\", \"AI-Generated\"]\n",
        "print(f\"Predicted label: {labels[predicted_class]}\")\n"
      ]
    },
    {
      "cell_type": "code",
      "source": [
        "import nltk\n",
        "nltk.download('punkt_tab')"
      ],
      "metadata": {
        "colab": {
          "base_uri": "https://localhost:8080/"
        },
        "id": "AWdb42KI7xuA",
        "outputId": "8d767335-86d9-4533-d381-418053271341"
      },
      "execution_count": null,
      "outputs": [
        {
          "output_type": "stream",
          "name": "stderr",
          "text": [
            "[nltk_data] Downloading package punkt_tab to /root/nltk_data...\n",
            "[nltk_data]   Unzipping tokenizers/punkt_tab.zip.\n"
          ]
        },
        {
          "output_type": "execute_result",
          "data": {
            "text/plain": [
              "True"
            ]
          },
          "metadata": {},
          "execution_count": 7
        }
      ]
    },
    {
      "cell_type": "code",
      "source": [
        "from nltk.tokenize import sent_tokenize\n",
        "# Set the device (use GPU if available, else fallback to CPU)\n",
        "device = torch.device(\"cuda\" if torch.cuda.is_available() else \"cpu\")\n",
        "\n",
        "# Move the model to the appropriate device\n",
        "model = model.to(device)\n",
        "\n",
        "# Add explainability (token and sentence level)\n",
        "def explain(text):\n",
        "    # Tokenize input text\n",
        "    inputs = tokenizer(text, return_tensors=\"pt\", truncation=True, max_length=512)\n",
        "\n",
        "    # Perform inference with attention outputs\n",
        "    model.eval()\n",
        "    with torch.no_grad():\n",
        "        outputs = model(**inputs, output_attentions=True)\n",
        "        attentions = outputs.attentions  # Attention scores\n",
        "        logits = outputs.logits\n",
        "\n",
        "    # Predicted class\n",
        "    predicted_class = torch.argmax(logits, dim=1).item()\n",
        "    labels = [\"Human-Generated\", \"AI-Generated\"]\n",
        "\n",
        "    # Token-level explanation\n",
        "    attention_scores = attentions[0][0].mean(dim=0).mean(dim=0)  # Average over heads\n",
        "    tokens = tokenizer.convert_ids_to_tokens(inputs[\"input_ids\"][0])\n",
        "    token_attention = list(zip(tokens, attention_scores.tolist()))\n",
        "\n",
        "    # Sentence-level explanation\n",
        "    sentences = sent_tokenize(text)\n",
        "    sentence_scores = []\n",
        "    for sentence in sentences:\n",
        "        sentence_inputs = tokenizer(sentence, return_tensors=\"pt\", truncation=True, max_length=512)\n",
        "        with torch.no_grad():\n",
        "            outputs = model(**sentence_inputs, output_attentions=True)\n",
        "            attentions = outputs.attentions[0]\n",
        "            attention_scores = attentions.mean(dim=1).mean(dim=0)\n",
        "            sentence_scores.append(attention_scores.mean().item())\n",
        "\n",
        "    return {\n",
        "        \"predicted_label\": labels[predicted_class],\n",
        "        \"token_explanations\": token_attention,\n",
        "        \"sentence_explanations\": list(zip(sentences, sentence_scores))\n",
        "    }\n"
      ],
      "metadata": {
        "id": "SGzgSr1jZXdO"
      },
      "execution_count": null,
      "outputs": []
    },
    {
      "cell_type": "code",
      "source": [
        "test_text = \"\"\"\n",
        "A PC with a 550W power supply doesn't necessarily consume 550 watts every hour. The actual power consumption depends on the components inside the PC and the tasks it is performing.\n",
        "\n",
        "If your PC uses 50% of the available power, it would consume around 275 watts per hour. Similarly, if it uses 75% of the power, it would consume around 412.5 watts per hour. The power supply's wattage rating indicates the maximum it can provide, not the actual usage.\n",
        "\"\"\"\n",
        "explanations = explain(test_text)\n",
        "\n",
        "print(\"Predicted Label:\", explanations[\"predicted_label\"])\n",
        "print(\"\\nToken-Level Explanations:\")\n",
        "#for token, score in explanations[\"token_explanations\"]:\n",
        "#    print(f\"{token}: {score:.3f}\")\n",
        "\n",
        "print(\"\\nSentence-Level Explanations:\")\n",
        "for sentence, score in explanations[\"sentence_explanations\"]:\n",
        "    print(f\"Sentence: {sentence}\\nAttention Score: {score:.3f}\")"
      ],
      "metadata": {
        "colab": {
          "base_uri": "https://localhost:8080/"
        },
        "id": "WcKrRgOj6cU5",
        "outputId": "35bc18b9-e7a3-4371-ffe5-10fbd5be5c20"
      },
      "execution_count": null,
      "outputs": [
        {
          "output_type": "stream",
          "name": "stdout",
          "text": [
            "Predicted Label: AI-Generated\n",
            "\n",
            "Token-Level Explanations:\n",
            "\n",
            "Sentence-Level Explanations:\n",
            "Sentence: \n",
            "A PC with a 550W power supply doesn't necessarily consume 550 watts every hour.\n",
            "Attention Score: 0.050\n",
            "Sentence: The actual power consumption depends on the components inside the PC and the tasks it is performing.\n",
            "Attention Score: 0.050\n",
            "Sentence: If your PC uses 50% of the available power, it would consume around 275 watts per hour.\n",
            "Attention Score: 0.045\n",
            "Sentence: Similarly, if it uses 75% of the power, it would consume around 412.5 watts per hour.\n",
            "Attention Score: 0.042\n",
            "Sentence: The power supply's wattage rating indicates the maximum it can provide, not the actual usage.\n",
            "Attention Score: 0.048\n"
          ]
        }
      ]
    },
    {
      "cell_type": "code",
      "source": [
        "def split_into_paragraphs(text):\n",
        "    paragraphs = [p.strip() for p in text.split(\"\\n\") if p.strip()]\n",
        "    return paragraphs\n",
        "\n",
        "# Example usage\n",
        "article = \"\"\"\n",
        "This is the first paragraph of the article. It discusses some key points.\n",
        "\n",
        "This is the second paragraph. It delves deeper into the topic.\n",
        "\n",
        "Finally, this is the conclusion of the article.\n",
        "\"\"\"\n",
        "paragraphs = split_into_paragraphs(article)\n",
        "print(paragraphs)\n"
      ],
      "metadata": {
        "colab": {
          "base_uri": "https://localhost:8080/"
        },
        "id": "wud8sHQvDHfV",
        "outputId": "dadf2b9e-62ec-4913-f8f1-030f78dd5f78"
      },
      "execution_count": null,
      "outputs": [
        {
          "output_type": "stream",
          "name": "stdout",
          "text": [
            "['This is the first paragraph of the article. It discusses some key points.', 'This is the second paragraph. It delves deeper into the topic.', 'Finally, this is the conclusion of the article.']\n"
          ]
        }
      ]
    },
    {
      "cell_type": "code",
      "source": [
        "def predict_article(article, model, tokenizer):\n",
        "    paragraphs = split_into_paragraphs(article)\n",
        "    ai_count = 0\n",
        "    human_count = 0\n",
        "\n",
        "    for paragraph in paragraphs:\n",
        "        inputs = tokenizer(paragraph, return_tensors=\"pt\", truncation=True, max_length=512)\n",
        "        with torch.no_grad():\n",
        "            outputs = model(**inputs)\n",
        "            logits = outputs.logits\n",
        "            predicted_class = torch.argmax(logits, dim=1).item()\n",
        "            if predicted_class == 1:  # AI-Generated\n",
        "                ai_count += 1\n",
        "            else:  # Human-Generated\n",
        "                human_count += 1\n",
        "\n",
        "    # Aggregate results\n",
        "    if ai_count > human_count:\n",
        "        return \"AI-Generated\", ai_count, human_count\n",
        "    else:\n",
        "        return \"Human-Generated\",ai_count,human_count\n",
        "\n",
        "# Predict article\n",
        "result,ai,human = predict_article(article, model, tokenizer)\n",
        "print(f\"The article is predicted as: {result}, ai: {ai}, human: {human}\")\n"
      ],
      "metadata": {
        "colab": {
          "base_uri": "https://localhost:8080/"
        },
        "id": "BBbx2bHZDMuu",
        "outputId": "290c5afc-b33b-4d13-86f6-a91154f3a1d6"
      },
      "execution_count": null,
      "outputs": [
        {
          "output_type": "stream",
          "name": "stdout",
          "text": [
            "The article is predicted as: AI-Generated, ai: 3, human: 0\n"
          ]
        }
      ]
    },
    {
      "cell_type": "code",
      "source": [
        "def split_into_chunks(text, tokenizer, max_tokens=512):\n",
        "    tokens = tokenizer.tokenize(text)\n",
        "    chunks = []\n",
        "    for i in range(0, len(tokens), max_tokens):\n",
        "        chunk = tokens[i:i + max_tokens]\n",
        "        chunks.append(tokenizer.convert_tokens_to_string(chunk))\n",
        "    return chunks\n",
        "\n",
        "# Example usage\n",
        "long_paragraph = \"\"\"\n",
        "We were talking about the logistics involved in pulling off something like this, and how great it felt for him to be improvising in front of a camera again, and the curious tensions that popped up in his interview with Eminem. And then we got onto the subject of discomfort and disorientation, and the urge he has to seek out those feelings, and from there it was a quick jump to the nature of suffering. Before long we were sitting there with a plate of roast chicken and several bottles of Cholula on the table between us, both of us rubbing tears from our eyes. “The level of emotion you're getting from me right now—I'm not saying it's dishonest,” he said. “I'm just saying it's not normal. I'd really love to go to bed. I promise you, I do not spend my time on the edge of tears.”\n",
        "\n",
        "I've easily played the recording of that conversation a dozen times, only one of them in order to transcribe. And while we spent plenty of time talking about comedy and the conventions of late-night and the sheer practical challenge of doing a show twice as long as his old one—the thing I've been thinking about the most since my time with Colbert is loss. The losses he's experienced in his life, yes, but really the meaning we all make of our losses. Deaths of loved ones, the phases of our children's lives hurtling by, jobs and relationships we never imagined would end. All of it. Among other things, our lives are compendiums of loss and change and what we make of it. I've never met anyone who's faced that reality more meaningfully than Stephen Colbert. I suppose, more than anything, that's what this story is about.\n",
        "\n",
        "Also: ball jokes. Or the absence of them. They're doing network now, after all, and Colbert has declared a moratorium on ball jokes. (I believe I was present for the last one. It involved Greece and the Eurozone—and Paul Krugman's balls.)\n",
        "\"\"\"\n",
        "def predict_article(article, model, tokenizer):\n",
        "    paragraphs = split_into_chunks(article, tokenizer)\n",
        "    ai_count = 0\n",
        "    human_count = 0\n",
        "\n",
        "    for paragraph in paragraphs:\n",
        "        inputs = tokenizer(paragraph, return_tensors=\"pt\", truncation=True, max_length=512)\n",
        "        with torch.no_grad():\n",
        "            outputs = model(**inputs)\n",
        "            logits = outputs.logits\n",
        "            predicted_class = torch.argmax(logits, dim=1).item()\n",
        "            if predicted_class == 1:  # AI-Generated\n",
        "                ai_count += 1\n",
        "            else:  # Human-Generated\n",
        "                human_count += 1\n",
        "\n",
        "    # Aggregate results\n",
        "    if ai_count > human_count:\n",
        "        return \"AI-Generated\", ai_count, human_count\n",
        "    else:\n",
        "        return \"Human-Generated\",ai_count,human_count\n",
        "\n",
        "# Predict article\n",
        "result = predict_article(long_paragraph, model, tokenizer)\n",
        "print(f\"The article is predicted as: {result}\")\n"
      ],
      "metadata": {
        "colab": {
          "base_uri": "https://localhost:8080/",
          "height": 193
        },
        "id": "NFClJJS2gI7T",
        "outputId": "501d8923-ef06-4ab7-d7fc-35ac95866179"
      },
      "execution_count": null,
      "outputs": [
        {
          "output_type": "error",
          "ename": "NameError",
          "evalue": "name 'model' is not defined",
          "traceback": [
            "\u001b[0;31m---------------------------------------------------------------------------\u001b[0m",
            "\u001b[0;31mNameError\u001b[0m                                 Traceback (most recent call last)",
            "\u001b[0;32m<ipython-input-1-855b8c1915dd>\u001b[0m in \u001b[0;36m<cell line: 40>\u001b[0;34m()\u001b[0m\n\u001b[1;32m     38\u001b[0m \u001b[0;34m\u001b[0m\u001b[0m\n\u001b[1;32m     39\u001b[0m \u001b[0;31m# Predict article\u001b[0m\u001b[0;34m\u001b[0m\u001b[0;34m\u001b[0m\u001b[0m\n\u001b[0;32m---> 40\u001b[0;31m \u001b[0mresult\u001b[0m \u001b[0;34m=\u001b[0m \u001b[0mpredict_article\u001b[0m\u001b[0;34m(\u001b[0m\u001b[0mlong_paragraph\u001b[0m\u001b[0;34m,\u001b[0m \u001b[0mmodel\u001b[0m\u001b[0;34m,\u001b[0m \u001b[0mtokenizer\u001b[0m\u001b[0;34m)\u001b[0m\u001b[0;34m\u001b[0m\u001b[0;34m\u001b[0m\u001b[0m\n\u001b[0m\u001b[1;32m     41\u001b[0m \u001b[0mprint\u001b[0m\u001b[0;34m(\u001b[0m\u001b[0;34mf\"The article is predicted as: {result}\"\u001b[0m\u001b[0;34m)\u001b[0m\u001b[0;34m\u001b[0m\u001b[0;34m\u001b[0m\u001b[0m\n",
            "\u001b[0;31mNameError\u001b[0m: name 'model' is not defined"
          ]
        }
      ]
    },
    {
      "cell_type": "code",
      "source": [
        "import pandas as pd\n",
        "df = pd.read_csv(\"/content/drive/MyDrive/Master2/ITFFC/AiVsHuman.csv\")\n"
      ],
      "metadata": {
        "id": "AI-3gybrex0w"
      },
      "execution_count": null,
      "outputs": []
    },
    {
      "cell_type": "code",
      "source": [
        "pd.set_option('display.max_colwidth', 50000)\n",
        "df[df[\"label\"]==0].sample().get('text').to_string()"
      ],
      "metadata": {
        "id": "Y-tZqx8je-AR"
      },
      "execution_count": null,
      "outputs": []
    }
  ],
  "metadata": {
    "colab": {
      "provenance": [],
      "collapsed_sections": [
        "FvcVdE8FBIqL"
      ],
      "mount_file_id": "16zQneXzHab7n04GHmhrfRaWDYNIvzcDd",
      "authorship_tag": "ABX9TyMzW7wO3Iqm7Au8y+gI60+e",
      "include_colab_link": true
    },
    "kernelspec": {
      "display_name": "Python 3",
      "name": "python3"
    },
    "language_info": {
      "name": "python"
    },
    "widgets": {
      "application/vnd.jupyter.widget-state+json": {
        "ff7ce7c67fda4f4a8becfc04ab24e85a": {
          "model_module": "@jupyter-widgets/controls",
          "model_name": "HBoxModel",
          "model_module_version": "1.5.0",
          "state": {
            "_dom_classes": [],
            "_model_module": "@jupyter-widgets/controls",
            "_model_module_version": "1.5.0",
            "_model_name": "HBoxModel",
            "_view_count": null,
            "_view_module": "@jupyter-widgets/controls",
            "_view_module_version": "1.5.0",
            "_view_name": "HBoxView",
            "box_style": "",
            "children": [
              "IPY_MODEL_2f85efd6070d4980a7ae73214e322843",
              "IPY_MODEL_e974e4c3562546e6a1433244de88229c",
              "IPY_MODEL_f4f7722215d046d6863414952d1670a0"
            ],
            "layout": "IPY_MODEL_2d4a6b866a80408286520741c25fd8c3"
          }
        },
        "2f85efd6070d4980a7ae73214e322843": {
          "model_module": "@jupyter-widgets/controls",
          "model_name": "HTMLModel",
          "model_module_version": "1.5.0",
          "state": {
            "_dom_classes": [],
            "_model_module": "@jupyter-widgets/controls",
            "_model_module_version": "1.5.0",
            "_model_name": "HTMLModel",
            "_view_count": null,
            "_view_module": "@jupyter-widgets/controls",
            "_view_module_version": "1.5.0",
            "_view_name": "HTMLView",
            "description": "",
            "description_tooltip": null,
            "layout": "IPY_MODEL_c4f4239a1f754bcb9cad88e0bdb0cbc5",
            "placeholder": "​",
            "style": "IPY_MODEL_9bf44daff0d3432a8d535cf84ac8fded",
            "value": "tokenizer_config.json: 100%"
          }
        },
        "e974e4c3562546e6a1433244de88229c": {
          "model_module": "@jupyter-widgets/controls",
          "model_name": "FloatProgressModel",
          "model_module_version": "1.5.0",
          "state": {
            "_dom_classes": [],
            "_model_module": "@jupyter-widgets/controls",
            "_model_module_version": "1.5.0",
            "_model_name": "FloatProgressModel",
            "_view_count": null,
            "_view_module": "@jupyter-widgets/controls",
            "_view_module_version": "1.5.0",
            "_view_name": "ProgressView",
            "bar_style": "success",
            "description": "",
            "description_tooltip": null,
            "layout": "IPY_MODEL_3242ae8a41a34430ab6fb8a8d5621777",
            "max": 25,
            "min": 0,
            "orientation": "horizontal",
            "style": "IPY_MODEL_08e3b29f9afb4593bfba804ea303c6de",
            "value": 25
          }
        },
        "f4f7722215d046d6863414952d1670a0": {
          "model_module": "@jupyter-widgets/controls",
          "model_name": "HTMLModel",
          "model_module_version": "1.5.0",
          "state": {
            "_dom_classes": [],
            "_model_module": "@jupyter-widgets/controls",
            "_model_module_version": "1.5.0",
            "_model_name": "HTMLModel",
            "_view_count": null,
            "_view_module": "@jupyter-widgets/controls",
            "_view_module_version": "1.5.0",
            "_view_name": "HTMLView",
            "description": "",
            "description_tooltip": null,
            "layout": "IPY_MODEL_402144eead894c9c9d167e08a55acaa0",
            "placeholder": "​",
            "style": "IPY_MODEL_f755d713d05e47ceba3a2604484ccffe",
            "value": " 25.0/25.0 [00:00&lt;00:00, 1.71kB/s]"
          }
        },
        "2d4a6b866a80408286520741c25fd8c3": {
          "model_module": "@jupyter-widgets/base",
          "model_name": "LayoutModel",
          "model_module_version": "1.2.0",
          "state": {
            "_model_module": "@jupyter-widgets/base",
            "_model_module_version": "1.2.0",
            "_model_name": "LayoutModel",
            "_view_count": null,
            "_view_module": "@jupyter-widgets/base",
            "_view_module_version": "1.2.0",
            "_view_name": "LayoutView",
            "align_content": null,
            "align_items": null,
            "align_self": null,
            "border": null,
            "bottom": null,
            "display": null,
            "flex": null,
            "flex_flow": null,
            "grid_area": null,
            "grid_auto_columns": null,
            "grid_auto_flow": null,
            "grid_auto_rows": null,
            "grid_column": null,
            "grid_gap": null,
            "grid_row": null,
            "grid_template_areas": null,
            "grid_template_columns": null,
            "grid_template_rows": null,
            "height": null,
            "justify_content": null,
            "justify_items": null,
            "left": null,
            "margin": null,
            "max_height": null,
            "max_width": null,
            "min_height": null,
            "min_width": null,
            "object_fit": null,
            "object_position": null,
            "order": null,
            "overflow": null,
            "overflow_x": null,
            "overflow_y": null,
            "padding": null,
            "right": null,
            "top": null,
            "visibility": null,
            "width": null
          }
        },
        "c4f4239a1f754bcb9cad88e0bdb0cbc5": {
          "model_module": "@jupyter-widgets/base",
          "model_name": "LayoutModel",
          "model_module_version": "1.2.0",
          "state": {
            "_model_module": "@jupyter-widgets/base",
            "_model_module_version": "1.2.0",
            "_model_name": "LayoutModel",
            "_view_count": null,
            "_view_module": "@jupyter-widgets/base",
            "_view_module_version": "1.2.0",
            "_view_name": "LayoutView",
            "align_content": null,
            "align_items": null,
            "align_self": null,
            "border": null,
            "bottom": null,
            "display": null,
            "flex": null,
            "flex_flow": null,
            "grid_area": null,
            "grid_auto_columns": null,
            "grid_auto_flow": null,
            "grid_auto_rows": null,
            "grid_column": null,
            "grid_gap": null,
            "grid_row": null,
            "grid_template_areas": null,
            "grid_template_columns": null,
            "grid_template_rows": null,
            "height": null,
            "justify_content": null,
            "justify_items": null,
            "left": null,
            "margin": null,
            "max_height": null,
            "max_width": null,
            "min_height": null,
            "min_width": null,
            "object_fit": null,
            "object_position": null,
            "order": null,
            "overflow": null,
            "overflow_x": null,
            "overflow_y": null,
            "padding": null,
            "right": null,
            "top": null,
            "visibility": null,
            "width": null
          }
        },
        "9bf44daff0d3432a8d535cf84ac8fded": {
          "model_module": "@jupyter-widgets/controls",
          "model_name": "DescriptionStyleModel",
          "model_module_version": "1.5.0",
          "state": {
            "_model_module": "@jupyter-widgets/controls",
            "_model_module_version": "1.5.0",
            "_model_name": "DescriptionStyleModel",
            "_view_count": null,
            "_view_module": "@jupyter-widgets/base",
            "_view_module_version": "1.2.0",
            "_view_name": "StyleView",
            "description_width": ""
          }
        },
        "3242ae8a41a34430ab6fb8a8d5621777": {
          "model_module": "@jupyter-widgets/base",
          "model_name": "LayoutModel",
          "model_module_version": "1.2.0",
          "state": {
            "_model_module": "@jupyter-widgets/base",
            "_model_module_version": "1.2.0",
            "_model_name": "LayoutModel",
            "_view_count": null,
            "_view_module": "@jupyter-widgets/base",
            "_view_module_version": "1.2.0",
            "_view_name": "LayoutView",
            "align_content": null,
            "align_items": null,
            "align_self": null,
            "border": null,
            "bottom": null,
            "display": null,
            "flex": null,
            "flex_flow": null,
            "grid_area": null,
            "grid_auto_columns": null,
            "grid_auto_flow": null,
            "grid_auto_rows": null,
            "grid_column": null,
            "grid_gap": null,
            "grid_row": null,
            "grid_template_areas": null,
            "grid_template_columns": null,
            "grid_template_rows": null,
            "height": null,
            "justify_content": null,
            "justify_items": null,
            "left": null,
            "margin": null,
            "max_height": null,
            "max_width": null,
            "min_height": null,
            "min_width": null,
            "object_fit": null,
            "object_position": null,
            "order": null,
            "overflow": null,
            "overflow_x": null,
            "overflow_y": null,
            "padding": null,
            "right": null,
            "top": null,
            "visibility": null,
            "width": null
          }
        },
        "08e3b29f9afb4593bfba804ea303c6de": {
          "model_module": "@jupyter-widgets/controls",
          "model_name": "ProgressStyleModel",
          "model_module_version": "1.5.0",
          "state": {
            "_model_module": "@jupyter-widgets/controls",
            "_model_module_version": "1.5.0",
            "_model_name": "ProgressStyleModel",
            "_view_count": null,
            "_view_module": "@jupyter-widgets/base",
            "_view_module_version": "1.2.0",
            "_view_name": "StyleView",
            "bar_color": null,
            "description_width": ""
          }
        },
        "402144eead894c9c9d167e08a55acaa0": {
          "model_module": "@jupyter-widgets/base",
          "model_name": "LayoutModel",
          "model_module_version": "1.2.0",
          "state": {
            "_model_module": "@jupyter-widgets/base",
            "_model_module_version": "1.2.0",
            "_model_name": "LayoutModel",
            "_view_count": null,
            "_view_module": "@jupyter-widgets/base",
            "_view_module_version": "1.2.0",
            "_view_name": "LayoutView",
            "align_content": null,
            "align_items": null,
            "align_self": null,
            "border": null,
            "bottom": null,
            "display": null,
            "flex": null,
            "flex_flow": null,
            "grid_area": null,
            "grid_auto_columns": null,
            "grid_auto_flow": null,
            "grid_auto_rows": null,
            "grid_column": null,
            "grid_gap": null,
            "grid_row": null,
            "grid_template_areas": null,
            "grid_template_columns": null,
            "grid_template_rows": null,
            "height": null,
            "justify_content": null,
            "justify_items": null,
            "left": null,
            "margin": null,
            "max_height": null,
            "max_width": null,
            "min_height": null,
            "min_width": null,
            "object_fit": null,
            "object_position": null,
            "order": null,
            "overflow": null,
            "overflow_x": null,
            "overflow_y": null,
            "padding": null,
            "right": null,
            "top": null,
            "visibility": null,
            "width": null
          }
        },
        "f755d713d05e47ceba3a2604484ccffe": {
          "model_module": "@jupyter-widgets/controls",
          "model_name": "DescriptionStyleModel",
          "model_module_version": "1.5.0",
          "state": {
            "_model_module": "@jupyter-widgets/controls",
            "_model_module_version": "1.5.0",
            "_model_name": "DescriptionStyleModel",
            "_view_count": null,
            "_view_module": "@jupyter-widgets/base",
            "_view_module_version": "1.2.0",
            "_view_name": "StyleView",
            "description_width": ""
          }
        },
        "9f255566aed048bc858cfa372033af3f": {
          "model_module": "@jupyter-widgets/controls",
          "model_name": "HBoxModel",
          "model_module_version": "1.5.0",
          "state": {
            "_dom_classes": [],
            "_model_module": "@jupyter-widgets/controls",
            "_model_module_version": "1.5.0",
            "_model_name": "HBoxModel",
            "_view_count": null,
            "_view_module": "@jupyter-widgets/controls",
            "_view_module_version": "1.5.0",
            "_view_name": "HBoxView",
            "box_style": "",
            "children": [
              "IPY_MODEL_b51c07d4ca9249bba65d76fd42055405",
              "IPY_MODEL_a73abd0531bb4731b49c05778d644eaa",
              "IPY_MODEL_2286464cfc804a518fdde5ee80997134"
            ],
            "layout": "IPY_MODEL_81d54294b2d3435b9d416c03be4e83c2"
          }
        },
        "b51c07d4ca9249bba65d76fd42055405": {
          "model_module": "@jupyter-widgets/controls",
          "model_name": "HTMLModel",
          "model_module_version": "1.5.0",
          "state": {
            "_dom_classes": [],
            "_model_module": "@jupyter-widgets/controls",
            "_model_module_version": "1.5.0",
            "_model_name": "HTMLModel",
            "_view_count": null,
            "_view_module": "@jupyter-widgets/controls",
            "_view_module_version": "1.5.0",
            "_view_name": "HTMLView",
            "description": "",
            "description_tooltip": null,
            "layout": "IPY_MODEL_02bd387587b84bf8944b7935aa99fcf6",
            "placeholder": "​",
            "style": "IPY_MODEL_fab5a1f2f3c34436bd55f274c40cc2ba",
            "value": "vocab.json: 100%"
          }
        },
        "a73abd0531bb4731b49c05778d644eaa": {
          "model_module": "@jupyter-widgets/controls",
          "model_name": "FloatProgressModel",
          "model_module_version": "1.5.0",
          "state": {
            "_dom_classes": [],
            "_model_module": "@jupyter-widgets/controls",
            "_model_module_version": "1.5.0",
            "_model_name": "FloatProgressModel",
            "_view_count": null,
            "_view_module": "@jupyter-widgets/controls",
            "_view_module_version": "1.5.0",
            "_view_name": "ProgressView",
            "bar_style": "success",
            "description": "",
            "description_tooltip": null,
            "layout": "IPY_MODEL_6de208da0356412fb776f4b587e83876",
            "max": 898823,
            "min": 0,
            "orientation": "horizontal",
            "style": "IPY_MODEL_6f0516e7ffe04ac3a6f0c95a349377a2",
            "value": 898823
          }
        },
        "2286464cfc804a518fdde5ee80997134": {
          "model_module": "@jupyter-widgets/controls",
          "model_name": "HTMLModel",
          "model_module_version": "1.5.0",
          "state": {
            "_dom_classes": [],
            "_model_module": "@jupyter-widgets/controls",
            "_model_module_version": "1.5.0",
            "_model_name": "HTMLModel",
            "_view_count": null,
            "_view_module": "@jupyter-widgets/controls",
            "_view_module_version": "1.5.0",
            "_view_name": "HTMLView",
            "description": "",
            "description_tooltip": null,
            "layout": "IPY_MODEL_fff6929cbc5c4b4a8c4f6510f7363c55",
            "placeholder": "​",
            "style": "IPY_MODEL_32b48ca722fa49d6afed7c6a227b69c9",
            "value": " 899k/899k [00:00&lt;00:00, 10.8MB/s]"
          }
        },
        "81d54294b2d3435b9d416c03be4e83c2": {
          "model_module": "@jupyter-widgets/base",
          "model_name": "LayoutModel",
          "model_module_version": "1.2.0",
          "state": {
            "_model_module": "@jupyter-widgets/base",
            "_model_module_version": "1.2.0",
            "_model_name": "LayoutModel",
            "_view_count": null,
            "_view_module": "@jupyter-widgets/base",
            "_view_module_version": "1.2.0",
            "_view_name": "LayoutView",
            "align_content": null,
            "align_items": null,
            "align_self": null,
            "border": null,
            "bottom": null,
            "display": null,
            "flex": null,
            "flex_flow": null,
            "grid_area": null,
            "grid_auto_columns": null,
            "grid_auto_flow": null,
            "grid_auto_rows": null,
            "grid_column": null,
            "grid_gap": null,
            "grid_row": null,
            "grid_template_areas": null,
            "grid_template_columns": null,
            "grid_template_rows": null,
            "height": null,
            "justify_content": null,
            "justify_items": null,
            "left": null,
            "margin": null,
            "max_height": null,
            "max_width": null,
            "min_height": null,
            "min_width": null,
            "object_fit": null,
            "object_position": null,
            "order": null,
            "overflow": null,
            "overflow_x": null,
            "overflow_y": null,
            "padding": null,
            "right": null,
            "top": null,
            "visibility": null,
            "width": null
          }
        },
        "02bd387587b84bf8944b7935aa99fcf6": {
          "model_module": "@jupyter-widgets/base",
          "model_name": "LayoutModel",
          "model_module_version": "1.2.0",
          "state": {
            "_model_module": "@jupyter-widgets/base",
            "_model_module_version": "1.2.0",
            "_model_name": "LayoutModel",
            "_view_count": null,
            "_view_module": "@jupyter-widgets/base",
            "_view_module_version": "1.2.0",
            "_view_name": "LayoutView",
            "align_content": null,
            "align_items": null,
            "align_self": null,
            "border": null,
            "bottom": null,
            "display": null,
            "flex": null,
            "flex_flow": null,
            "grid_area": null,
            "grid_auto_columns": null,
            "grid_auto_flow": null,
            "grid_auto_rows": null,
            "grid_column": null,
            "grid_gap": null,
            "grid_row": null,
            "grid_template_areas": null,
            "grid_template_columns": null,
            "grid_template_rows": null,
            "height": null,
            "justify_content": null,
            "justify_items": null,
            "left": null,
            "margin": null,
            "max_height": null,
            "max_width": null,
            "min_height": null,
            "min_width": null,
            "object_fit": null,
            "object_position": null,
            "order": null,
            "overflow": null,
            "overflow_x": null,
            "overflow_y": null,
            "padding": null,
            "right": null,
            "top": null,
            "visibility": null,
            "width": null
          }
        },
        "fab5a1f2f3c34436bd55f274c40cc2ba": {
          "model_module": "@jupyter-widgets/controls",
          "model_name": "DescriptionStyleModel",
          "model_module_version": "1.5.0",
          "state": {
            "_model_module": "@jupyter-widgets/controls",
            "_model_module_version": "1.5.0",
            "_model_name": "DescriptionStyleModel",
            "_view_count": null,
            "_view_module": "@jupyter-widgets/base",
            "_view_module_version": "1.2.0",
            "_view_name": "StyleView",
            "description_width": ""
          }
        },
        "6de208da0356412fb776f4b587e83876": {
          "model_module": "@jupyter-widgets/base",
          "model_name": "LayoutModel",
          "model_module_version": "1.2.0",
          "state": {
            "_model_module": "@jupyter-widgets/base",
            "_model_module_version": "1.2.0",
            "_model_name": "LayoutModel",
            "_view_count": null,
            "_view_module": "@jupyter-widgets/base",
            "_view_module_version": "1.2.0",
            "_view_name": "LayoutView",
            "align_content": null,
            "align_items": null,
            "align_self": null,
            "border": null,
            "bottom": null,
            "display": null,
            "flex": null,
            "flex_flow": null,
            "grid_area": null,
            "grid_auto_columns": null,
            "grid_auto_flow": null,
            "grid_auto_rows": null,
            "grid_column": null,
            "grid_gap": null,
            "grid_row": null,
            "grid_template_areas": null,
            "grid_template_columns": null,
            "grid_template_rows": null,
            "height": null,
            "justify_content": null,
            "justify_items": null,
            "left": null,
            "margin": null,
            "max_height": null,
            "max_width": null,
            "min_height": null,
            "min_width": null,
            "object_fit": null,
            "object_position": null,
            "order": null,
            "overflow": null,
            "overflow_x": null,
            "overflow_y": null,
            "padding": null,
            "right": null,
            "top": null,
            "visibility": null,
            "width": null
          }
        },
        "6f0516e7ffe04ac3a6f0c95a349377a2": {
          "model_module": "@jupyter-widgets/controls",
          "model_name": "ProgressStyleModel",
          "model_module_version": "1.5.0",
          "state": {
            "_model_module": "@jupyter-widgets/controls",
            "_model_module_version": "1.5.0",
            "_model_name": "ProgressStyleModel",
            "_view_count": null,
            "_view_module": "@jupyter-widgets/base",
            "_view_module_version": "1.2.0",
            "_view_name": "StyleView",
            "bar_color": null,
            "description_width": ""
          }
        },
        "fff6929cbc5c4b4a8c4f6510f7363c55": {
          "model_module": "@jupyter-widgets/base",
          "model_name": "LayoutModel",
          "model_module_version": "1.2.0",
          "state": {
            "_model_module": "@jupyter-widgets/base",
            "_model_module_version": "1.2.0",
            "_model_name": "LayoutModel",
            "_view_count": null,
            "_view_module": "@jupyter-widgets/base",
            "_view_module_version": "1.2.0",
            "_view_name": "LayoutView",
            "align_content": null,
            "align_items": null,
            "align_self": null,
            "border": null,
            "bottom": null,
            "display": null,
            "flex": null,
            "flex_flow": null,
            "grid_area": null,
            "grid_auto_columns": null,
            "grid_auto_flow": null,
            "grid_auto_rows": null,
            "grid_column": null,
            "grid_gap": null,
            "grid_row": null,
            "grid_template_areas": null,
            "grid_template_columns": null,
            "grid_template_rows": null,
            "height": null,
            "justify_content": null,
            "justify_items": null,
            "left": null,
            "margin": null,
            "max_height": null,
            "max_width": null,
            "min_height": null,
            "min_width": null,
            "object_fit": null,
            "object_position": null,
            "order": null,
            "overflow": null,
            "overflow_x": null,
            "overflow_y": null,
            "padding": null,
            "right": null,
            "top": null,
            "visibility": null,
            "width": null
          }
        },
        "32b48ca722fa49d6afed7c6a227b69c9": {
          "model_module": "@jupyter-widgets/controls",
          "model_name": "DescriptionStyleModel",
          "model_module_version": "1.5.0",
          "state": {
            "_model_module": "@jupyter-widgets/controls",
            "_model_module_version": "1.5.0",
            "_model_name": "DescriptionStyleModel",
            "_view_count": null,
            "_view_module": "@jupyter-widgets/base",
            "_view_module_version": "1.2.0",
            "_view_name": "StyleView",
            "description_width": ""
          }
        },
        "39fd3015cfa94017b3ebf004fc75e986": {
          "model_module": "@jupyter-widgets/controls",
          "model_name": "HBoxModel",
          "model_module_version": "1.5.0",
          "state": {
            "_dom_classes": [],
            "_model_module": "@jupyter-widgets/controls",
            "_model_module_version": "1.5.0",
            "_model_name": "HBoxModel",
            "_view_count": null,
            "_view_module": "@jupyter-widgets/controls",
            "_view_module_version": "1.5.0",
            "_view_name": "HBoxView",
            "box_style": "",
            "children": [
              "IPY_MODEL_0af6cf2cbbe343d095b3ce1360573733",
              "IPY_MODEL_05e4ea156dd446e8aca39bd751ec9b61",
              "IPY_MODEL_60d61a83c5e74775bff9f1226340acc1"
            ],
            "layout": "IPY_MODEL_5bfb2e6f37994d9a9f8e89ecec20814a"
          }
        },
        "0af6cf2cbbe343d095b3ce1360573733": {
          "model_module": "@jupyter-widgets/controls",
          "model_name": "HTMLModel",
          "model_module_version": "1.5.0",
          "state": {
            "_dom_classes": [],
            "_model_module": "@jupyter-widgets/controls",
            "_model_module_version": "1.5.0",
            "_model_name": "HTMLModel",
            "_view_count": null,
            "_view_module": "@jupyter-widgets/controls",
            "_view_module_version": "1.5.0",
            "_view_name": "HTMLView",
            "description": "",
            "description_tooltip": null,
            "layout": "IPY_MODEL_bdc348274e864e17a59dfe495476611f",
            "placeholder": "​",
            "style": "IPY_MODEL_cf377603a10e4ff6966c5f6ed9ddf706",
            "value": "merges.txt: 100%"
          }
        },
        "05e4ea156dd446e8aca39bd751ec9b61": {
          "model_module": "@jupyter-widgets/controls",
          "model_name": "FloatProgressModel",
          "model_module_version": "1.5.0",
          "state": {
            "_dom_classes": [],
            "_model_module": "@jupyter-widgets/controls",
            "_model_module_version": "1.5.0",
            "_model_name": "FloatProgressModel",
            "_view_count": null,
            "_view_module": "@jupyter-widgets/controls",
            "_view_module_version": "1.5.0",
            "_view_name": "ProgressView",
            "bar_style": "success",
            "description": "",
            "description_tooltip": null,
            "layout": "IPY_MODEL_8d7c71cb7576449fb9d53a5f43d45951",
            "max": 456318,
            "min": 0,
            "orientation": "horizontal",
            "style": "IPY_MODEL_e0003852f9194d1d805abe4e8c16304c",
            "value": 456318
          }
        },
        "60d61a83c5e74775bff9f1226340acc1": {
          "model_module": "@jupyter-widgets/controls",
          "model_name": "HTMLModel",
          "model_module_version": "1.5.0",
          "state": {
            "_dom_classes": [],
            "_model_module": "@jupyter-widgets/controls",
            "_model_module_version": "1.5.0",
            "_model_name": "HTMLModel",
            "_view_count": null,
            "_view_module": "@jupyter-widgets/controls",
            "_view_module_version": "1.5.0",
            "_view_name": "HTMLView",
            "description": "",
            "description_tooltip": null,
            "layout": "IPY_MODEL_e52d26d14aaf499998591c8dc625c4cc",
            "placeholder": "​",
            "style": "IPY_MODEL_24f5228c931c44dfad25991f964ae7ed",
            "value": " 456k/456k [00:00&lt;00:00, 22.0MB/s]"
          }
        },
        "5bfb2e6f37994d9a9f8e89ecec20814a": {
          "model_module": "@jupyter-widgets/base",
          "model_name": "LayoutModel",
          "model_module_version": "1.2.0",
          "state": {
            "_model_module": "@jupyter-widgets/base",
            "_model_module_version": "1.2.0",
            "_model_name": "LayoutModel",
            "_view_count": null,
            "_view_module": "@jupyter-widgets/base",
            "_view_module_version": "1.2.0",
            "_view_name": "LayoutView",
            "align_content": null,
            "align_items": null,
            "align_self": null,
            "border": null,
            "bottom": null,
            "display": null,
            "flex": null,
            "flex_flow": null,
            "grid_area": null,
            "grid_auto_columns": null,
            "grid_auto_flow": null,
            "grid_auto_rows": null,
            "grid_column": null,
            "grid_gap": null,
            "grid_row": null,
            "grid_template_areas": null,
            "grid_template_columns": null,
            "grid_template_rows": null,
            "height": null,
            "justify_content": null,
            "justify_items": null,
            "left": null,
            "margin": null,
            "max_height": null,
            "max_width": null,
            "min_height": null,
            "min_width": null,
            "object_fit": null,
            "object_position": null,
            "order": null,
            "overflow": null,
            "overflow_x": null,
            "overflow_y": null,
            "padding": null,
            "right": null,
            "top": null,
            "visibility": null,
            "width": null
          }
        },
        "bdc348274e864e17a59dfe495476611f": {
          "model_module": "@jupyter-widgets/base",
          "model_name": "LayoutModel",
          "model_module_version": "1.2.0",
          "state": {
            "_model_module": "@jupyter-widgets/base",
            "_model_module_version": "1.2.0",
            "_model_name": "LayoutModel",
            "_view_count": null,
            "_view_module": "@jupyter-widgets/base",
            "_view_module_version": "1.2.0",
            "_view_name": "LayoutView",
            "align_content": null,
            "align_items": null,
            "align_self": null,
            "border": null,
            "bottom": null,
            "display": null,
            "flex": null,
            "flex_flow": null,
            "grid_area": null,
            "grid_auto_columns": null,
            "grid_auto_flow": null,
            "grid_auto_rows": null,
            "grid_column": null,
            "grid_gap": null,
            "grid_row": null,
            "grid_template_areas": null,
            "grid_template_columns": null,
            "grid_template_rows": null,
            "height": null,
            "justify_content": null,
            "justify_items": null,
            "left": null,
            "margin": null,
            "max_height": null,
            "max_width": null,
            "min_height": null,
            "min_width": null,
            "object_fit": null,
            "object_position": null,
            "order": null,
            "overflow": null,
            "overflow_x": null,
            "overflow_y": null,
            "padding": null,
            "right": null,
            "top": null,
            "visibility": null,
            "width": null
          }
        },
        "cf377603a10e4ff6966c5f6ed9ddf706": {
          "model_module": "@jupyter-widgets/controls",
          "model_name": "DescriptionStyleModel",
          "model_module_version": "1.5.0",
          "state": {
            "_model_module": "@jupyter-widgets/controls",
            "_model_module_version": "1.5.0",
            "_model_name": "DescriptionStyleModel",
            "_view_count": null,
            "_view_module": "@jupyter-widgets/base",
            "_view_module_version": "1.2.0",
            "_view_name": "StyleView",
            "description_width": ""
          }
        },
        "8d7c71cb7576449fb9d53a5f43d45951": {
          "model_module": "@jupyter-widgets/base",
          "model_name": "LayoutModel",
          "model_module_version": "1.2.0",
          "state": {
            "_model_module": "@jupyter-widgets/base",
            "_model_module_version": "1.2.0",
            "_model_name": "LayoutModel",
            "_view_count": null,
            "_view_module": "@jupyter-widgets/base",
            "_view_module_version": "1.2.0",
            "_view_name": "LayoutView",
            "align_content": null,
            "align_items": null,
            "align_self": null,
            "border": null,
            "bottom": null,
            "display": null,
            "flex": null,
            "flex_flow": null,
            "grid_area": null,
            "grid_auto_columns": null,
            "grid_auto_flow": null,
            "grid_auto_rows": null,
            "grid_column": null,
            "grid_gap": null,
            "grid_row": null,
            "grid_template_areas": null,
            "grid_template_columns": null,
            "grid_template_rows": null,
            "height": null,
            "justify_content": null,
            "justify_items": null,
            "left": null,
            "margin": null,
            "max_height": null,
            "max_width": null,
            "min_height": null,
            "min_width": null,
            "object_fit": null,
            "object_position": null,
            "order": null,
            "overflow": null,
            "overflow_x": null,
            "overflow_y": null,
            "padding": null,
            "right": null,
            "top": null,
            "visibility": null,
            "width": null
          }
        },
        "e0003852f9194d1d805abe4e8c16304c": {
          "model_module": "@jupyter-widgets/controls",
          "model_name": "ProgressStyleModel",
          "model_module_version": "1.5.0",
          "state": {
            "_model_module": "@jupyter-widgets/controls",
            "_model_module_version": "1.5.0",
            "_model_name": "ProgressStyleModel",
            "_view_count": null,
            "_view_module": "@jupyter-widgets/base",
            "_view_module_version": "1.2.0",
            "_view_name": "StyleView",
            "bar_color": null,
            "description_width": ""
          }
        },
        "e52d26d14aaf499998591c8dc625c4cc": {
          "model_module": "@jupyter-widgets/base",
          "model_name": "LayoutModel",
          "model_module_version": "1.2.0",
          "state": {
            "_model_module": "@jupyter-widgets/base",
            "_model_module_version": "1.2.0",
            "_model_name": "LayoutModel",
            "_view_count": null,
            "_view_module": "@jupyter-widgets/base",
            "_view_module_version": "1.2.0",
            "_view_name": "LayoutView",
            "align_content": null,
            "align_items": null,
            "align_self": null,
            "border": null,
            "bottom": null,
            "display": null,
            "flex": null,
            "flex_flow": null,
            "grid_area": null,
            "grid_auto_columns": null,
            "grid_auto_flow": null,
            "grid_auto_rows": null,
            "grid_column": null,
            "grid_gap": null,
            "grid_row": null,
            "grid_template_areas": null,
            "grid_template_columns": null,
            "grid_template_rows": null,
            "height": null,
            "justify_content": null,
            "justify_items": null,
            "left": null,
            "margin": null,
            "max_height": null,
            "max_width": null,
            "min_height": null,
            "min_width": null,
            "object_fit": null,
            "object_position": null,
            "order": null,
            "overflow": null,
            "overflow_x": null,
            "overflow_y": null,
            "padding": null,
            "right": null,
            "top": null,
            "visibility": null,
            "width": null
          }
        },
        "24f5228c931c44dfad25991f964ae7ed": {
          "model_module": "@jupyter-widgets/controls",
          "model_name": "DescriptionStyleModel",
          "model_module_version": "1.5.0",
          "state": {
            "_model_module": "@jupyter-widgets/controls",
            "_model_module_version": "1.5.0",
            "_model_name": "DescriptionStyleModel",
            "_view_count": null,
            "_view_module": "@jupyter-widgets/base",
            "_view_module_version": "1.2.0",
            "_view_name": "StyleView",
            "description_width": ""
          }
        },
        "5430956c0cdb4b058b56463015d35cb6": {
          "model_module": "@jupyter-widgets/controls",
          "model_name": "HBoxModel",
          "model_module_version": "1.5.0",
          "state": {
            "_dom_classes": [],
            "_model_module": "@jupyter-widgets/controls",
            "_model_module_version": "1.5.0",
            "_model_name": "HBoxModel",
            "_view_count": null,
            "_view_module": "@jupyter-widgets/controls",
            "_view_module_version": "1.5.0",
            "_view_name": "HBoxView",
            "box_style": "",
            "children": [
              "IPY_MODEL_14eb68394c4046528abfb5e0f7d1aee7",
              "IPY_MODEL_4ad476eb73d144aaade1f8dd00164771",
              "IPY_MODEL_0ac1db7b41bb43c19e98526351752b56"
            ],
            "layout": "IPY_MODEL_9faa07114e72443ea105a240aae2869e"
          }
        },
        "14eb68394c4046528abfb5e0f7d1aee7": {
          "model_module": "@jupyter-widgets/controls",
          "model_name": "HTMLModel",
          "model_module_version": "1.5.0",
          "state": {
            "_dom_classes": [],
            "_model_module": "@jupyter-widgets/controls",
            "_model_module_version": "1.5.0",
            "_model_name": "HTMLModel",
            "_view_count": null,
            "_view_module": "@jupyter-widgets/controls",
            "_view_module_version": "1.5.0",
            "_view_name": "HTMLView",
            "description": "",
            "description_tooltip": null,
            "layout": "IPY_MODEL_574047b0a84d4876882006cb6d161235",
            "placeholder": "​",
            "style": "IPY_MODEL_2452b2adbbe343f58ea60b162f4a2e92",
            "value": "tokenizer.json: 100%"
          }
        },
        "4ad476eb73d144aaade1f8dd00164771": {
          "model_module": "@jupyter-widgets/controls",
          "model_name": "FloatProgressModel",
          "model_module_version": "1.5.0",
          "state": {
            "_dom_classes": [],
            "_model_module": "@jupyter-widgets/controls",
            "_model_module_version": "1.5.0",
            "_model_name": "FloatProgressModel",
            "_view_count": null,
            "_view_module": "@jupyter-widgets/controls",
            "_view_module_version": "1.5.0",
            "_view_name": "ProgressView",
            "bar_style": "success",
            "description": "",
            "description_tooltip": null,
            "layout": "IPY_MODEL_97eab9ebe14e44fc86362a4f0df4af3d",
            "max": 1355863,
            "min": 0,
            "orientation": "horizontal",
            "style": "IPY_MODEL_f91187cc4cbf4d058f0ae750a63d5941",
            "value": 1355863
          }
        },
        "0ac1db7b41bb43c19e98526351752b56": {
          "model_module": "@jupyter-widgets/controls",
          "model_name": "HTMLModel",
          "model_module_version": "1.5.0",
          "state": {
            "_dom_classes": [],
            "_model_module": "@jupyter-widgets/controls",
            "_model_module_version": "1.5.0",
            "_model_name": "HTMLModel",
            "_view_count": null,
            "_view_module": "@jupyter-widgets/controls",
            "_view_module_version": "1.5.0",
            "_view_name": "HTMLView",
            "description": "",
            "description_tooltip": null,
            "layout": "IPY_MODEL_a309e8d3f3894fcfbee0b6b6d82d31ca",
            "placeholder": "​",
            "style": "IPY_MODEL_8fcaa4094a7e4bc0a92cb4186b5f8bc2",
            "value": " 1.36M/1.36M [00:00&lt;00:00, 4.99MB/s]"
          }
        },
        "9faa07114e72443ea105a240aae2869e": {
          "model_module": "@jupyter-widgets/base",
          "model_name": "LayoutModel",
          "model_module_version": "1.2.0",
          "state": {
            "_model_module": "@jupyter-widgets/base",
            "_model_module_version": "1.2.0",
            "_model_name": "LayoutModel",
            "_view_count": null,
            "_view_module": "@jupyter-widgets/base",
            "_view_module_version": "1.2.0",
            "_view_name": "LayoutView",
            "align_content": null,
            "align_items": null,
            "align_self": null,
            "border": null,
            "bottom": null,
            "display": null,
            "flex": null,
            "flex_flow": null,
            "grid_area": null,
            "grid_auto_columns": null,
            "grid_auto_flow": null,
            "grid_auto_rows": null,
            "grid_column": null,
            "grid_gap": null,
            "grid_row": null,
            "grid_template_areas": null,
            "grid_template_columns": null,
            "grid_template_rows": null,
            "height": null,
            "justify_content": null,
            "justify_items": null,
            "left": null,
            "margin": null,
            "max_height": null,
            "max_width": null,
            "min_height": null,
            "min_width": null,
            "object_fit": null,
            "object_position": null,
            "order": null,
            "overflow": null,
            "overflow_x": null,
            "overflow_y": null,
            "padding": null,
            "right": null,
            "top": null,
            "visibility": null,
            "width": null
          }
        },
        "574047b0a84d4876882006cb6d161235": {
          "model_module": "@jupyter-widgets/base",
          "model_name": "LayoutModel",
          "model_module_version": "1.2.0",
          "state": {
            "_model_module": "@jupyter-widgets/base",
            "_model_module_version": "1.2.0",
            "_model_name": "LayoutModel",
            "_view_count": null,
            "_view_module": "@jupyter-widgets/base",
            "_view_module_version": "1.2.0",
            "_view_name": "LayoutView",
            "align_content": null,
            "align_items": null,
            "align_self": null,
            "border": null,
            "bottom": null,
            "display": null,
            "flex": null,
            "flex_flow": null,
            "grid_area": null,
            "grid_auto_columns": null,
            "grid_auto_flow": null,
            "grid_auto_rows": null,
            "grid_column": null,
            "grid_gap": null,
            "grid_row": null,
            "grid_template_areas": null,
            "grid_template_columns": null,
            "grid_template_rows": null,
            "height": null,
            "justify_content": null,
            "justify_items": null,
            "left": null,
            "margin": null,
            "max_height": null,
            "max_width": null,
            "min_height": null,
            "min_width": null,
            "object_fit": null,
            "object_position": null,
            "order": null,
            "overflow": null,
            "overflow_x": null,
            "overflow_y": null,
            "padding": null,
            "right": null,
            "top": null,
            "visibility": null,
            "width": null
          }
        },
        "2452b2adbbe343f58ea60b162f4a2e92": {
          "model_module": "@jupyter-widgets/controls",
          "model_name": "DescriptionStyleModel",
          "model_module_version": "1.5.0",
          "state": {
            "_model_module": "@jupyter-widgets/controls",
            "_model_module_version": "1.5.0",
            "_model_name": "DescriptionStyleModel",
            "_view_count": null,
            "_view_module": "@jupyter-widgets/base",
            "_view_module_version": "1.2.0",
            "_view_name": "StyleView",
            "description_width": ""
          }
        },
        "97eab9ebe14e44fc86362a4f0df4af3d": {
          "model_module": "@jupyter-widgets/base",
          "model_name": "LayoutModel",
          "model_module_version": "1.2.0",
          "state": {
            "_model_module": "@jupyter-widgets/base",
            "_model_module_version": "1.2.0",
            "_model_name": "LayoutModel",
            "_view_count": null,
            "_view_module": "@jupyter-widgets/base",
            "_view_module_version": "1.2.0",
            "_view_name": "LayoutView",
            "align_content": null,
            "align_items": null,
            "align_self": null,
            "border": null,
            "bottom": null,
            "display": null,
            "flex": null,
            "flex_flow": null,
            "grid_area": null,
            "grid_auto_columns": null,
            "grid_auto_flow": null,
            "grid_auto_rows": null,
            "grid_column": null,
            "grid_gap": null,
            "grid_row": null,
            "grid_template_areas": null,
            "grid_template_columns": null,
            "grid_template_rows": null,
            "height": null,
            "justify_content": null,
            "justify_items": null,
            "left": null,
            "margin": null,
            "max_height": null,
            "max_width": null,
            "min_height": null,
            "min_width": null,
            "object_fit": null,
            "object_position": null,
            "order": null,
            "overflow": null,
            "overflow_x": null,
            "overflow_y": null,
            "padding": null,
            "right": null,
            "top": null,
            "visibility": null,
            "width": null
          }
        },
        "f91187cc4cbf4d058f0ae750a63d5941": {
          "model_module": "@jupyter-widgets/controls",
          "model_name": "ProgressStyleModel",
          "model_module_version": "1.5.0",
          "state": {
            "_model_module": "@jupyter-widgets/controls",
            "_model_module_version": "1.5.0",
            "_model_name": "ProgressStyleModel",
            "_view_count": null,
            "_view_module": "@jupyter-widgets/base",
            "_view_module_version": "1.2.0",
            "_view_name": "StyleView",
            "bar_color": null,
            "description_width": ""
          }
        },
        "a309e8d3f3894fcfbee0b6b6d82d31ca": {
          "model_module": "@jupyter-widgets/base",
          "model_name": "LayoutModel",
          "model_module_version": "1.2.0",
          "state": {
            "_model_module": "@jupyter-widgets/base",
            "_model_module_version": "1.2.0",
            "_model_name": "LayoutModel",
            "_view_count": null,
            "_view_module": "@jupyter-widgets/base",
            "_view_module_version": "1.2.0",
            "_view_name": "LayoutView",
            "align_content": null,
            "align_items": null,
            "align_self": null,
            "border": null,
            "bottom": null,
            "display": null,
            "flex": null,
            "flex_flow": null,
            "grid_area": null,
            "grid_auto_columns": null,
            "grid_auto_flow": null,
            "grid_auto_rows": null,
            "grid_column": null,
            "grid_gap": null,
            "grid_row": null,
            "grid_template_areas": null,
            "grid_template_columns": null,
            "grid_template_rows": null,
            "height": null,
            "justify_content": null,
            "justify_items": null,
            "left": null,
            "margin": null,
            "max_height": null,
            "max_width": null,
            "min_height": null,
            "min_width": null,
            "object_fit": null,
            "object_position": null,
            "order": null,
            "overflow": null,
            "overflow_x": null,
            "overflow_y": null,
            "padding": null,
            "right": null,
            "top": null,
            "visibility": null,
            "width": null
          }
        },
        "8fcaa4094a7e4bc0a92cb4186b5f8bc2": {
          "model_module": "@jupyter-widgets/controls",
          "model_name": "DescriptionStyleModel",
          "model_module_version": "1.5.0",
          "state": {
            "_model_module": "@jupyter-widgets/controls",
            "_model_module_version": "1.5.0",
            "_model_name": "DescriptionStyleModel",
            "_view_count": null,
            "_view_module": "@jupyter-widgets/base",
            "_view_module_version": "1.2.0",
            "_view_name": "StyleView",
            "description_width": ""
          }
        },
        "1de5b9f745ee4fa78d99f3e08fe08ad8": {
          "model_module": "@jupyter-widgets/controls",
          "model_name": "HBoxModel",
          "model_module_version": "1.5.0",
          "state": {
            "_dom_classes": [],
            "_model_module": "@jupyter-widgets/controls",
            "_model_module_version": "1.5.0",
            "_model_name": "HBoxModel",
            "_view_count": null,
            "_view_module": "@jupyter-widgets/controls",
            "_view_module_version": "1.5.0",
            "_view_name": "HBoxView",
            "box_style": "",
            "children": [
              "IPY_MODEL_5987660029e44e998dde64ef73837f1e",
              "IPY_MODEL_ecd26680dcf044418e3549eda136ba18",
              "IPY_MODEL_35c63ff6e1ab48f4af49a454570d8baf"
            ],
            "layout": "IPY_MODEL_700fae4813e14a82949c9d4e6b09c615"
          }
        },
        "5987660029e44e998dde64ef73837f1e": {
          "model_module": "@jupyter-widgets/controls",
          "model_name": "HTMLModel",
          "model_module_version": "1.5.0",
          "state": {
            "_dom_classes": [],
            "_model_module": "@jupyter-widgets/controls",
            "_model_module_version": "1.5.0",
            "_model_name": "HTMLModel",
            "_view_count": null,
            "_view_module": "@jupyter-widgets/controls",
            "_view_module_version": "1.5.0",
            "_view_name": "HTMLView",
            "description": "",
            "description_tooltip": null,
            "layout": "IPY_MODEL_2d325eb7df934b159a5718f236685d0c",
            "placeholder": "​",
            "style": "IPY_MODEL_68c2ad3f99f144cba6d806a37ec820b9",
            "value": "config.json: 100%"
          }
        },
        "ecd26680dcf044418e3549eda136ba18": {
          "model_module": "@jupyter-widgets/controls",
          "model_name": "FloatProgressModel",
          "model_module_version": "1.5.0",
          "state": {
            "_dom_classes": [],
            "_model_module": "@jupyter-widgets/controls",
            "_model_module_version": "1.5.0",
            "_model_name": "FloatProgressModel",
            "_view_count": null,
            "_view_module": "@jupyter-widgets/controls",
            "_view_module_version": "1.5.0",
            "_view_name": "ProgressView",
            "bar_style": "success",
            "description": "",
            "description_tooltip": null,
            "layout": "IPY_MODEL_49a1d8c6635941fbbac65a855f13b15f",
            "max": 481,
            "min": 0,
            "orientation": "horizontal",
            "style": "IPY_MODEL_0a8bf2d211d940f6a3d7fa5cae7c3d3a",
            "value": 481
          }
        },
        "35c63ff6e1ab48f4af49a454570d8baf": {
          "model_module": "@jupyter-widgets/controls",
          "model_name": "HTMLModel",
          "model_module_version": "1.5.0",
          "state": {
            "_dom_classes": [],
            "_model_module": "@jupyter-widgets/controls",
            "_model_module_version": "1.5.0",
            "_model_name": "HTMLModel",
            "_view_count": null,
            "_view_module": "@jupyter-widgets/controls",
            "_view_module_version": "1.5.0",
            "_view_name": "HTMLView",
            "description": "",
            "description_tooltip": null,
            "layout": "IPY_MODEL_2e34df9906e8416b9b79213198e192cf",
            "placeholder": "​",
            "style": "IPY_MODEL_1c9a0812d5014c48a8e511787cdf518e",
            "value": " 481/481 [00:00&lt;00:00, 27.8kB/s]"
          }
        },
        "700fae4813e14a82949c9d4e6b09c615": {
          "model_module": "@jupyter-widgets/base",
          "model_name": "LayoutModel",
          "model_module_version": "1.2.0",
          "state": {
            "_model_module": "@jupyter-widgets/base",
            "_model_module_version": "1.2.0",
            "_model_name": "LayoutModel",
            "_view_count": null,
            "_view_module": "@jupyter-widgets/base",
            "_view_module_version": "1.2.0",
            "_view_name": "LayoutView",
            "align_content": null,
            "align_items": null,
            "align_self": null,
            "border": null,
            "bottom": null,
            "display": null,
            "flex": null,
            "flex_flow": null,
            "grid_area": null,
            "grid_auto_columns": null,
            "grid_auto_flow": null,
            "grid_auto_rows": null,
            "grid_column": null,
            "grid_gap": null,
            "grid_row": null,
            "grid_template_areas": null,
            "grid_template_columns": null,
            "grid_template_rows": null,
            "height": null,
            "justify_content": null,
            "justify_items": null,
            "left": null,
            "margin": null,
            "max_height": null,
            "max_width": null,
            "min_height": null,
            "min_width": null,
            "object_fit": null,
            "object_position": null,
            "order": null,
            "overflow": null,
            "overflow_x": null,
            "overflow_y": null,
            "padding": null,
            "right": null,
            "top": null,
            "visibility": null,
            "width": null
          }
        },
        "2d325eb7df934b159a5718f236685d0c": {
          "model_module": "@jupyter-widgets/base",
          "model_name": "LayoutModel",
          "model_module_version": "1.2.0",
          "state": {
            "_model_module": "@jupyter-widgets/base",
            "_model_module_version": "1.2.0",
            "_model_name": "LayoutModel",
            "_view_count": null,
            "_view_module": "@jupyter-widgets/base",
            "_view_module_version": "1.2.0",
            "_view_name": "LayoutView",
            "align_content": null,
            "align_items": null,
            "align_self": null,
            "border": null,
            "bottom": null,
            "display": null,
            "flex": null,
            "flex_flow": null,
            "grid_area": null,
            "grid_auto_columns": null,
            "grid_auto_flow": null,
            "grid_auto_rows": null,
            "grid_column": null,
            "grid_gap": null,
            "grid_row": null,
            "grid_template_areas": null,
            "grid_template_columns": null,
            "grid_template_rows": null,
            "height": null,
            "justify_content": null,
            "justify_items": null,
            "left": null,
            "margin": null,
            "max_height": null,
            "max_width": null,
            "min_height": null,
            "min_width": null,
            "object_fit": null,
            "object_position": null,
            "order": null,
            "overflow": null,
            "overflow_x": null,
            "overflow_y": null,
            "padding": null,
            "right": null,
            "top": null,
            "visibility": null,
            "width": null
          }
        },
        "68c2ad3f99f144cba6d806a37ec820b9": {
          "model_module": "@jupyter-widgets/controls",
          "model_name": "DescriptionStyleModel",
          "model_module_version": "1.5.0",
          "state": {
            "_model_module": "@jupyter-widgets/controls",
            "_model_module_version": "1.5.0",
            "_model_name": "DescriptionStyleModel",
            "_view_count": null,
            "_view_module": "@jupyter-widgets/base",
            "_view_module_version": "1.2.0",
            "_view_name": "StyleView",
            "description_width": ""
          }
        },
        "49a1d8c6635941fbbac65a855f13b15f": {
          "model_module": "@jupyter-widgets/base",
          "model_name": "LayoutModel",
          "model_module_version": "1.2.0",
          "state": {
            "_model_module": "@jupyter-widgets/base",
            "_model_module_version": "1.2.0",
            "_model_name": "LayoutModel",
            "_view_count": null,
            "_view_module": "@jupyter-widgets/base",
            "_view_module_version": "1.2.0",
            "_view_name": "LayoutView",
            "align_content": null,
            "align_items": null,
            "align_self": null,
            "border": null,
            "bottom": null,
            "display": null,
            "flex": null,
            "flex_flow": null,
            "grid_area": null,
            "grid_auto_columns": null,
            "grid_auto_flow": null,
            "grid_auto_rows": null,
            "grid_column": null,
            "grid_gap": null,
            "grid_row": null,
            "grid_template_areas": null,
            "grid_template_columns": null,
            "grid_template_rows": null,
            "height": null,
            "justify_content": null,
            "justify_items": null,
            "left": null,
            "margin": null,
            "max_height": null,
            "max_width": null,
            "min_height": null,
            "min_width": null,
            "object_fit": null,
            "object_position": null,
            "order": null,
            "overflow": null,
            "overflow_x": null,
            "overflow_y": null,
            "padding": null,
            "right": null,
            "top": null,
            "visibility": null,
            "width": null
          }
        },
        "0a8bf2d211d940f6a3d7fa5cae7c3d3a": {
          "model_module": "@jupyter-widgets/controls",
          "model_name": "ProgressStyleModel",
          "model_module_version": "1.5.0",
          "state": {
            "_model_module": "@jupyter-widgets/controls",
            "_model_module_version": "1.5.0",
            "_model_name": "ProgressStyleModel",
            "_view_count": null,
            "_view_module": "@jupyter-widgets/base",
            "_view_module_version": "1.2.0",
            "_view_name": "StyleView",
            "bar_color": null,
            "description_width": ""
          }
        },
        "2e34df9906e8416b9b79213198e192cf": {
          "model_module": "@jupyter-widgets/base",
          "model_name": "LayoutModel",
          "model_module_version": "1.2.0",
          "state": {
            "_model_module": "@jupyter-widgets/base",
            "_model_module_version": "1.2.0",
            "_model_name": "LayoutModel",
            "_view_count": null,
            "_view_module": "@jupyter-widgets/base",
            "_view_module_version": "1.2.0",
            "_view_name": "LayoutView",
            "align_content": null,
            "align_items": null,
            "align_self": null,
            "border": null,
            "bottom": null,
            "display": null,
            "flex": null,
            "flex_flow": null,
            "grid_area": null,
            "grid_auto_columns": null,
            "grid_auto_flow": null,
            "grid_auto_rows": null,
            "grid_column": null,
            "grid_gap": null,
            "grid_row": null,
            "grid_template_areas": null,
            "grid_template_columns": null,
            "grid_template_rows": null,
            "height": null,
            "justify_content": null,
            "justify_items": null,
            "left": null,
            "margin": null,
            "max_height": null,
            "max_width": null,
            "min_height": null,
            "min_width": null,
            "object_fit": null,
            "object_position": null,
            "order": null,
            "overflow": null,
            "overflow_x": null,
            "overflow_y": null,
            "padding": null,
            "right": null,
            "top": null,
            "visibility": null,
            "width": null
          }
        },
        "1c9a0812d5014c48a8e511787cdf518e": {
          "model_module": "@jupyter-widgets/controls",
          "model_name": "DescriptionStyleModel",
          "model_module_version": "1.5.0",
          "state": {
            "_model_module": "@jupyter-widgets/controls",
            "_model_module_version": "1.5.0",
            "_model_name": "DescriptionStyleModel",
            "_view_count": null,
            "_view_module": "@jupyter-widgets/base",
            "_view_module_version": "1.2.0",
            "_view_name": "StyleView",
            "description_width": ""
          }
        }
      }
    }
  },
  "nbformat": 4,
  "nbformat_minor": 0
}