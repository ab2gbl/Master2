{
  "nbformat": 4,
  "nbformat_minor": 0,
  "metadata": {
    "colab": {
      "provenance": [],
      "authorship_tag": "ABX9TyPYiO3Z3zUVgY8VjvHev7Gv",
      "include_colab_link": true
    },
    "kernelspec": {
      "name": "python3",
      "display_name": "Python 3"
    },
    "language_info": {
      "name": "python"
    }
  },
  "cells": [
    {
      "cell_type": "markdown",
      "metadata": {
        "id": "view-in-github",
        "colab_type": "text"
      },
      "source": [
        "<a href=\"https://colab.research.google.com/github/ab2gbl/Master2/blob/main/MLCI/TP/MLCI_TP2.ipynb\" target=\"_parent\"><img src=\"https://colab.research.google.com/assets/colab-badge.svg\" alt=\"Open In Colab\"/></a>"
      ]
    },
    {
      "cell_type": "code",
      "execution_count": null,
      "metadata": {
        "colab": {
          "base_uri": "https://localhost:8080/"
        },
        "id": "o0gqOSiIZnkr",
        "outputId": "707288c7-24b1-42f0-a305-98b4d714b1f7"
      },
      "outputs": [
        {
          "output_type": "stream",
          "name": "stdout",
          "text": [
            "[0.74248596 0.00366644 0.        ]\n"
          ]
        }
      ],
      "source": [
        "import numpy as np\n",
        "\n",
        "data = np.array([\n",
        "    [1, 0],\n",
        "    [1, 1],\n",
        "    [0, 1],\n",
        "    [0, 0]\n",
        "])\n",
        "labels = np.array([0, 1, 0, 0])\n",
        "\n",
        "\n",
        "weights = np.append(np.random.uniform(-1, 1, 2), 0)\n",
        "\n",
        "\n",
        "learning_rate = 0.1\n",
        "epochs = 300000\n",
        "\n",
        "print(weights)\n"
      ]
    },
    {
      "cell_type": "markdown",
      "source": [
        "# New\n",
        "\n"
      ],
      "metadata": {
        "id": "wuAmp7RtlU32"
      }
    },
    {
      "cell_type": "code",
      "source": [
        "def weighted_sum(inputs):\n",
        "  inputs_with_bias = np.append(inputs, 1)\n",
        "  return np.dot(inputs_with_bias, weights)    # sum input*weight\n",
        "\n",
        "weighted_sum([1,0])\n"
      ],
      "metadata": {
        "colab": {
          "base_uri": "https://localhost:8080/"
        },
        "id": "p1ecTwwraPdD",
        "outputId": "58972737-6209-445f-8005-ce61b65de071"
      },
      "execution_count": null,
      "outputs": [
        {
          "output_type": "execute_result",
          "data": {
            "text/plain": [
              "-5.2474851817963675"
            ]
          },
          "metadata": {},
          "execution_count": 49
        }
      ]
    },
    {
      "cell_type": "code",
      "source": [
        "def sigmoid(x):\n",
        "    return 1 / (1 + np.exp(-x))"
      ],
      "metadata": {
        "id": "cAhK_5lHjDZF"
      },
      "execution_count": null,
      "outputs": []
    },
    {
      "cell_type": "code",
      "source": [
        "\n",
        "\n",
        "def calculate_error(prediction, target):\n",
        "    return prediction - target\n",
        "\n",
        "def MSE(predictions, targets):\n",
        "    errors = calculate_error(predictions, targets)\n",
        "    squared_errors = errors ** 2\n",
        "    mse = np.mean(squared_errors)  # average\n",
        "    return mse\n",
        "\n",
        "\n",
        "\n"
      ],
      "metadata": {
        "id": "I0hHw7rTjE9-"
      },
      "execution_count": null,
      "outputs": []
    },
    {
      "cell_type": "code",
      "source": [
        "\n",
        "def calculate_gradient(error, prediction):\n",
        "    gradient = error * prediction * (1 - prediction)\n",
        "    return gradient\n"
      ],
      "metadata": {
        "id": "FB_LJYWGkpU5"
      },
      "execution_count": null,
      "outputs": []
    },
    {
      "cell_type": "code",
      "source": [
        "\n",
        "def adjust_weights(inputs, gradient):\n",
        "    global weights\n",
        "    inputs_with_bias = np.append(inputs, 1)\n",
        "    weights += learning_rate * gradient * inputs_with_bias\n"
      ],
      "metadata": {
        "id": "xe92O5ygkvmA"
      },
      "execution_count": null,
      "outputs": []
    },
    {
      "cell_type": "code",
      "source": [],
      "metadata": {
        "id": "Wef3Y2o4lXyu"
      },
      "execution_count": null,
      "outputs": []
    },
    {
      "cell_type": "code",
      "source": [
        "mse_values = []  # To store MSE values for each epoch\n",
        "\n",
        "for epoch in range(epochs):\n",
        "    predictions = []\n",
        "\n",
        "    # Loop over each sample\n",
        "    for i in range(len(data)):\n",
        "        inputs = data[i]\n",
        "        target = labels[i]\n",
        "\n",
        "        # Make a prediction\n",
        "        w_sum = weighted_sum(inputs)\n",
        "        prediction = sigmoid(w_sum)\n",
        "        predictions.append(prediction)\n",
        "\n",
        "        # Calculate error (target - prediction)\n",
        "        error =calculate_error (target , prediction)\n",
        "\n",
        "        # Adjust weights (gradient descent)\n",
        "        gradiant=calculate_gradient(error,prediction)\n",
        "        adjust_weights(inputs,gradiant)\n",
        "\n",
        "    # Calculate MSE for this epoch and add to the list\n",
        "    mse = MSE(predictions, labels)\n",
        "    mse_values.append(mse)\n",
        "\n",
        "    # Print MSE every 50,000 epochs for tracking\n",
        "    if epoch % 50000 == 0:\n",
        "        print(f\"Epoch {epoch}, MSE: {mse}\")\n"
      ],
      "metadata": {
        "colab": {
          "base_uri": "https://localhost:8080/"
        },
        "id": "dJIC8DlJdS_9",
        "outputId": "891b49f8-0b16-43a1-a632-3e1af923ae6a"
      },
      "execution_count": null,
      "outputs": [
        {
          "output_type": "stream",
          "name": "stdout",
          "text": [
            "Epoch 0, MSE: 0.3563782866980681\n",
            "Epoch 50000, MSE: 0.00046931347084700246\n",
            "Epoch 100000, MSE: 0.00022793433789261932\n",
            "Epoch 150000, MSE: 0.00015000068590181434\n",
            "Epoch 200000, MSE: 0.00011163453155349998\n",
            "Epoch 250000, MSE: 8.883804707406704e-05\n"
          ]
        }
      ]
    },
    {
      "cell_type": "markdown",
      "source": [
        "# Old"
      ],
      "metadata": {
        "id": "J5J90FzRuwR4"
      }
    },
    {
      "cell_type": "code",
      "source": [
        "# Sigmoid activation function\n",
        "def sigmoid(x):\n",
        "    return 1 / (1 + np.exp(-x))\n",
        "\n",
        "# Prediction function\n",
        "def predict(inputs):\n",
        "    # Adding bias as the third input (1)\n",
        "    inputs_with_bias = np.append(inputs, 1)\n",
        "    # Weighted sum\n",
        "    weighted_sum = np.dot(inputs_with_bias, weights)\n",
        "    # Apply activation function\n",
        "    return sigmoid(weighted_sum)\n",
        "\n",
        "# Function to calculate the Mean Squared Error (MSE)\n",
        "def calculate_mse(predictions, labels):\n",
        "    errors = predictions - labels\n",
        "    mse = np.mean(errors ** 2)\n",
        "    return mse\n",
        "mse_values = []  # To store MSE values for each epoch\n",
        "\n",
        "for epoch in range(epochs):\n",
        "    predictions = []\n",
        "\n",
        "    # Loop over each sample\n",
        "    for i in range(len(data)):\n",
        "        inputs = data[i]\n",
        "        target = labels[i]\n",
        "\n",
        "        # Make a prediction\n",
        "        prediction = predict(inputs)\n",
        "        predictions.append(prediction)\n",
        "\n",
        "        # Calculate error (target - prediction)\n",
        "        error = target - prediction\n",
        "\n",
        "        # Adjust weights (gradient descent)\n",
        "        inputs_with_bias = np.append(inputs, 1)\n",
        "        weights += learning_rate * error * prediction * (1 - prediction) * inputs_with_bias\n",
        "\n",
        "    # Calculate MSE for this epoch and add to the list\n",
        "    mse = calculate_mse(np.array(predictions), labels)\n",
        "    mse_values.append(mse)\n",
        "\n",
        "    # Print MSE every 50,000 epochs for tracking\n",
        "    if epoch % 50000 == 0:\n",
        "        print(f\"Epoch {epoch}, MSE: {mse}\")\n"
      ],
      "metadata": {
        "colab": {
          "base_uri": "https://localhost:8080/"
        },
        "id": "8EhgQbaXuy8y",
        "outputId": "0909302a-8401-4bf9-e3b2-ef339c2ce42c"
      },
      "execution_count": null,
      "outputs": [
        {
          "output_type": "stream",
          "name": "stdout",
          "text": [
            "Epoch 0, MSE: 0.2731089669695103\n",
            "Epoch 50000, MSE: 0.00046969285601942517\n",
            "Epoch 100000, MSE: 0.0002280251968414588\n",
            "Epoch 150000, MSE: 0.0001500402956011995\n",
            "Epoch 200000, MSE: 0.00011165655602394491\n",
            "Epoch 250000, MSE: 8.885203184249008e-05\n"
          ]
        }
      ]
    },
    {
      "cell_type": "markdown",
      "source": [
        "# test"
      ],
      "metadata": {
        "id": "MN27VaZrvIkX"
      }
    },
    {
      "cell_type": "code",
      "source": [
        "plt.plot(mse_values)\n",
        "plt.xlabel('Epochs')\n",
        "plt.ylabel('Mean Squared Error (MSE)')\n",
        "plt.title('MSE over Epochs')\n",
        "plt.show()\n"
      ],
      "metadata": {
        "colab": {
          "base_uri": "https://localhost:8080/",
          "height": 472
        },
        "id": "AefRJjN9beza",
        "outputId": "f02e0723-f8e8-40b4-f59b-083aa4c71e82"
      },
      "execution_count": null,
      "outputs": [
        {
          "output_type": "display_data",
          "data": {
            "text/plain": [
              "<Figure size 640x480 with 1 Axes>"
            ],
            "image/png": "[encoded data removed]"
          },
          "metadata": {}
        }
      ]
    },
    {
      "cell_type": "code",
      "source": [
        "# Test cases\n",
        "test_data = np.array([\n",
        "    [0, 1],\n",
        "    [1, 1]\n",
        "])\n",
        "\n",
        "print(\"Predictions after training:\")\n",
        "for i, test_case in enumerate(test_data):\n",
        "\n",
        "    w_sum = weighted_sum(test_case)\n",
        "    prediction = sigmoid(w_sum)\n",
        "    print(f\"Test Case {i+1} (X1={test_case[0]}, X2={test_case[1]}): Prediction = {round(prediction)} ({prediction:.4f})\")\n"
      ],
      "metadata": {
        "colab": {
          "base_uri": "https://localhost:8080/"
        },
        "id": "dXY8DlhXdqkY",
        "outputId": "196bab11-8a15-4bb7-87d4-18c7d9f4250b"
      },
      "execution_count": null,
      "outputs": [
        {
          "output_type": "stream",
          "name": "stdout",
          "text": [
            "Predictions after training:\n",
            "Test Case 1 (X1=0, X2=1): Prediction = 0 (0.0093)\n",
            "Test Case 2 (X1=1, X2=1): Prediction = 1 (0.9890)\n"
          ]
        }
      ]
    }
  ]
}