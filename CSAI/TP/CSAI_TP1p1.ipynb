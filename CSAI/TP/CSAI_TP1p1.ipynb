{
  "nbformat": 4,
  "nbformat_minor": 0,
  "metadata": {
    "colab": {
      "provenance": [],
      "authorship_tag": "ABX9TyMkTtnZdygXQvLOZWumnhKk",
      "include_colab_link": true
    },
    "kernelspec": {
      "name": "python3",
      "display_name": "Python 3"
    },
    "language_info": {
      "name": "python"
    }
  },
  "cells": [
    {
      "cell_type": "markdown",
      "metadata": {
        "id": "view-in-github",
        "colab_type": "text"
      },
      "source": [
        "<a href=\"https://colab.research.google.com/github/ab2gbl/Master2/blob/main/CSAI/TP/CSAI_TP1p1.ipynb\" target=\"_parent\"><img src=\"https://colab.research.google.com/assets/colab-badge.svg\" alt=\"Open In Colab\"/></a>"
      ]
    },
    {
      "cell_type": "code",
      "source": [
        "NbIter = 20\n",
        "Popsize = 4\n",
        "Pc = 0.09\n",
        "Pm=0.02"
      ],
      "metadata": {
        "id": "EAXnCGY2693B"
      },
      "execution_count": 68,
      "outputs": []
    },
    {
      "cell_type": "markdown",
      "source": [
        "# Init Population"
      ],
      "metadata": {
        "id": "mMaFX6uu-p8K"
      }
    },
    {
      "cell_type": "code",
      "source": [
        "import random\n",
        "\n",
        "def Init_bin(Popsize,ChainneLen):\n",
        "  p = [[random.randint(0, 1) for i in range(ChainneLen)] for i in range(Popsize)]\n",
        "  return p\n",
        "\n",
        "print(Init_bin(Popsize,5))"
      ],
      "metadata": {
        "id": "92wbRsPe63aG",
        "colab": {
          "base_uri": "https://localhost:8080/"
        },
        "outputId": "475e6014-0d11-44c4-de77-bf9fdca2bc88"
      },
      "execution_count": 69,
      "outputs": [
        {
          "output_type": "stream",
          "name": "stdout",
          "text": [
            "[[0, 0, 1, 0, 1], [1, 1, 1, 0, 1], [1, 1, 1, 0, 0], [1, 1, 0, 0, 0]]\n"
          ]
        }
      ]
    },
    {
      "cell_type": "markdown",
      "source": [
        "# Mutation"
      ],
      "metadata": {
        "id": "a-nEmfcE-zq0"
      }
    },
    {
      "cell_type": "code",
      "source": [
        "def Mut_bin(vect,Pm):\n",
        "  for i in range(len(vect)):\n",
        "    if random.random() < Pm:\n",
        "      vect[i] = 1 - vect[i]\n",
        "  return vect\n",
        "\n",
        "print(Mut_bin([1,0,1,0,1],0.2))\n"
      ],
      "metadata": {
        "id": "euOmnUpc8n89",
        "colab": {
          "base_uri": "https://localhost:8080/"
        },
        "outputId": "5fdae033-26c4-40fa-c49b-9bf259055ede"
      },
      "execution_count": 70,
      "outputs": [
        {
          "output_type": "stream",
          "name": "stdout",
          "text": [
            "[1, 0, 0, 1, 1]\n"
          ]
        }
      ]
    },
    {
      "cell_type": "markdown",
      "source": [
        "# Crossover"
      ],
      "metadata": {
        "id": "Tq8uCFFh9RmZ"
      }
    },
    {
      "cell_type": "code",
      "source": [
        "def Coss_bin (v1 ,v2, Pc):\n",
        "  if random.random()<Pc:\n",
        "    point=random.randint(1,len(v1)-1)\n",
        "    v1[point:],v2[point:]=v2[point:],v1[point:]\n",
        "  return v1 ,v2\n",
        "\n",
        "print(Coss_bin([1,0,1,0,1],[0,1,0,1,0],1))"
      ],
      "metadata": {
        "colab": {
          "base_uri": "https://localhost:8080/"
        },
        "id": "oZqlbm4XBmhk",
        "outputId": "284d5e6f-db10-44a2-fca6-6b9e0054db1a"
      },
      "execution_count": 71,
      "outputs": [
        {
          "output_type": "stream",
          "name": "stdout",
          "text": [
            "([1, 0, 1, 1, 0], [0, 1, 0, 0, 1])\n"
          ]
        }
      ]
    },
    {
      "cell_type": "markdown",
      "source": [
        "# fitness"
      ],
      "metadata": {
        "id": "8qlsNqRiAH5a"
      }
    },
    {
      "cell_type": "code",
      "source": [
        "def fitness(x):\n",
        "  k=0\n",
        "  s=0\n",
        "  length=len(x)\n",
        "  for i in range(length):\n",
        "    s=s+x[length-1-i]*2**k\n",
        "    k+=1\n",
        "  return s\n",
        "\n",
        "fitness([1,0,1,0,1])\n",
        ""
      ],
      "metadata": {
        "colab": {
          "base_uri": "https://localhost:8080/"
        },
        "id": "wKl4Xbx0ABPr",
        "outputId": "997dd668-2168-4dcf-87c2-c6712899af0a"
      },
      "execution_count": 72,
      "outputs": [
        {
          "output_type": "execute_result",
          "data": {
            "text/plain": [
              "21"
            ]
          },
          "metadata": {},
          "execution_count": 72
        }
      ]
    },
    {
      "cell_type": "markdown",
      "source": [
        "# Selection ( roulette )"
      ],
      "metadata": {
        "id": "gaJUlAlYCqkD"
      }
    },
    {
      "cell_type": "code",
      "source": [
        "def Select_roulette_bin(pop):\n",
        "  fitnesses = [fitness(vect) for vect in pop]\n",
        "  total_fitness = sum(fitnesses)\n",
        "  probabilities = [fitness / total_fitness for fitness in fitnesses]\n",
        "  selected_index = random.choices(range(len(pop)), weights=probabilities, k=1)[0]\n",
        "  return selected_index,pop[selected_index]\n",
        "\n",
        "pop=Init_bin(Popsize,5)\n",
        "print(pop)\n",
        "print(Select_roulette_bin(pop))"
      ],
      "metadata": {
        "colab": {
          "base_uri": "https://localhost:8080/"
        },
        "id": "GOnCCFcvCma_",
        "outputId": "7201cf4e-b094-4fa5-d220-ae483af724f0"
      },
      "execution_count": 73,
      "outputs": [
        {
          "output_type": "stream",
          "name": "stdout",
          "text": [
            "[[1, 1, 1, 0, 0], [0, 1, 0, 0, 1], [0, 1, 1, 1, 0], [1, 1, 1, 1, 0]]\n",
            "(3, [1, 1, 1, 1, 0])\n"
          ]
        }
      ]
    },
    {
      "cell_type": "markdown",
      "source": [
        "# Replace"
      ],
      "metadata": {
        "id": "vGQrvEau_9yl"
      }
    },
    {
      "cell_type": "code",
      "source": [
        "def Replace_bin(v, pop):\n",
        "    pos,Vold=Select_roulette_bin(pop)\n",
        "    pop[pos] = v\n",
        "    return pop\n",
        "\n",
        "pop=Init_bin(Popsize,5)\n",
        "print(pop)\n",
        "print(Replace_bin([1,0,1,0,1],pop))"
      ],
      "metadata": {
        "colab": {
          "base_uri": "https://localhost:8080/"
        },
        "id": "ZFjQL-wE--oP",
        "outputId": "ff5f1bb1-1d70-4037-f43a-89849f6a2c0f"
      },
      "execution_count": 74,
      "outputs": [
        {
          "output_type": "stream",
          "name": "stdout",
          "text": [
            "[[0, 0, 1, 1, 1], [0, 0, 0, 1, 1], [0, 0, 0, 0, 1], [0, 1, 0, 1, 1]]\n",
            "[[1, 0, 1, 0, 1], [0, 0, 0, 1, 1], [0, 0, 0, 0, 1], [0, 1, 0, 1, 1]]\n"
          ]
        }
      ]
    },
    {
      "cell_type": "markdown",
      "source": [
        "# Genetic Algorithm"
      ],
      "metadata": {
        "id": "pTt-ZVzrFgU_"
      }
    },
    {
      "cell_type": "code",
      "source": [
        "def genetic_algorithm(iterations,popsize,pc,pm):\n",
        "  pop=Init_bin(popsize,5)\n",
        "  for i in range(iterations):\n",
        "    new_pop = pop[:]\n",
        "\n",
        "    _,parent1=Select_roulette_bin(pop)\n",
        "    _,parent2=Select_roulette_bin(pop)\n",
        "\n",
        "\n",
        "    child1,child2=Coss_bin(parent1,parent2,pc)\n",
        "    child1=Mut_bin(child1,pm)\n",
        "    child2=Mut_bin(child2,pm)\n",
        "    new_pop = Replace_bin(child1,new_pop)\n",
        "    new_pop = Replace_bin(child2,new_pop)\n",
        "    pop = new_pop[:]\n",
        "    best_individual = max(pop, key=fitness)\n",
        "    return best_individual, fitness(best_individual)\n",
        "\n",
        "print(genetic_algorithm(NbIter,Popsize,Pc,Pm))\n"
      ],
      "metadata": {
        "colab": {
          "base_uri": "https://localhost:8080/"
        },
        "id": "YeHbrvbCFnaa",
        "outputId": "b2146bcb-0221-4ffd-bb79-614f77fb3421"
      },
      "execution_count": 75,
      "outputs": [
        {
          "output_type": "stream",
          "name": "stdout",
          "text": [
            "([1, 0, 1, 0, 1], 21)\n"
          ]
        }
      ]
    }
  ]
}