{
  "nbformat": 4,
  "nbformat_minor": 0,
  "metadata": {
    "colab": {
      "provenance": [],
      "authorship_tag": "ABX9TyPNxjnQR6xal/OFrJeFPG9/",
      "include_colab_link": true
    },
    "kernelspec": {
      "name": "python3",
      "display_name": "Python 3"
    },
    "language_info": {
      "name": "python"
    }
  },
  "cells": [
    {
      "cell_type": "markdown",
      "metadata": {
        "id": "view-in-github",
        "colab_type": "text"
      },
      "source": [
        "<a href=\"https://colab.research.google.com/github/ab2gbl/Master2/blob/main/CSAI/TP/CSAI_TP1p1.ipynb\" target=\"_parent\"><img src=\"https://colab.research.google.com/assets/colab-badge.svg\" alt=\"Open In Colab\"/></a>"
      ]
    },
    {
      "cell_type": "code",
      "source": [
        "NbIter = 20\n",
        "Popsize = 4\n",
        "Pc = 0.09\n",
        "Pm=0.02"
      ],
      "metadata": {
        "id": "EAXnCGY2693B"
      },
      "execution_count": null,
      "outputs": []
    },
    {
      "cell_type": "markdown",
      "source": [
        "# Init Population"
      ],
      "metadata": {
        "id": "mMaFX6uu-p8K"
      }
    },
    {
      "cell_type": "code",
      "source": [
        "import random\n",
        "\n",
        "def Init_bin(Popsize,ChainneLen):\n",
        "  p = [[random.randint(0, 1) for i in range(ChainneLen)] for i in range(Popsize)]\n",
        "  return p\n",
        "\n",
        "print(Init_bin(Popsize,5))"
      ],
      "metadata": {
        "id": "92wbRsPe63aG",
        "colab": {
          "base_uri": "https://localhost:8080/"
        },
        "outputId": "524e6788-c3c6-4d7f-e433-185e00d6e7c0"
      },
      "execution_count": null,
      "outputs": [
        {
          "output_type": "stream",
          "name": "stdout",
          "text": [
            "[[1, 0, 0, 0, 1], [1, 1, 1, 0, 1], [1, 1, 1, 1, 0], [0, 1, 1, 0, 0]]\n"
          ]
        }
      ]
    },
    {
      "cell_type": "markdown",
      "source": [
        "# Mutation"
      ],
      "metadata": {
        "id": "a-nEmfcE-zq0"
      }
    },
    {
      "cell_type": "code",
      "source": [
        "def Mut_bin(vect,Pm):\n",
        "  v=vect[:]\n",
        "  if random.random() < Pm:\n",
        "    i=random.randint(1,len(v)-1)\n",
        "    v[i] = 1 - v[i]\n",
        "  return v\n",
        "\n",
        "print(Mut_bin([1,0,1,0,1],1))\n"
      ],
      "metadata": {
        "id": "euOmnUpc8n89",
        "colab": {
          "base_uri": "https://localhost:8080/"
        },
        "outputId": "c9fb6d69-710c-4720-ee18-3a9dd0f9a11c"
      },
      "execution_count": null,
      "outputs": [
        {
          "output_type": "stream",
          "name": "stdout",
          "text": [
            "[1, 0, 1, 0, 0]\n"
          ]
        }
      ]
    },
    {
      "cell_type": "markdown",
      "source": [
        "# Crossover"
      ],
      "metadata": {
        "id": "Tq8uCFFh9RmZ"
      }
    },
    {
      "cell_type": "code",
      "source": [
        "def Coss_bin (v1 ,v2, Pc):\n",
        "  Nv1,Nv2=v1[:],v2[:]\n",
        "  if random.random()<Pc:\n",
        "    point=random.randint(1,len(v1)-1)\n",
        "    Nv1[point:],Nv2[point:]=Nv2[point:],Nv1[point:]\n",
        "  return Nv1 , Nv2\n",
        "\n",
        "print(Coss_bin([1,0,1,0,1],[0,1,0,1,0],1))"
      ],
      "metadata": {
        "colab": {
          "base_uri": "https://localhost:8080/"
        },
        "id": "oZqlbm4XBmhk",
        "outputId": "b599422e-56c3-4aa9-c3dc-c59ae1e32293"
      },
      "execution_count": null,
      "outputs": [
        {
          "output_type": "stream",
          "name": "stdout",
          "text": [
            "([1, 0, 1, 1, 0], [0, 1, 0, 0, 1])\n"
          ]
        }
      ]
    },
    {
      "cell_type": "markdown",
      "source": [
        "# fitness"
      ],
      "metadata": {
        "id": "8qlsNqRiAH5a"
      }
    },
    {
      "cell_type": "code",
      "source": [
        "def fitness(x):\n",
        "  k=0\n",
        "  s=0\n",
        "  length=len(x)\n",
        "  for i in range(length):\n",
        "    s=s+x[length-1-i]*2**k\n",
        "    k+=1\n",
        "  return s\n",
        "\n",
        "fitness([1,0,1,0,1])\n"
      ],
      "metadata": {
        "colab": {
          "base_uri": "https://localhost:8080/"
        },
        "id": "wKl4Xbx0ABPr",
        "outputId": "af1e9140-a99e-47d5-e3f2-b14d34da1d85"
      },
      "execution_count": null,
      "outputs": [
        {
          "output_type": "execute_result",
          "data": {
            "text/plain": [
              "21"
            ]
          },
          "metadata": {},
          "execution_count": 44
        }
      ]
    },
    {
      "cell_type": "markdown",
      "source": [
        "# Selection ( roulette )"
      ],
      "metadata": {
        "id": "gaJUlAlYCqkD"
      }
    },
    {
      "cell_type": "code",
      "source": [
        "def Select_roulette_bin(pop):\n",
        "  fitnesses = [fitness(vect) for vect in pop]\n",
        "  total_fitness = sum(fitnesses)\n",
        "  probabilities = [fitness / total_fitness for fitness in fitnesses]\n",
        "  #print(probabilities)\n",
        "  selected_index = random.choices(range(len(pop)), weights=probabilities, k=1)[0]\n",
        "\n",
        "  return selected_index,pop[selected_index]\n",
        "\n",
        "pop=Init_bin(Popsize,5)\n",
        "print(pop)\n",
        "print(Select_roulette_bin(pop))"
      ],
      "metadata": {
        "colab": {
          "base_uri": "https://localhost:8080/"
        },
        "id": "GOnCCFcvCma_",
        "outputId": "f849e191-5084-4352-c1c6-fb1c5cbfd639"
      },
      "execution_count": null,
      "outputs": [
        {
          "output_type": "stream",
          "name": "stdout",
          "text": [
            "[[0, 1, 1, 1, 0], [0, 1, 0, 0, 1], [0, 0, 0, 0, 1], [0, 0, 0, 1, 1]]\n",
            "(1, [0, 1, 0, 0, 1])\n"
          ]
        }
      ]
    },
    {
      "cell_type": "markdown",
      "source": [
        "# Replace"
      ],
      "metadata": {
        "id": "vGQrvEau_9yl"
      }
    },
    {
      "cell_type": "code",
      "source": [
        "def Replace_bin(v, pop):\n",
        "    a=pop[0]\n",
        "    pos=0\n",
        "    for i in range(len(pop)):\n",
        "      if fitness(pop[i])<fitness(a):\n",
        "        a=pop[i]\n",
        "        pos=i\n",
        "\n",
        "    Vold=pop[pos]\n",
        "    #pos,Vold=Select_roulette_bin(pop)\n",
        "    if fitness(v)>fitness(Vold):\n",
        "      pop[pos] = v\n",
        "    return pop\n",
        "\n",
        "pop=Init_bin(Popsize,5)\n",
        "print(pop)\n",
        "print(Replace_bin([1,0,1,0,1],pop))"
      ],
      "metadata": {
        "colab": {
          "base_uri": "https://localhost:8080/"
        },
        "id": "ZFjQL-wE--oP",
        "outputId": "bfdaf1e6-1f7b-4e86-d1ba-c8427f12362e"
      },
      "execution_count": null,
      "outputs": [
        {
          "output_type": "stream",
          "name": "stdout",
          "text": [
            "[[0, 0, 1, 0, 0], [0, 1, 1, 1, 1], [1, 0, 1, 1, 0], [1, 1, 0, 0, 0]]\n",
            "[[0, 0, 1, 0, 0], [0, 1, 1, 1, 1], [1, 0, 1, 1, 0], [1, 1, 0, 0, 0]]\n"
          ]
        }
      ]
    },
    {
      "cell_type": "markdown",
      "source": [
        "# Genetic Algorithm"
      ],
      "metadata": {
        "id": "pTt-ZVzrFgU_"
      }
    },
    {
      "cell_type": "code",
      "source": [
        "def genetic_algorithm(iterations,popsize,pc,pm):\n",
        "  pop=Init_bin(popsize,5)\n",
        "  for i in range(iterations):\n",
        "    new_pop = pop[:]\n",
        "\n",
        "    _,parent1=Select_roulette_bin(pop)\n",
        "    _,parent2=Select_roulette_bin(pop)\n",
        "\n",
        "\n",
        "    child1,child2=Coss_bin(parent1,parent2,pc)\n",
        "    child1=Mut_bin(child1,pm)\n",
        "    child2=Mut_bin(child2,pm)\n",
        "    #print(child1,child2)\n",
        "    new_pop = Replace_bin(child1,new_pop)\n",
        "    new_pop = Replace_bin(child2,new_pop)\n",
        "    pop = new_pop[:]\n",
        "    print(pop)\n",
        "    best_individual = max(pop, key=fitness)\n",
        "  return best_individual, fitness(best_individual)\n",
        "\n",
        "print(genetic_algorithm(NbIter,Popsize,Pc,Pm))\n"
      ],
      "metadata": {
        "colab": {
          "base_uri": "https://localhost:8080/"
        },
        "id": "YeHbrvbCFnaa",
        "outputId": "67673b20-d8fe-4514-e003-4e4666e27a51"
      },
      "execution_count": null,
      "outputs": [
        {
          "output_type": "stream",
          "name": "stdout",
          "text": [
            "[[1, 0, 1, 1, 0], [1, 1, 0, 1, 0], [1, 1, 0, 0, 0], [0, 1, 1, 1, 0]]\n",
            "[[1, 0, 1, 1, 0], [1, 1, 0, 1, 0], [1, 1, 0, 0, 0], [0, 1, 1, 1, 0]]\n",
            "[[1, 0, 1, 1, 0], [1, 1, 0, 1, 0], [1, 1, 0, 0, 0], [0, 1, 1, 1, 0]]\n",
            "[[1, 0, 1, 1, 0], [1, 1, 0, 1, 0], [1, 1, 0, 0, 0], [0, 1, 1, 1, 0]]\n",
            "[[1, 0, 1, 1, 0], [1, 1, 0, 1, 0], [1, 1, 0, 1, 0], [0, 1, 1, 1, 0]]\n",
            "[[1, 0, 1, 1, 0], [1, 1, 0, 1, 0], [1, 1, 0, 1, 0], [0, 1, 1, 1, 0]]\n",
            "[[1, 0, 1, 1, 0], [1, 1, 0, 1, 0], [1, 1, 0, 1, 0], [0, 1, 1, 1, 0]]\n",
            "[[1, 0, 1, 1, 0], [1, 1, 0, 1, 0], [1, 1, 0, 1, 0], [0, 1, 1, 1, 0]]\n",
            "[[1, 1, 0, 1, 0], [1, 1, 0, 1, 0], [1, 1, 0, 1, 0], [0, 1, 1, 1, 0]]\n",
            "[[1, 1, 0, 1, 0], [1, 1, 0, 1, 0], [1, 1, 0, 1, 0], [0, 1, 1, 1, 0]]\n",
            "[[1, 1, 0, 1, 0], [1, 1, 0, 1, 0], [1, 1, 0, 1, 0], [0, 1, 1, 1, 0]]\n",
            "[[1, 1, 0, 1, 0], [1, 1, 0, 1, 0], [1, 1, 0, 1, 0], [1, 1, 0, 1, 0]]\n",
            "[[1, 1, 0, 1, 0], [1, 1, 0, 1, 0], [1, 1, 0, 1, 0], [1, 1, 0, 1, 0]]\n",
            "[[1, 1, 0, 1, 0], [1, 1, 0, 1, 0], [1, 1, 0, 1, 0], [1, 1, 0, 1, 0]]\n",
            "[[1, 1, 0, 1, 0], [1, 1, 0, 1, 0], [1, 1, 0, 1, 0], [1, 1, 0, 1, 0]]\n",
            "[[1, 1, 0, 1, 0], [1, 1, 0, 1, 0], [1, 1, 0, 1, 0], [1, 1, 0, 1, 0]]\n",
            "[[1, 1, 0, 1, 0], [1, 1, 0, 1, 0], [1, 1, 0, 1, 0], [1, 1, 0, 1, 0]]\n",
            "[[1, 1, 0, 1, 0], [1, 1, 0, 1, 0], [1, 1, 0, 1, 0], [1, 1, 0, 1, 0]]\n",
            "[[1, 1, 0, 1, 0], [1, 1, 0, 1, 0], [1, 1, 0, 1, 0], [1, 1, 0, 1, 0]]\n",
            "[[1, 1, 0, 1, 0], [1, 1, 0, 1, 0], [1, 1, 0, 1, 0], [1, 1, 0, 1, 0]]\n",
            "([1, 1, 0, 1, 0], 26)\n"
          ]
        }
      ]
    }
  ]
}