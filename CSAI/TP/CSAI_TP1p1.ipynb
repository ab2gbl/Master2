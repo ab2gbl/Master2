{
  "cells": [
    {
      "cell_type": "markdown",
      "metadata": {
        "id": "view-in-github",
        "colab_type": "text"
      },
      "source": [
        "<a href=\"https://colab.research.google.com/github/ab2gbl/Master2/blob/main/CSAI/TP/CSAI_TP1p1.ipynb\" target=\"_parent\"><img src=\"https://colab.research.google.com/assets/colab-badge.svg\" alt=\"Open In Colab\"/></a>"
      ]
    },
    {
      "cell_type": "markdown",
      "metadata": {
        "id": "AsZEHPuXNjYE"
      },
      "source": [
        "# Init"
      ]
    },
    {
      "cell_type": "code",
      "source": [
        "# Exemple d'utilisation avec une matrice de distances\n",
        "distance_matrix = [\n",
        "    [0, 29, 20, 21, 17, 34, 42, 27],\n",
        "    [29, 0, 15, 29, 28, 40, 31, 23],\n",
        "    [20, 15, 0, 15, 14, 25, 32, 30],\n",
        "    [21, 29, 15, 0, 4, 10, 12, 29],\n",
        "    [17, 28, 14, 4, 0, 8, 18, 35],\n",
        "    [34, 40, 25, 10, 8, 0, 15, 20],\n",
        "    [42, 31, 32, 12, 18, 15, 0, 28],\n",
        "    [27, 23, 30, 29, 35, 20, 28, 0]\n",
        "]"
      ],
      "metadata": {
        "id": "af_vrSB7_6uz"
      },
      "execution_count": null,
      "outputs": []
    },
    {
      "cell_type": "code",
      "execution_count": null,
      "metadata": {
        "id": "qSWHFQ1kLIb7",
        "colab": {
          "base_uri": "https://localhost:8080/"
        },
        "outputId": "fdcdca0d-f78f-4ca0-cd63-cfc7e5243999"
      },
      "outputs": [
        {
          "output_type": "stream",
          "name": "stdout",
          "text": [
            "[[4, 7, 2, 1, 6, 5, 0, 3], [0, 5, 6, 3, 7, 4, 1, 2], [7, 5, 1, 0, 4, 6, 3, 2], [0, 7, 6, 2, 3, 1, 5, 4], [0, 4, 7, 3, 6, 2, 1, 5], [5, 2, 4, 6, 1, 0, 7, 3], [5, 2, 4, 6, 0, 1, 7, 3], [3, 2, 1, 7, 4, 5, 0, 6], [2, 1, 3, 4, 6, 0, 7, 5], [5, 0, 7, 2, 6, 1, 4, 3], [6, 3, 2, 7, 0, 4, 5, 1], [6, 5, 4, 3, 1, 0, 2, 7], [5, 7, 6, 3, 2, 4, 1, 0], [1, 2, 0, 4, 6, 7, 3, 5], [2, 6, 3, 5, 7, 0, 1, 4], [0, 1, 5, 2, 3, 6, 4, 7], [7, 4, 6, 3, 0, 5, 1, 2], [7, 3, 1, 2, 6, 4, 5, 0], [0, 6, 7, 4, 1, 3, 2, 5], [7, 6, 1, 4, 5, 2, 0, 3]]\n"
          ]
        }
      ],
      "source": [
        "import random\n",
        "\n",
        "def Init_int(pop_size=20, bit_nb=8):\n",
        "    pop = []\n",
        "    for _ in range(pop_size):\n",
        "        vect = random.sample(range(bit_nb), bit_nb)\n",
        "        pop.append(vect)\n",
        "    return pop\n",
        "\n",
        "pop = Init_int()\n",
        "print(pop)"
      ]
    },
    {
      "cell_type": "markdown",
      "metadata": {
        "id": "Itz10aV9ONQp"
      },
      "source": [
        "# Mutation"
      ]
    },
    {
      "cell_type": "code",
      "execution_count": null,
      "metadata": {
        "colab": {
          "base_uri": "https://localhost:8080/"
        },
        "id": "c0ZkOEXyOPr4",
        "outputId": "25d0745f-c6bf-4049-b54b-0d389a273509"
      },
      "outputs": [
        {
          "output_type": "stream",
          "name": "stdout",
          "text": [
            "[3, 4, 6, 0, 7, 2, 1, 5]\n",
            "[[3, 4, 6, 0, 7, 2, 1, 5], [1, 3, 6, 5, 7, 4, 2, 0], [1, 7, 0, 5, 6, 2, 3, 4], [5, 1, 3, 2, 4, 6, 7, 0], [6, 3, 5, 1, 0, 4, 7, 2], [7, 0, 5, 3, 2, 1, 6, 4], [7, 4, 2, 5, 0, 1, 6, 3], [7, 3, 1, 5, 4, 6, 2, 0], [7, 0, 6, 2, 1, 3, 5, 4], [4, 5, 0, 3, 1, 2, 7, 6], [7, 3, 1, 0, 5, 4, 6, 2], [4, 1, 7, 3, 5, 6, 0, 2], [3, 2, 6, 5, 1, 4, 0, 7], [5, 3, 2, 0, 1, 6, 7, 4], [0, 2, 7, 1, 4, 5, 3, 6], [3, 1, 7, 2, 5, 0, 4, 6], [6, 5, 1, 3, 7, 4, 0, 2], [2, 7, 3, 5, 6, 4, 0, 1], [3, 5, 4, 7, 6, 1, 2, 0], [3, 7, 2, 1, 5, 4, 6, 0]]\n"
          ]
        }
      ],
      "source": [
        "def Mut_int(vect, Pm):\n",
        "    if random.random() < Pm:\n",
        "        pos1, pos2 = random.sample(range(len(vect)), 2)\n",
        "        vect[pos1], vect[pos2] = vect[pos2], vect[pos1]\n",
        "    return vect\n",
        "\n",
        "print(Mut_int(pop[0], 1))\n",
        "print(pop)"
      ]
    },
    {
      "cell_type": "markdown",
      "metadata": {
        "id": "k2jVs-SPPYmx"
      },
      "source": [
        "# Crossover"
      ]
    },
    {
      "cell_type": "code",
      "execution_count": null,
      "metadata": {
        "id": "6W_LvhXafh3R"
      },
      "outputs": [],
      "source": [
        "import random\n",
        "\n",
        "def Coss_int(v1, v2, Pc):\n",
        "  oldv1,oldv2=v1[:],v2[:]\n",
        "  #print(v1,v2)\n",
        "  k=random.randint(1,len(v1)-1)\n",
        "  #k=5\n",
        "  for i in range(k):\n",
        "    num=oldv1[i]\n",
        "    while num in oldv2[k:]:\n",
        "      new_num_ind=oldv2.index(num)\n",
        "      new_num=oldv1[new_num_ind]\n",
        "      num = new_num\n",
        "    oldv1[i]=num\n",
        "\n",
        "  child1=oldv1[:k]+oldv2[k:]\n",
        "  oldv1,oldv2=v1[:],v2[:]\n",
        "  for i in range(k):\n",
        "    num=oldv2[i]\n",
        "    while num in oldv1[k:]:\n",
        "      new_num_ind=oldv1.index(num)\n",
        "      new_num=oldv2[new_num_ind]\n",
        "      num = new_num\n",
        "    oldv2[i]=num\n",
        "  child2=oldv2[:k]+oldv1[k:]\n",
        "\n",
        "  return child1, child2\n",
        "\n"
      ]
    },
    {
      "cell_type": "code",
      "execution_count": null,
      "metadata": {
        "colab": {
          "base_uri": "https://localhost:8080/"
        },
        "id": "GBsk8b5tPlB5",
        "outputId": "aa1e7982-d4a8-4614-d180-a0a4a39e90e9"
      },
      "outputs": [
        {
          "output_type": "stream",
          "name": "stdout",
          "text": [
            "v1: [7, 5, 0, 3, 4, 2, 6, 1]\n",
            "v2: [1, 6, 3, 4, 2, 5, 0, 7]\n",
            "child1: [1, 2, 6, 3, 4, 5, 0, 7]\n",
            "child2: [7, 0, 3, 4, 5, 2, 6, 1]\n",
            "[[4, 7, 2, 1, 6, 5, 0, 3], [0, 5, 6, 3, 7, 4, 1, 2], [7, 5, 1, 0, 4, 6, 3, 2], [0, 7, 6, 2, 3, 1, 5, 4], [0, 4, 7, 3, 6, 2, 1, 5], [5, 2, 4, 6, 1, 0, 7, 3], [5, 2, 4, 6, 0, 1, 7, 3], [3, 2, 1, 7, 4, 5, 0, 6], [2, 1, 3, 4, 6, 0, 7, 5], [5, 0, 7, 2, 6, 1, 4, 3], [6, 3, 2, 7, 0, 4, 5, 1], [6, 5, 4, 3, 1, 0, 2, 7], [5, 7, 6, 3, 2, 4, 1, 0], [1, 2, 0, 4, 6, 7, 3, 5], [2, 6, 3, 5, 7, 0, 1, 4], [0, 1, 5, 2, 3, 6, 4, 7], [7, 4, 6, 3, 0, 5, 1, 2], [7, 3, 1, 2, 6, 4, 5, 0], [5, 7, 2, 4, 1, 6, 0, 3], [7, 6, 1, 4, 5, 2, 0, 3]]\n"
          ]
        }
      ],
      "source": [
        "\n",
        "v1=[7,5,0,3,4,2,6,1]\n",
        "v2=[1,6,3,4,2,5,0,7]\n",
        "# Calling the function\n",
        "child1, child2 = Coss_int(v1,v2, Pc=0.09)\n",
        "\n",
        "# Check results\n",
        "print(\"v1:\", v1)\n",
        "print(\"v2:\", v2)\n",
        "print(\"child1:\", child1)\n",
        "print(\"child2:\", child2)\n",
        "print(pop)"
      ]
    },
    {
      "cell_type": "code",
      "execution_count": null,
      "metadata": {
        "id": "Tmt9ahIOQCdo",
        "colab": {
          "base_uri": "https://localhost:8080/"
        },
        "outputId": "5e20dae6-c165-48ce-f724-6ed0bee187da"
      },
      "outputs": [
        {
          "output_type": "stream",
          "name": "stdout",
          "text": [
            "185\n"
          ]
        }
      ],
      "source": [
        "def fitness(vect, distance_matrix):\n",
        "    total_distance = 0\n",
        "    for i in range(len(vect) - 1):\n",
        "        total_distance += distance_matrix[vect[i]][vect[i+1]]\n",
        "    # Ajouter la distance de retour à la ville de départ\n",
        "    total_distance += distance_matrix[vect[-1]][vect[0]]\n",
        "    return total_distance\n",
        "\n",
        "print(fitness(pop[0],distance_matrix))"
      ]
    },
    {
      "cell_type": "code",
      "execution_count": null,
      "metadata": {
        "id": "e9haN7h3QBKK",
        "colab": {
          "base_uri": "https://localhost:8080/"
        },
        "outputId": "9d9d59d2-6b04-47b4-a227-6b5dc59168b2"
      },
      "outputs": [
        {
          "output_type": "stream",
          "name": "stdout",
          "text": [
            "[[4, 7, 2, 1, 6, 5, 0, 3], [0, 5, 6, 3, 7, 4, 1, 2], [7, 5, 1, 0, 4, 6, 3, 2], [0, 7, 6, 2, 3, 1, 5, 4], [0, 4, 7, 3, 6, 2, 1, 5], [5, 2, 4, 6, 1, 0, 7, 3], [5, 2, 4, 6, 0, 1, 7, 3], [3, 2, 1, 7, 4, 5, 0, 6], [2, 1, 3, 4, 6, 0, 7, 5], [5, 0, 7, 2, 6, 1, 4, 3], [6, 3, 2, 7, 0, 4, 5, 1], [6, 5, 4, 3, 1, 0, 2, 7], [5, 7, 6, 3, 2, 4, 1, 0], [1, 2, 0, 4, 6, 7, 3, 5], [2, 6, 3, 5, 7, 0, 1, 4], [0, 1, 5, 2, 3, 6, 4, 7], [7, 4, 6, 3, 0, 5, 1, 2], [7, 3, 1, 2, 6, 4, 5, 0], [5, 7, 2, 4, 1, 6, 0, 3], [7, 6, 1, 4, 5, 2, 0, 3]]\n"
          ]
        }
      ],
      "source": [
        "def Replace_int(v, pop):\n",
        "\n",
        "    a=pop[0]\n",
        "    pos=0\n",
        "    for i in range(len(pop)):\n",
        "      if fitness(pop[i],distance_matrix)>fitness(a,distance_matrix):\n",
        "        a=pop[i]\n",
        "        pos=i\n",
        "\n",
        "    # Remplacer l'individu à la position 'pos' par le vecteur 'v'\n",
        "    if (fitness(v,distance_matrix)<fitness(a,distance_matrix)):\n",
        "      pop[pos] = v\n",
        "    return pop\n",
        "\n",
        "print(Replace_int([5, 7, 2, 4, 1, 6, 0, 3],pop))\n",
        "\n"
      ]
    },
    {
      "cell_type": "code",
      "execution_count": null,
      "metadata": {
        "id": "r7jehV05QDaP",
        "colab": {
          "base_uri": "https://localhost:8080/"
        },
        "outputId": "59debbf4-32cb-4ee5-acdf-2f828abce9ff"
      },
      "outputs": [
        {
          "output_type": "stream",
          "name": "stdout",
          "text": [
            "(19, [7, 6, 1, 4, 5, 2, 0, 3])\n"
          ]
        }
      ],
      "source": [
        "def Select_roulette(pop,distance_matrix):\n",
        "    fitnesses = [fitness(vect,distance_matrix) for vect in pop]\n",
        "    total_fitness = sum(fitnesses)\n",
        "    probabilities = [f / total_fitness for f in fitnesses]\n",
        "\n",
        "    selected = random.choices(range(len(pop)), weights=probabilities, k=1)[0]\n",
        "    return selected,pop[selected]\n",
        "\n",
        "print(Select_roulette(pop,distance_matrix))\n"
      ]
    },
    {
      "cell_type": "code",
      "source": [
        "population = Init_int(20, len(distance_matrix))"
      ],
      "metadata": {
        "id": "mwi0BsVPId6v"
      },
      "execution_count": null,
      "outputs": []
    },
    {
      "cell_type": "code",
      "execution_count": null,
      "metadata": {
        "colab": {
          "base_uri": "https://localhost:8080/"
        },
        "id": "ztZ9qBlYQEsT",
        "outputId": "3b1be9b1-fbd0-4a59-bc7f-ad228bb09273"
      },
      "outputs": [
        {
          "output_type": "stream",
          "name": "stdout",
          "text": [
            "156\n",
            "156\n",
            "156\n",
            "156\n",
            "156\n",
            "156\n",
            "156\n",
            "156\n",
            "156\n",
            "156\n",
            "151\n",
            "151\n",
            "151\n",
            "151\n",
            "151\n",
            "151\n",
            "151\n",
            "151\n",
            "151\n",
            "151\n",
            "151\n",
            "151\n",
            "151\n",
            "151\n",
            "151\n",
            "151\n",
            "151\n",
            "151\n",
            "148\n",
            "148\n",
            "137\n",
            "137\n",
            "137\n",
            "137\n",
            "137\n",
            "137\n",
            "137\n",
            "137\n",
            "137\n",
            "137\n",
            "137\n",
            "137\n",
            "137\n",
            "137\n",
            "137\n",
            "137\n",
            "137\n",
            "137\n",
            "137\n",
            "137\n",
            "137\n",
            "137\n",
            "137\n",
            "137\n",
            "137\n",
            "137\n",
            "137\n",
            "137\n",
            "137\n",
            "137\n",
            "137\n",
            "137\n",
            "137\n",
            "137\n",
            "137\n",
            "137\n",
            "137\n",
            "137\n",
            "137\n",
            "137\n",
            "137\n",
            "137\n",
            "137\n",
            "137\n",
            "137\n",
            "137\n",
            "137\n",
            "137\n",
            "137\n",
            "137\n",
            "137\n",
            "137\n",
            "137\n",
            "137\n",
            "137\n",
            "137\n",
            "137\n",
            "137\n",
            "137\n",
            "137\n",
            "137\n",
            "137\n",
            "137\n",
            "137\n",
            "137\n",
            "137\n",
            "137\n",
            "137\n",
            "137\n",
            "137\n",
            "137\n",
            "137\n",
            "137\n",
            "137\n",
            "137\n",
            "137\n",
            "137\n",
            "137\n",
            "137\n",
            "137\n",
            "137\n",
            "137\n",
            "137\n",
            "137\n",
            "137\n",
            "137\n",
            "137\n",
            "137\n",
            "137\n",
            "137\n",
            "137\n",
            "137\n",
            "137\n",
            "137\n",
            "137\n",
            "137\n",
            "137\n",
            "126\n",
            "126\n",
            "126\n",
            "126\n",
            "126\n",
            "126\n",
            "126\n",
            "126\n",
            "126\n",
            "126\n",
            "126\n",
            "126\n",
            "126\n",
            "126\n",
            "126\n",
            "126\n",
            "126\n",
            "126\n",
            "126\n",
            "126\n",
            "126\n",
            "126\n",
            "126\n",
            "126\n",
            "126\n",
            "126\n",
            "126\n",
            "126\n",
            "126\n",
            "126\n",
            "126\n",
            "126\n",
            "126\n",
            "126\n",
            "126\n",
            "126\n",
            "126\n",
            "126\n",
            "126\n",
            "126\n",
            "126\n",
            "126\n",
            "126\n",
            "126\n",
            "126\n",
            "126\n",
            "126\n",
            "126\n",
            "126\n",
            "126\n",
            "126\n",
            "126\n",
            "126\n",
            "126\n",
            "126\n",
            "126\n",
            "126\n",
            "126\n",
            "126\n",
            "126\n",
            "126\n",
            "126\n",
            "126\n",
            "126\n",
            "126\n",
            "126\n",
            "126\n",
            "126\n",
            "126\n",
            "126\n",
            "126\n",
            "126\n",
            "126\n",
            "Meilleur chemin: [1, 7, 5, 6, 3, 4, 0, 2]\n",
            "Distance minimale: 126\n"
          ]
        }
      ],
      "source": [
        "\n",
        "\n",
        "def genetic_algorithm_tsp(distance_matrix, iterations=200, population=population, Pc=0.09, Pm=0.02):\n",
        "    # Initialiser la population\n",
        "\n",
        "    for iteration in range(iterations):\n",
        "        best_individual = min(population, key=lambda ind: fitness(ind, distance_matrix))\n",
        "        best_fitness = fitness(best_individual, distance_matrix)\n",
        "        print(best_fitness)\n",
        "        new_population = population[:]\n",
        "\n",
        "        ind1,parent1 = Select_roulette(population, distance_matrix)\n",
        "        ind2,parent2 = Select_roulette(population, distance_matrix)\n",
        "        # Croisement\n",
        "        offspring1, offspring2 = Coss_int(parent1, parent2, Pc)\n",
        "        # Mutation\n",
        "        offspring1 = Mut_int(offspring1, Pm)\n",
        "        offspring2 = Mut_int(offspring2, Pm)\n",
        "        # Remplacement\n",
        "        new_population = Replace_int(offspring1, new_population)\n",
        "        new_population = Replace_int(offspring2, new_population)\n",
        "\n",
        "        population = new_population\n",
        "\n",
        "\n",
        "    # Trouver le meilleur individu (avec la plus petite distance)\n",
        "    best_individual = min(population, key=lambda ind: fitness(ind, distance_matrix))\n",
        "    best_fitness = fitness(best_individual, distance_matrix)\n",
        "\n",
        "    return best_individual, best_fitness\n",
        "\n",
        "best_solution, best_distance = genetic_algorithm_tsp(distance_matrix)\n",
        "print(\"Meilleur chemin:\", best_solution)\n",
        "print(\"Distance minimale:\", best_distance)\n"
      ]
    },
    {
      "cell_type": "code",
      "source": [
        "import matplotlib.pyplot as plt\n",
        "\n",
        "def genetic_algorithm_tsp(distance_matrix, iterations=200, population=population, Pc=0.09, Pm=0.02):\n",
        "    # Initialize population and track fitness over time\n",
        "    fitness_over_time = []\n",
        "\n",
        "    for iteration in range(iterations):\n",
        "        # Find the best individual in the current population\n",
        "        best_individual = min(population, key=lambda ind: fitness(ind, distance_matrix))\n",
        "        best_fitness = fitness(best_individual, distance_matrix)\n",
        "\n",
        "        # Append the best fitness for the current iteration\n",
        "        fitness_over_time.append(best_fitness)\n",
        "\n",
        "        new_population = population[:]\n",
        "\n",
        "        # Selection\n",
        "        ind1, parent1 = Select_roulette(population, distance_matrix)\n",
        "        ind2, parent2 = Select_roulette(population, distance_matrix)\n",
        "\n",
        "        # Crossover\n",
        "        offspring1, offspring2 = Coss_int(parent1, parent2, Pc)\n",
        "\n",
        "        # Mutation\n",
        "        offspring1 = Mut_int(offspring1, Pm)\n",
        "        offspring2 = Mut_int(offspring2, Pm)\n",
        "\n",
        "        # Replacement\n",
        "        new_population = Replace_int(offspring1, new_population)\n",
        "        new_population = Replace_int(offspring2, new_population)\n",
        "\n",
        "        # Update population\n",
        "        population = new_population\n",
        "\n",
        "    # Find the best individual in the final population\n",
        "    best_individual = min(population, key=lambda ind: fitness(ind, distance_matrix))\n",
        "    best_fitness = fitness(best_individual, distance_matrix)\n",
        "\n",
        "    # Plot fitness over iterations\n",
        "    plt.plot(range(iterations), fitness_over_time)\n",
        "    plt.xlabel(\"Iteration\")\n",
        "    plt.ylabel(\"Best Fitness (Distance)\")\n",
        "    plt.title(\"Fitness over Iterations\")\n",
        "    plt.show()\n",
        "\n",
        "    return best_individual, best_fitness\n",
        "\n",
        "# Run the genetic algorithm and plot the fitness graph\n",
        "best_solution, best_distance = genetic_algorithm_tsp(distance_matrix)\n",
        "print(\"Meilleur chemin:\", best_solution)\n",
        "print(\"Distance minimale:\", best_distance)\n"
      ],
      "metadata": {
        "colab": {
          "base_uri": "https://localhost:8080/",
          "height": 507
        },
        "id": "2n77s9BaLr2Q",
        "outputId": "d6b3c00a-0879-495a-bc78-ca1b4e4f56c7"
      },
      "execution_count": null,
      "outputs": [
        {
          "output_type": "display_data",
          "data": {
            "text/plain": [
              "<Figure size 640x480 with 1 Axes>"
            ],
            "image/png": "[encoded data removed]"
          },
          "metadata": {}
        },
        {
          "output_type": "stream",
          "name": "stdout",
          "text": [
            "Meilleur chemin: [4, 0, 2, 1, 7, 6, 5, 3]\n",
            "Distance minimale: 132\n"
          ]
        }
      ]
    }
  ],
  "metadata": {
    "colab": {
      "provenance": [],
      "authorship_tag": "ABX9TyOp0SAoGOwBxUjPSOr1VdS5",
      "include_colab_link": true
    },
    "kernelspec": {
      "display_name": "Python 3",
      "name": "python3"
    },
    "language_info": {
      "name": "python"
    }
  },
  "nbformat": 4,
  "nbformat_minor": 0
}