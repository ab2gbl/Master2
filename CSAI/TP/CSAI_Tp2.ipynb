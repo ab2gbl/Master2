{
  "nbformat": 4,
  "nbformat_minor": 0,
  "metadata": {
    "colab": {
      "provenance": [],
      "authorship_tag": "ABX9TyPlq0S03MmPDO3WJjuWgdIF",
      "include_colab_link": true
    },
    "kernelspec": {
      "name": "python3",
      "display_name": "Python 3"
    },
    "language_info": {
      "name": "python"
    }
  },
  "cells": [
    {
      "cell_type": "markdown",
      "metadata": {
        "id": "view-in-github",
        "colab_type": "text"
      },
      "source": [
        "<a href=\"https://colab.research.google.com/github/ab2gbl/Master2/blob/main/CSAI/TP/CSAI_Tp2.ipynb\" target=\"_parent\"><img src=\"https://colab.research.google.com/assets/colab-badge.svg\" alt=\"Open In Colab\"/></a>"
      ]
    },
    {
      "cell_type": "code",
      "execution_count": 1,
      "metadata": {
        "id": "VClHqfwZNwOe"
      },
      "outputs": [],
      "source": [
        "Niter=100\n",
        "Nbpop=50\n",
        "w=1\n",
        "c1=2\n",
        "c2=2"
      ]
    },
    {
      "cell_type": "code",
      "source": [
        "import random\n",
        "interval= {\n",
        "    'F': (100,250),\n",
        "    'S': (30,125),\n",
        "    'B': (50,125),\n",
        "    'L': (12,40)\n",
        "}\n",
        "def init_particle():\n",
        "  F=random.randint(interval['F'][0],interval['F'][1])\n",
        "  S=random.randint(interval['S'][0],interval['S'][1])\n",
        "  B=random.randint(interval['B'][0],interval['B'][1])\n",
        "  L=random.randint(interval['L'][0],interval['L'][1])\n",
        "  #print(F,S,B,L)\n",
        "  vL=random.uniform(-1,1)\n",
        "  vF=random.uniform(-1,1)\n",
        "  vS=random.uniform(-1,1)\n",
        "  vB=random.uniform(-1,1)\n",
        "\n",
        "  #print (vF,vS,vB,vL)\n",
        "  return {'F':F,'S':S,'B':B,'L':L,'vF':vF,'vS':vS,'vB':vB,'vL':vL}"
      ],
      "metadata": {
        "id": "NcdCPou1OD-O"
      },
      "execution_count": 2,
      "outputs": []
    },
    {
      "cell_type": "code",
      "source": [
        "x1=init_particle()\n",
        "x2=init_particle()\n",
        "x3=init_particle()\n",
        "print(x1,'\\n',x2,'\\n',x3)\n"
      ],
      "metadata": {
        "colab": {
          "base_uri": "https://localhost:8080/"
        },
        "id": "3NGVF_msG5cN",
        "outputId": "cfa76d30-4b21-4ce1-a0fc-6c3f5f299d28"
      },
      "execution_count": 3,
      "outputs": [
        {
          "output_type": "stream",
          "name": "stdout",
          "text": [
            "{'F': 135, 'S': 67, 'B': 77, 'L': 22, 'vF': 0.3574248430876894, 'vS': 0.2101381091190173, 'vB': 0.5763987629923206, 'vL': 0.9913045421892395} \n",
            " {'F': 114, 'S': 95, 'B': 95, 'L': 14, 'vF': 0.24479984455991066, 'vS': -0.29732294130923953, 'vB': 0.9178416541664529, 'vL': -0.763304482377162} \n",
            " {'F': 165, 'S': 112, 'B': 121, 'L': 32, 'vF': -0.21739246029183912, 'vS': -0.92172058091413, 'vB': -0.04021404023903785, 'vL': -0.435793044543459}\n"
          ]
        }
      ]
    },
    {
      "cell_type": "code",
      "source": [
        "def init_pop(n):\n",
        "  pop=[]\n",
        "  for i in range(n):\n",
        "    pop.append(init_particle())\n",
        "  return pop"
      ],
      "metadata": {
        "id": "9WJISRoGhfw5"
      },
      "execution_count": 4,
      "outputs": []
    },
    {
      "cell_type": "code",
      "source": [
        "pop=init_pop(3)\n",
        "print(pop)"
      ],
      "metadata": {
        "colab": {
          "base_uri": "https://localhost:8080/"
        },
        "id": "w90MU2iyhtgr",
        "outputId": "88635f70-600b-4cad-af96-f1b3e573ea1e"
      },
      "execution_count": 5,
      "outputs": [
        {
          "output_type": "stream",
          "name": "stdout",
          "text": [
            "[{'F': 147, 'S': 66, 'B': 62, 'L': 28, 'vF': -0.01210713776268979, 'vS': -0.2801460036105885, 'vB': 0.11718719323768134, 'vL': -0.21432389327374013}, {'F': 191, 'S': 32, 'B': 93, 'L': 38, 'vF': -0.021563959090932228, 'vS': -0.5967786433480979, 'vB': 0.5672194915250133, 'vL': 0.3773552809849241}, {'F': 150, 'S': 61, 'B': 99, 'L': 32, 'vF': -0.10597207509713824, 'vS': -0.8568929862658203, 'vB': -0.3515912358848854, 'vL': -0.46862371035207606}]\n"
          ]
        }
      ]
    },
    {
      "cell_type": "code",
      "source": [
        "\n",
        "import math\n",
        "def g(x):\n",
        "  F=x['F']\n",
        "  S=x['S']\n",
        "  B=x['B']\n",
        "  L=x['L']\n",
        "  g=(F**2+S**2+B**2+2*L**2)/(math.cos(F)*math.cos(S)*math.cos(B)*math.cos(L))\n",
        "  return(g)"
      ],
      "metadata": {
        "id": "nvkBXUV6a8t5"
      },
      "execution_count": 6,
      "outputs": []
    },
    {
      "cell_type": "code",
      "source": [
        "print(g(x1),g(x2),g(x3))"
      ],
      "metadata": {
        "colab": {
          "base_uri": "https://localhost:8080/"
        },
        "id": "BvFU8i15fmmo",
        "outputId": "158ba6e6-d3c5-4ce4-e267-e90cba7f442e"
      },
      "execution_count": 7,
      "outputs": [
        {
          "output_type": "stream",
          "name": "stdout",
          "text": [
            "1853633.9528281072 696081.6765842044 45977780.14964498\n"
          ]
        }
      ]
    },
    {
      "cell_type": "code",
      "source": [
        "def init_Pbest(pop):\n",
        "  Pbest=[]\n",
        "  for p in pop:\n",
        "    Pbest.append({'F': p['F'], 'S': p['S'], 'B': p['B'], 'L': p['L'], 'fitness': g(p)})\n",
        "\n",
        "  return Pbest\n"
      ],
      "metadata": {
        "id": "QaqL6PGAfvSa"
      },
      "execution_count": 8,
      "outputs": []
    },
    {
      "cell_type": "code",
      "source": [
        "print(init_Pbest(pop))"
      ],
      "metadata": {
        "colab": {
          "base_uri": "https://localhost:8080/"
        },
        "id": "Tl8DkSAkgQLe",
        "outputId": "9bb71dcc-3392-45df-f649-5dd8fd67289b"
      },
      "execution_count": 9,
      "outputs": [
        {
          "output_type": "stream",
          "name": "stdout",
          "text": [
            "[{'F': 147, 'S': 66, 'B': 62, 'L': 28, 'fitness': -61041.60410251723}, {'F': 191, 'S': 32, 'B': 93, 'L': 38, 'fitness': -241245.01087707668}, {'F': 150, 'S': 61, 'B': 99, 'L': 32, 'fitness': -6349886.154070066}]\n"
          ]
        }
      ]
    },
    {
      "cell_type": "code",
      "source": [
        "Diag = []\n",
        "pop=init_pop(Nbpop)\n",
        "Pbest=init_Pbest(pop)\n",
        "Gbest = max(Pbest, key=lambda p: p['fitness'])\n",
        "for i in range(Niter):\n",
        "  for j in range(Nbpop):\n",
        "\n",
        "    gx = g(pop[j])\n",
        "    if gx > Pbest[j]['fitness']:\n",
        "        Pbest[j] = {'F': pop[j]['F'], 'S': pop[j]['S'], 'B': pop[j]['B'], 'L': pop[j]['L'], 'fitness': gx}\n",
        "\n",
        "    if gx > Gbest['fitness']:\n",
        "        Gbest = {'F': pop[j]['F'], 'S': pop[j]['S'], 'B': pop[j]['B'], 'L': pop[j]['L'], 'fitness': gx}\n",
        "\n",
        "\n",
        "  Diag.append(Gbest['fitness'])\n",
        "\n",
        "  for j in range(Nbpop):\n",
        "    variables = ['F', 'B', 'L', 'S']\n",
        "    for var in variables:\n",
        "      v=(w*pop[j][f'v{var}']+\n",
        "        c1*random.uniform(0,1)*(Pbest[j][var]-pop[j][var])+\n",
        "        c2*random.uniform(0,1)*(Gbest[var]-pop[j][var]))\n",
        "      pop[j][f'v{var}']=v\n",
        "      pop[j][var]+=v\n",
        "      pop[j][var] = max(interval[var][0], min(interval[var][1], pop[j][var]))\n",
        "\n",
        "\n",
        "\n",
        "print(\"Final Gbest:\", Gbest)\n",
        "\n",
        "import random\n",
        "import matplotlib.pyplot as plt\n",
        "\n",
        "# Plot Gbest fitness history\n",
        "plt.plot(range(Niter), Diag, label=\"Gbest Fitness\")\n",
        "plt.xlabel(\"Iteration\")\n",
        "plt.ylabel(\"Fitness\")\n",
        "plt.title(\"Convergence of Gbest Fitness\")\n",
        "plt.legend()\n",
        "plt.grid()\n",
        "plt.show()\n",
        "\n"
      ],
      "metadata": {
        "colab": {
          "base_uri": "https://localhost:8080/",
          "height": 490
        },
        "id": "b-5yDpacite4",
        "outputId": "d2a3f8e0-bbba-46a9-82c2-ad4b89b32384"
      },
      "execution_count": 21,
      "outputs": [
        {
          "output_type": "stream",
          "name": "stdout",
          "text": [
            "Final Gbest: {'F': 250, 'S': 30, 'B': 61.26076453174817, 'L': 40, 'fitness': 9711163375.706953}\n"
          ]
        },
        {
          "output_type": "display_data",
          "data": {
            "text/plain": [
              "<Figure size 640x480 with 1 Axes>"
            ],
            "image/png": "[encoded data removed]"
          },
          "metadata": {}
        }
      ]
    }
  ]
}