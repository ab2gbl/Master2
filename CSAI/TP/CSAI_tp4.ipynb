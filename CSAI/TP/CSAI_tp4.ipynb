{
  "nbformat": 4,
  "nbformat_minor": 0,
  "metadata": {
    "colab": {
      "provenance": [],
      "authorship_tag": "ABX9TyPeT9TGl0WpjwDfPdmLFwcQ",
      "include_colab_link": true
    },
    "kernelspec": {
      "name": "python3",
      "display_name": "Python 3"
    },
    "language_info": {
      "name": "python"
    }
  },
  "cells": [
    {
      "cell_type": "markdown",
      "metadata": {
        "id": "view-in-github",
        "colab_type": "text"
      },
      "source": [
        "<a href=\"https://colab.research.google.com/github/ab2gbl/Master2/blob/main/CSAI/TP/CSAI_tp4.ipynb\" target=\"_parent\"><img src=\"https://colab.research.google.com/assets/colab-badge.svg\" alt=\"Open In Colab\"/></a>"
      ]
    },
    {
      "cell_type": "markdown",
      "source": [
        "# Conception Part\n",
        "\n",
        "On this lab We are going to use Genetic algorithm on neural network model, we will apply the Genetic Algo to modify our model parameters (weights and biases), cause neural network work by updating the weights and biases until getting the best parameters that work togethere and give best accuracy, and here we going to use Genetic Algo to update this weights and getting a good accuracy.\n",
        "\n",
        "\n",
        "---\n",
        "\n",
        "\n",
        "\n",
        "\n",
        "\n",
        "\n"
      ],
      "metadata": {
        "id": "x8Gl5oSf53ZM"
      }
    },
    {
      "cell_type": "markdown",
      "source": [
        "\n",
        "\n",
        "1. **particular:**\n",
        "The main idea of genetic algo is updating and changing particulars until get the best particular that will give us the best result we searching for.\n",
        "\n",
        "  Our goal on this lab is getting best accuracy of our model and that mean **\"maximising the accuracy\"**, so the model is the main target , and that makes us extracting our particular from the model , and the **\"biases and weights\"** are the main thing we can change on our model and it effect directly on the accuracy.\n",
        "\n",
        "  So we put all weights and biases on 1 particular, one by one , so they will be ordered from first layer params to last layer params , and we will have a particular like this: `[ weight_1_1, weight_1_2, bias_1_1, weight_2,1 .... bias_n_m ]` until last layer weights and biases"
      ],
      "metadata": {
        "id": "tGDG-wgw_kta"
      }
    },
    {
      "cell_type": "markdown",
      "source": [
        "2. **Population:**\n",
        "Our population will be basically from multi particulars , and in this example we will just use 20 particulars\n",
        "\n",
        "\n"
      ],
      "metadata": {
        "id": "Bo5IMTUE_ANC"
      }
    },
    {
      "cell_type": "markdown",
      "source": [
        "\n",
        "3. **Fetness:** our Fitness will be the **accuracy** as we said , we give the particuler to the model as weights and biases , and the accuracy is the fitness of the particular"
      ],
      "metadata": {
        "id": "b3u15-UvDKUy"
      }
    },
    {
      "cell_type": "markdown",
      "source": [
        "4. **Mutation:** We just change a random element value from our particular ( will be weight or bias ) by a random small number"
      ],
      "metadata": {
        "id": "TuVyySwvE8yG"
      }
    },
    {
      "cell_type": "markdown",
      "source": [
        "5. **Crossover:** making 2 children from 2 parents by mixing that parents:\n",
        "  ```\n",
        "  child 1 = start of parent 1 + end of parent 2\n",
        "  \n",
        "  child 2 = start of parent 2 + end of parent 1\n",
        "  ```\n",
        "  so in the end the wights and biases wil change between the 2 parents giving us new 2 particulars\n"
      ],
      "metadata": {
        "id": "9sSR69TRFkty"
      }
    },
    {
      "cell_type": "markdown",
      "source": [
        "6. **Roulette selection:** Select parents depends on fitness , the parent who has better fitness (bigger) , will have more probability to be selected  "
      ],
      "metadata": {
        "id": "cK65FSVxGc_4"
      }
    },
    {
      "cell_type": "markdown",
      "source": [
        "7. **Replacement:** we will select the worst particular , and compare it to the new one , if the new one was better , we will replace the old one by this new one"
      ],
      "metadata": {
        "id": "04ez-VfuGxT5"
      }
    },
    {
      "cell_type": "markdown",
      "source": [
        "\n",
        "\n",
        "---\n",
        "\n",
        "\n",
        "\n",
        "# Implementation part"
      ],
      "metadata": {
        "id": "8V1MxCCXCeZK"
      }
    },
    {
      "cell_type": "markdown",
      "source": [
        "## 2-1 Prepare Dataset and Model architecture"
      ],
      "metadata": {
        "id": "7j2Bt3Vp4hCw"
      }
    },
    {
      "cell_type": "code",
      "source": [
        "from sklearn.datasets import load_iris\n",
        "from sklearn.model_selection import train_test_split\n",
        "from sklearn.preprocessing import StandardScaler, OneHotEncoder\n",
        "import numpy as np\n",
        "import random\n",
        "from tensorflow.keras.models import Sequential\n",
        "from tensorflow.keras.layers import Dense\n",
        "from tensorflow.keras.utils import to_categorical\n",
        "from tensorflow.keras.optimizers import Adam\n",
        "import matplotlib.pyplot as plt\n"
      ],
      "metadata": {
        "id": "sMX4FuGRHQ_O"
      },
      "execution_count": 32,
      "outputs": []
    },
    {
      "cell_type": "code",
      "source": [
        "def load_and_split_iris():\n",
        "\n",
        "    iris = load_iris()\n",
        "    X = iris.data\n",
        "    y = iris.target\n",
        "\n",
        "    encoder = OneHotEncoder(sparse_output=False)\n",
        "    y = encoder.fit_transform(y.reshape(-1, 1))\n",
        "\n",
        "    scaler = StandardScaler()\n",
        "    X = scaler.fit_transform(X)\n",
        "\n",
        "    X_train, X_test, y_train, y_test = train_test_split(X, y, test_size=0.2, random_state=42)\n",
        "\n",
        "    return X_train, X_test, y_train, y_test\n",
        "\n",
        "X_train, X_test, y_train, y_test = load_and_split_iris()\n",
        "\n"
      ],
      "metadata": {
        "id": "L9W6YjeY7dkv"
      },
      "execution_count": 2,
      "outputs": []
    },
    {
      "cell_type": "code",
      "source": [
        "\n",
        "input_size = 4\n",
        "hidden_size = 5\n",
        "output_size = 3\n",
        "\n",
        "def create_model():\n",
        "    model = Sequential([\n",
        "        Dense(hidden_size, input_shape=(input_size,), activation='relu'),\n",
        "        Dense(output_size, activation='softmax')\n",
        "    ])\n",
        "    return model\n"
      ],
      "metadata": {
        "id": "xXPq2Vxc9Qjq"
      },
      "execution_count": 3,
      "outputs": []
    },
    {
      "cell_type": "markdown",
      "source": [
        "## 2-2 genetic RNA"
      ],
      "metadata": {
        "id": "iTPQtTQ5YC7S"
      }
    },
    {
      "cell_type": "code",
      "source": [
        "# Create and compile the model\n",
        "model = create_model()\n",
        "model.compile(optimizer='adam', loss='categorical_crossentropy', metrics=['accuracy'])\n"
      ],
      "metadata": {
        "colab": {
          "base_uri": "https://localhost:8080/"
        },
        "id": "3nIaP9VCPhuN",
        "outputId": "9a3fa31b-a816-475e-f8c9-2ac407b8207e"
      },
      "execution_count": 4,
      "outputs": [
        {
          "output_type": "stream",
          "name": "stderr",
          "text": [
            "/usr/local/lib/python3.10/dist-packages/keras/src/layers/core/dense.py:87: UserWarning: Do not pass an `input_shape`/`input_dim` argument to a layer. When using Sequential models, prefer using an `Input(shape)` object as the first layer in the model instead.\n",
            "  super().__init__(activity_regularizer=activity_regularizer, **kwargs)\n"
          ]
        }
      ]
    },
    {
      "cell_type": "markdown",
      "source": [
        "### model and particular relations"
      ],
      "metadata": {
        "id": "DhLeuQ64BSW1"
      }
    },
    {
      "cell_type": "code",
      "source": [
        "# in this methode , we gonna get the weights and biases of our model and convert that to a particular\n",
        "def model_to_particular(model):\n",
        "\n",
        "    particular = []\n",
        "    for layer in model.layers:\n",
        "        weights, biases = layer.get_weights()   # getting the weights and biases of the layer\n",
        "        particular.extend(weights.flatten())    # add the weights first\n",
        "        particular.extend(biases.flatten())     # and then add the biases\n",
        "    # the particular will be in the next format for example: [weight_1_1, weight_1_2, weight_1_3, bias_1_1 , weight_2_1 ....]\n",
        "    return np.array(particular)\n"
      ],
      "metadata": {
        "id": "Ahsdcmjf-Cq5"
      },
      "execution_count": 5,
      "outputs": []
    },
    {
      "cell_type": "code",
      "source": [
        "# this method is to apply the numbers of our particular on our model as weights and biases\n",
        "def particular_to_model(model, part):\n",
        "\n",
        "    i = 0\n",
        "    for layer in model.layers:\n",
        "        # here we gonna make get the number of weights and biases we have on this layer\n",
        "        # so for example if we in the first layer, this layer has:\n",
        "        #                                                           - 3 weights\n",
        "        #                                                           - 1 bias\n",
        "        weights_shape = layer.get_weights()[0].shape                # get shape\n",
        "        biases_shape = layer.get_weights()[1].shape\n",
        "        weights_size = np.prod(weights_shape)                       # will be 3\n",
        "        biases_size = np.prod(biases_shape)                         # will be 1\n",
        "\n",
        "        # and now we gonna get the weights depends on the index on the particular\n",
        "        # the index will be 0 here ( first layer ), so from the element 0 until 2 ( 3 element cause weights size is 3 )\n",
        "        weights = part[i:i+weights_size].reshape(weights_shape)\n",
        "        #print(weights)\n",
        "\n",
        "        # we got the weights of this layer , now we should go to biases\n",
        "        # increament the index to pass the elements we got as weight\n",
        "        i += weights_size               # index is 3 now\n",
        "\n",
        "        # same as weights , this time will be the biases\n",
        "        # index is 3 now , so from 3 to 3 ( we have just 1 bias)\n",
        "        biases = part[i:i+biases_size].reshape(biases_shape)\n",
        "\n",
        "        # Set the weights and biases for the layer\n",
        "        layer.set_weights([weights, biases])\n",
        "\n",
        "        # increament the index to pass to the next layer and do that again\n",
        "        i += biases_size\n",
        "\n"
      ],
      "metadata": {
        "id": "AILgOQKA-G6h"
      },
      "execution_count": 6,
      "outputs": []
    },
    {
      "cell_type": "markdown",
      "source": [
        "### Initial Population"
      ],
      "metadata": {
        "id": "DuUxnKgOBajC"
      }
    },
    {
      "cell_type": "code",
      "source": [
        "# initial first population for our genetic function\n",
        "def init_population(model, population_size):\n",
        "\n",
        "    pop = []\n",
        "\n",
        "    particular  = model_to_particular(model)  # Get an particular example from our model to know the length\n",
        "    part_length = particular.shape[0]         # getting the length of the particular\n",
        "\n",
        "    for _ in range(population_size):\n",
        "        d\n",
        "        random_genome = np.random.randn(part_length)   # Create random particular with the same size as the sample particular\n",
        "        pop.append(random_genome)\n",
        "\n",
        "    return np.array(pop)\n"
      ],
      "metadata": {
        "id": "vPEa0GS9I2Ov"
      },
      "execution_count": 7,
      "outputs": []
    },
    {
      "cell_type": "markdown",
      "source": [
        "### Fitness Function"
      ],
      "metadata": {
        "id": "YyKo3hnzBlMm"
      }
    },
    {
      "cell_type": "code",
      "source": [
        "# the fitness in this tp will be the accuracy of our model , we need to maximise the accuaracy to get a better model\n",
        "def fitness_func(model, particular, X, y):\n",
        "\n",
        "    particular_to_model(model, particular)  # Set the model weights from the particular\n",
        "\n",
        "    _, accuracy = model.evaluate(X, y, verbose=0)  # Evaluate the model and get the accuarcy\n",
        "    return accuracy\n"
      ],
      "metadata": {
        "id": "6WY-pg4eI7hc"
      },
      "execution_count": 8,
      "outputs": []
    },
    {
      "cell_type": "markdown",
      "source": [
        "### Mutatuion function"
      ],
      "metadata": {
        "id": "V2BzkrqbBqHo"
      }
    },
    {
      "cell_type": "code",
      "source": [
        "# mutation of our particular by changing an element value from it\n",
        "def mutation(particular, rate):\n",
        "\n",
        "    new_part = particular.copy()\n",
        "    if random.random() < rate:               # Apply mutation with a given probability\n",
        "        i=random.randint(1,len(particular)-1)         # getting a random index ( random element to apply mutation on)\n",
        "        new_part[i] += np.random.normal(0, 0.1)       # Apply a small random change (Gaussian noise)\n",
        "\n",
        "    return new_part"
      ],
      "metadata": {
        "id": "uGCjYJyfGk5K"
      },
      "execution_count": 9,
      "outputs": []
    },
    {
      "cell_type": "code",
      "source": [
        "# mutation test\n",
        "part = np.array([0.5, -1.2, 3.0, 0.8, -0.7])\n",
        "print( part)\n",
        "print( mutation(part, 1))"
      ],
      "metadata": {
        "colab": {
          "base_uri": "https://localhost:8080/"
        },
        "id": "PhOPYACkG4q1",
        "outputId": "94a66c9b-b073-4933-ee91-a92b015b64d0"
      },
      "execution_count": 10,
      "outputs": [
        {
          "output_type": "stream",
          "name": "stdout",
          "text": [
            "[ 0.5 -1.2  3.   0.8 -0.7]\n",
            "[ 0.5        -1.2         3.          0.61442776 -0.7       ]\n"
          ]
        }
      ]
    },
    {
      "cell_type": "markdown",
      "source": [
        "### Crossover function\n"
      ],
      "metadata": {
        "id": "fndSl31pButg"
      }
    },
    {
      "cell_type": "code",
      "source": [
        "# applying the crossover by mixing 2 parents\n",
        "def crossover_genomes(parent1, parent2, rate):\n",
        "\n",
        "    if random.random() < rate:\n",
        "        point = random.randint(1, len(parent1) - 1)       # random point to crossover\n",
        "        child1 = np.concatenate((parent1[:point], parent2[point:]))   # child1 = start of parent1 + end of parent2\n",
        "        child2 = np.concatenate((parent2[:point], parent1[point:]))   # child2 = start of parent2 + end of parent1\n",
        "        return child1, child2\n",
        "    else:\n",
        "        # return parents if no crossover\n",
        "        return parent1.copy(), parent2.copy()\n",
        "\n",
        "# Test\n",
        "parent1 = np.array([0.5, -1.2, 3.0, 0.8, -0.7])\n",
        "parent2 = np.array([-0.4, 2.1, -0.9, 1.3, 0.6])\n",
        "child1, child2 = crossover_genomes(parent1, parent2, 1.0)\n",
        "print(\"Parent 1:\", parent1)\n",
        "print(\"Parent 2:\", parent2)\n",
        "print(\"child 1:\", child1)\n",
        "print(\"child 2:\", child2)\n"
      ],
      "metadata": {
        "colab": {
          "base_uri": "https://localhost:8080/"
        },
        "id": "hrRJmN-nHiA_",
        "outputId": "f4284046-ebc0-4650-d4c7-d9128bca1ad0"
      },
      "execution_count": 11,
      "outputs": [
        {
          "output_type": "stream",
          "name": "stdout",
          "text": [
            "Parent 1: [ 0.5 -1.2  3.   0.8 -0.7]\n",
            "Parent 2: [-0.4  2.1 -0.9  1.3  0.6]\n",
            "child 1: [ 0.5  2.1 -0.9  1.3  0.6]\n",
            "child 2: [-0.4 -1.2  3.   0.8 -0.7]\n"
          ]
        }
      ]
    },
    {
      "cell_type": "markdown",
      "source": [
        "### Roulette selection"
      ],
      "metadata": {
        "id": "vGnIDuOyB0zd"
      }
    },
    {
      "cell_type": "code",
      "source": [
        "# selecting parents depends on the fitness and roulette logic\n",
        "def select_roulette(population, fitness):\n",
        "\n",
        "    total_fitness = sum(fitness)\n",
        "    probabilities = [f / total_fitness for f in fitness]      # calculating the probablity of each element depends on roullette logic\n",
        "\n",
        "    # select random number between 0 and n when n is last index\n",
        "    n= len(population)\n",
        "    selected_index = random.choices(range(n), weights=probabilities, k=1)[0]  # range(n) will be an array: [0,1,2 ... n], and with weights so every index has a probability depends on the probabilties we calculated before\n",
        "    return population[selected_index]\n",
        "\n"
      ],
      "metadata": {
        "id": "PHkX9jtDO7uw"
      },
      "execution_count": 12,
      "outputs": []
    },
    {
      "cell_type": "markdown",
      "source": [
        "### Replacement function"
      ],
      "metadata": {
        "id": "jcSbVGGFB4mA"
      }
    },
    {
      "cell_type": "code",
      "source": [
        "# replace the worst particular by the new child if it was better\n",
        "def replacement(child, population, fitness):\n",
        "\n",
        "\n",
        "\n",
        "    worst_particular = np.argmin(fitness)                             # Index of the worst particular\n",
        "    new_fitness = fitness_func(model, child, X_train, y_train)   # fitness of the child\n",
        "\n",
        "    # Replacement\n",
        "    if new_fitness > fitness[worst_particular]:\n",
        "        population[worst_particular] = child\n",
        "        fitness[worst_particular] = new_fitness\n",
        "\n",
        "    return population, fitness\n",
        "\n"
      ],
      "metadata": {
        "id": "HNSJG5gOO8kE"
      },
      "execution_count": 13,
      "outputs": []
    },
    {
      "cell_type": "markdown",
      "source": [
        "### Applying the genetic"
      ],
      "metadata": {
        "id": "ZhLFezkCB8je"
      }
    },
    {
      "cell_type": "code",
      "source": [
        "\n",
        "# applying the genetic algorithm to update our model weights\n",
        "\n",
        "def genetic_algorithm(model, X_train, y_train, iterations, pop_size, pc, pm):\n",
        "\n",
        "    pop = init_population(model, pop_size)    #init population\n",
        "    fitness_over_time = []\n",
        "\n",
        "    for iteration in range(iterations):\n",
        "\n",
        "\n",
        "\n",
        "        # getting best particular and his fitness before each iteration\n",
        "        fitness = [fitness_func(model, part, X_train, y_train) for part in pop] # fitness of all particulars\n",
        "        best_index = np.argmax(fitness)                                             # index of best fitness\n",
        "        best_individual = pop[best_index]                                           # best particular\n",
        "        best_fitness = fitness[best_index]                                          # his fitness\n",
        "        fitness_over_time.append(best_fitness)                                      # adding it to the diagram\n",
        "\n",
        "        print(f\"Iteration {iteration+1} - Best Fitness: {best_fitness:.4f}\")\n",
        "\n",
        "        # Selection\n",
        "        parent1= select_roulette(pop, fitness)\n",
        "        parent2= select_roulette(pop, fitness)\n",
        "        # Crossover\n",
        "        child1, child2 = crossover_genomes(parent1, parent2, pc)\n",
        "        # Mutation\n",
        "        child1 = mutation(child1, pm)\n",
        "        child2 = mutation(child2, pm)\n",
        "        # Replacement\n",
        "        pop,_ = replacement(child1, pop, fitness)\n",
        "        pop,_ = replacement(child2, pop, fitness)\n",
        "\n",
        "        # Update the population\n",
        "\n",
        "    # getting best particular and his fitness after last iteration\n",
        "    fitness = [fitness_func(model, genome, X_train, y_train) for genome in pop]\n",
        "    best_index = np.argmax(fitness)\n",
        "    best_individual = pop[best_index]\n",
        "    best_fitness = fitness[best_index]\n",
        "    fitness_over_time.append(best_fitness)\n",
        "\n",
        "\n",
        "    # display diagram of progression\n",
        "    plt.figure(figsize=(10, 6))\n",
        "    plt.plot(range(0, iterations + 1), fitness_over_time)\n",
        "    plt.xlabel(\"Iteration\")\n",
        "    plt.ylabel(\"Best Fitness\")\n",
        "    plt.title(\"Fitness Progression Over Iterations\")\n",
        "    plt.grid(True)\n",
        "    plt.show()\n",
        "\n",
        "    return best_individual, best_fitness , fitness_over_time\n"
      ],
      "metadata": {
        "id": "Y4c2pvc5JH8u"
      },
      "execution_count": 63,
      "outputs": []
    },
    {
      "cell_type": "code",
      "source": [
        "# Genetic Algo Parameters\n",
        "iterations = 50\n",
        "pop_size = 20\n",
        "pc = 0.8  # Crossover probability\n",
        "pm = 0.1  # Mutation probability\n",
        "\n",
        "best_particular, best_fitness , fitenss_over_time  = genetic_algorithm(model, X_train, y_train, iterations, pop_size, pc, pm)\n",
        "\n",
        "# Apply the best paricular on the model\n",
        "particular_to_model(model, best_particular)\n"
      ],
      "metadata": {
        "colab": {
          "base_uri": "https://localhost:8080/",
          "height": 1000
        },
        "id": "xxuBt1NSQtkE",
        "outputId": "464edc4a-265a-4b54-c360-07ccfe2183bf"
      },
      "execution_count": 65,
      "outputs": [
        {
          "output_type": "stream",
          "name": "stdout",
          "text": [
            "Iteration 1 - Best Fitness: 0.6250\n",
            "Iteration 2 - Best Fitness: 0.6250\n",
            "Iteration 3 - Best Fitness: 0.6250\n",
            "Iteration 4 - Best Fitness: 0.6250\n",
            "Iteration 5 - Best Fitness: 0.6250\n",
            "Iteration 6 - Best Fitness: 0.6250\n",
            "Iteration 7 - Best Fitness: 0.6250\n",
            "Iteration 8 - Best Fitness: 0.6250\n",
            "Iteration 9 - Best Fitness: 0.6333\n",
            "Iteration 10 - Best Fitness: 0.7333\n",
            "Iteration 11 - Best Fitness: 0.7333\n",
            "Iteration 12 - Best Fitness: 0.7333\n",
            "Iteration 13 - Best Fitness: 0.7333\n",
            "Iteration 14 - Best Fitness: 0.7333\n",
            "Iteration 15 - Best Fitness: 0.7333\n",
            "Iteration 16 - Best Fitness: 0.7333\n",
            "Iteration 17 - Best Fitness: 0.7333\n",
            "Iteration 18 - Best Fitness: 0.7333\n",
            "Iteration 19 - Best Fitness: 0.7333\n",
            "Iteration 20 - Best Fitness: 0.7333\n",
            "Iteration 21 - Best Fitness: 0.7333\n",
            "Iteration 22 - Best Fitness: 0.7333\n",
            "Iteration 23 - Best Fitness: 0.7333\n",
            "Iteration 24 - Best Fitness: 0.7333\n",
            "Iteration 25 - Best Fitness: 0.7333\n",
            "Iteration 26 - Best Fitness: 0.7333\n",
            "Iteration 27 - Best Fitness: 0.7333\n",
            "Iteration 28 - Best Fitness: 0.7333\n",
            "Iteration 29 - Best Fitness: 0.7333\n",
            "Iteration 30 - Best Fitness: 0.7333\n",
            "Iteration 31 - Best Fitness: 0.7333\n",
            "Iteration 32 - Best Fitness: 0.7333\n",
            "Iteration 33 - Best Fitness: 0.7333\n",
            "Iteration 34 - Best Fitness: 0.7333\n",
            "Iteration 35 - Best Fitness: 0.7333\n",
            "Iteration 36 - Best Fitness: 0.7333\n",
            "Iteration 37 - Best Fitness: 0.7500\n",
            "Iteration 38 - Best Fitness: 0.7500\n",
            "Iteration 39 - Best Fitness: 0.7500\n",
            "Iteration 40 - Best Fitness: 0.7500\n",
            "Iteration 41 - Best Fitness: 0.7500\n",
            "Iteration 42 - Best Fitness: 0.7500\n",
            "Iteration 43 - Best Fitness: 0.7500\n",
            "Iteration 44 - Best Fitness: 0.7500\n",
            "Iteration 45 - Best Fitness: 0.7500\n",
            "Iteration 46 - Best Fitness: 0.7500\n",
            "Iteration 47 - Best Fitness: 0.7500\n",
            "Iteration 48 - Best Fitness: 0.7500\n",
            "Iteration 49 - Best Fitness: 0.7500\n",
            "Iteration 50 - Best Fitness: 0.7500\n"
          ]
        },
        {
          "output_type": "display_data",
          "data": {
            "text/plain": [
              "<Figure size 1000x600 with 1 Axes>"
            ],
            "image/png": "[encoded data removed]"
          },
          "metadata": {}
        }
      ]
    },
    {
      "cell_type": "code",
      "source": [
        "\n",
        "# Evaluate the final model\n",
        "loss, accuracy = model.evaluate(X_test, y_test, verbose=0)\n",
        "print(f\"Best Fitness: {best_fitness:.4f}\")\n",
        "print(f\"Test accuracy: {accuracy:.4f}\")"
      ],
      "metadata": {
        "colab": {
          "base_uri": "https://localhost:8080/"
        },
        "id": "29EimpjnsOPN",
        "outputId": "888f82f4-aaa5-4f8b-a41b-90ba17e6370d"
      },
      "execution_count": 66,
      "outputs": [
        {
          "output_type": "stream",
          "name": "stdout",
          "text": [
            "Best Fitness: 0.7500\n",
            "Test accuracy: 0.7333\n"
          ]
        }
      ]
    },
    {
      "cell_type": "markdown",
      "source": [
        "## 2-3 gradiant model"
      ],
      "metadata": {
        "id": "jbs811nCx2Kl"
      }
    },
    {
      "cell_type": "code",
      "source": [
        "\n",
        "# Create the model\n",
        "model_gradiant = create_model()\n",
        "\n",
        "# Compile the model\n",
        "model_gradiant.compile(optimizer=Adam(learning_rate=0.01),  # Adam optimizer\n",
        "              loss='categorical_crossentropy',    # Cross-entropy loss for classification\n",
        "              metrics=['accuracy'])\n",
        "\n",
        "# Train the model\n",
        "history = model_gradiant.fit(X_train, y_train, epochs=50, batch_size=8, validation_data=(X_test, y_test))\n",
        "\n",
        "# Evaluate the model\n",
        "loss, accuracy = model_gradiant.evaluate(X_test, y_test)\n",
        "print(f\"Test Loss: {loss:.4f}\")\n",
        "print(f\"Test Accuracy: {accuracy:.4f}\")\n"
      ],
      "metadata": {
        "colab": {
          "base_uri": "https://localhost:8080/"
        },
        "id": "kXjBw2XX7pb9",
        "outputId": "46ca5688-dc26-4872-dca3-20faedd029f9"
      },
      "execution_count": 69,
      "outputs": [
        {
          "output_type": "stream",
          "name": "stdout",
          "text": [
            "Epoch 1/50\n",
            "\u001b[1m15/15\u001b[0m \u001b[32m━━━━━━━━━━━━━━━━━━━━\u001b[0m\u001b[37m\u001b[0m \u001b[1m2s\u001b[0m 24ms/step - accuracy: 0.2849 - loss: 1.4280 - val_accuracy: 0.5333 - val_loss: 1.0995\n",
            "Epoch 2/50\n",
            "\u001b[1m15/15\u001b[0m \u001b[32m━━━━━━━━━━━━━━━━━━━━\u001b[0m\u001b[37m\u001b[0m \u001b[1m0s\u001b[0m 5ms/step - accuracy: 0.5133 - loss: 0.9126 - val_accuracy: 0.5667 - val_loss: 0.8002\n",
            "Epoch 3/50\n",
            "\u001b[1m15/15\u001b[0m \u001b[32m━━━━━━━━━━━━━━━━━━━━\u001b[0m\u001b[37m\u001b[0m \u001b[1m0s\u001b[0m 6ms/step - accuracy: 0.5727 - loss: 0.7334 - val_accuracy: 0.6333 - val_loss: 0.6411\n",
            "Epoch 4/50\n",
            "\u001b[1m15/15\u001b[0m \u001b[32m━━━━━━━━━━━━━━━━━━━━\u001b[0m\u001b[37m\u001b[0m \u001b[1m0s\u001b[0m 4ms/step - accuracy: 0.6901 - loss: 0.5882 - val_accuracy: 0.8333 - val_loss: 0.5587\n",
            "Epoch 5/50\n",
            "\u001b[1m15/15\u001b[0m \u001b[32m━━━━━━━━━━━━━━━━━━━━\u001b[0m\u001b[37m\u001b[0m \u001b[1m0s\u001b[0m 4ms/step - accuracy: 0.7698 - loss: 0.5355 - val_accuracy: 0.9333 - val_loss: 0.5001\n",
            "Epoch 6/50\n",
            "\u001b[1m15/15\u001b[0m \u001b[32m━━━━━━━━━━━━━━━━━━━━\u001b[0m\u001b[37m\u001b[0m \u001b[1m0s\u001b[0m 5ms/step - accuracy: 0.8139 - loss: 0.5391 - val_accuracy: 0.9000 - val_loss: 0.4711\n",
            "Epoch 7/50\n",
            "\u001b[1m15/15\u001b[0m \u001b[32m━━━━━━━━━━━━━━━━━━━━\u001b[0m\u001b[37m\u001b[0m \u001b[1m0s\u001b[0m 5ms/step - accuracy: 0.8004 - loss: 0.4737 - val_accuracy: 0.8667 - val_loss: 0.4471\n",
            "Epoch 8/50\n",
            "\u001b[1m15/15\u001b[0m \u001b[32m━━━━━━━━━━━━━━━━━━━━\u001b[0m\u001b[37m\u001b[0m \u001b[1m0s\u001b[0m 5ms/step - accuracy: 0.8235 - loss: 0.5002 - val_accuracy: 0.9333 - val_loss: 0.4211\n",
            "Epoch 9/50\n",
            "\u001b[1m15/15\u001b[0m \u001b[32m━━━━━━━━━━━━━━━━━━━━\u001b[0m\u001b[37m\u001b[0m \u001b[1m0s\u001b[0m 4ms/step - accuracy: 0.8389 - loss: 0.4441 - val_accuracy: 0.9333 - val_loss: 0.4048\n",
            "Epoch 10/50\n",
            "\u001b[1m15/15\u001b[0m \u001b[32m━━━━━━━━━━━━━━━━━━━━\u001b[0m\u001b[37m\u001b[0m \u001b[1m0s\u001b[0m 5ms/step - accuracy: 0.8608 - loss: 0.4062 - val_accuracy: 0.9333 - val_loss: 0.3881\n",
            "Epoch 11/50\n",
            "\u001b[1m15/15\u001b[0m \u001b[32m━━━━━━━━━━━━━━━━━━━━\u001b[0m\u001b[37m\u001b[0m \u001b[1m0s\u001b[0m 4ms/step - accuracy: 0.8259 - loss: 0.4795 - val_accuracy: 0.9333 - val_loss: 0.3745\n",
            "Epoch 12/50\n",
            "\u001b[1m15/15\u001b[0m \u001b[32m━━━━━━━━━━━━━━━━━━━━\u001b[0m\u001b[37m\u001b[0m \u001b[1m0s\u001b[0m 5ms/step - accuracy: 0.8464 - loss: 0.4128 - val_accuracy: 0.9333 - val_loss: 0.3573\n",
            "Epoch 13/50\n",
            "\u001b[1m15/15\u001b[0m \u001b[32m━━━━━━━━━━━━━━━━━━━━\u001b[0m\u001b[37m\u001b[0m \u001b[1m0s\u001b[0m 4ms/step - accuracy: 0.8541 - loss: 0.3868 - val_accuracy: 0.9333 - val_loss: 0.3435\n",
            "Epoch 14/50\n",
            "\u001b[1m15/15\u001b[0m \u001b[32m━━━━━━━━━━━━━━━━━━━━\u001b[0m\u001b[37m\u001b[0m \u001b[1m0s\u001b[0m 5ms/step - accuracy: 0.8235 - loss: 0.4161 - val_accuracy: 0.9667 - val_loss: 0.3331\n",
            "Epoch 15/50\n",
            "\u001b[1m15/15\u001b[0m \u001b[32m━━━━━━━━━━━━━━━━━━━━\u001b[0m\u001b[37m\u001b[0m \u001b[1m0s\u001b[0m 5ms/step - accuracy: 0.7915 - loss: 0.4360 - val_accuracy: 0.9333 - val_loss: 0.3195\n",
            "Epoch 16/50\n",
            "\u001b[1m15/15\u001b[0m \u001b[32m━━━━━━━━━━━━━━━━━━━━\u001b[0m\u001b[37m\u001b[0m \u001b[1m0s\u001b[0m 6ms/step - accuracy: 0.8477 - loss: 0.3782 - val_accuracy: 0.9333 - val_loss: 0.3056\n",
            "Epoch 17/50\n",
            "\u001b[1m15/15\u001b[0m \u001b[32m━━━━━━━━━━━━━━━━━━━━\u001b[0m\u001b[37m\u001b[0m \u001b[1m0s\u001b[0m 5ms/step - accuracy: 0.8596 - loss: 0.3228 - val_accuracy: 0.9333 - val_loss: 0.2942\n",
            "Epoch 18/50\n",
            "\u001b[1m15/15\u001b[0m \u001b[32m━━━━━━━━━━━━━━━━━━━━\u001b[0m\u001b[37m\u001b[0m \u001b[1m0s\u001b[0m 4ms/step - accuracy: 0.8710 - loss: 0.3241 - val_accuracy: 0.9333 - val_loss: 0.2808\n",
            "Epoch 19/50\n",
            "\u001b[1m15/15\u001b[0m \u001b[32m━━━━━━━━━━━━━━━━━━━━\u001b[0m\u001b[37m\u001b[0m \u001b[1m0s\u001b[0m 4ms/step - accuracy: 0.9048 - loss: 0.2726 - val_accuracy: 0.9333 - val_loss: 0.2680\n",
            "Epoch 20/50\n",
            "\u001b[1m15/15\u001b[0m \u001b[32m━━━━━━━━━━━━━━━━━━━━\u001b[0m\u001b[37m\u001b[0m \u001b[1m0s\u001b[0m 5ms/step - accuracy: 0.9431 - loss: 0.2839 - val_accuracy: 0.9667 - val_loss: 0.2582\n",
            "Epoch 21/50\n",
            "\u001b[1m15/15\u001b[0m \u001b[32m━━━━━━━━━━━━━━━━━━━━\u001b[0m\u001b[37m\u001b[0m \u001b[1m0s\u001b[0m 5ms/step - accuracy: 0.8977 - loss: 0.3450 - val_accuracy: 0.9667 - val_loss: 0.2385\n",
            "Epoch 22/50\n",
            "\u001b[1m15/15\u001b[0m \u001b[32m━━━━━━━━━━━━━━━━━━━━\u001b[0m\u001b[37m\u001b[0m \u001b[1m0s\u001b[0m 5ms/step - accuracy: 0.9326 - loss: 0.2778 - val_accuracy: 0.9667 - val_loss: 0.2226\n",
            "Epoch 23/50\n",
            "\u001b[1m15/15\u001b[0m \u001b[32m━━━━━━━━━━━━━━━━━━━━\u001b[0m\u001b[37m\u001b[0m \u001b[1m0s\u001b[0m 4ms/step - accuracy: 0.9437 - loss: 0.2324 - val_accuracy: 0.9667 - val_loss: 0.2099\n",
            "Epoch 24/50\n",
            "\u001b[1m15/15\u001b[0m \u001b[32m━━━━━━━━━━━━━━━━━━━━\u001b[0m\u001b[37m\u001b[0m \u001b[1m0s\u001b[0m 6ms/step - accuracy: 0.9360 - loss: 0.2415 - val_accuracy: 0.9667 - val_loss: 0.1958\n",
            "Epoch 25/50\n",
            "\u001b[1m15/15\u001b[0m \u001b[32m━━━━━━━━━━━━━━━━━━━━\u001b[0m\u001b[37m\u001b[0m \u001b[1m0s\u001b[0m 4ms/step - accuracy: 0.9448 - loss: 0.2112 - val_accuracy: 0.9667 - val_loss: 0.1815\n",
            "Epoch 26/50\n",
            "\u001b[1m15/15\u001b[0m \u001b[32m━━━━━━━━━━━━━━━━━━━━\u001b[0m\u001b[37m\u001b[0m \u001b[1m0s\u001b[0m 4ms/step - accuracy: 0.9550 - loss: 0.2004 - val_accuracy: 1.0000 - val_loss: 0.1697\n",
            "Epoch 27/50\n",
            "\u001b[1m15/15\u001b[0m \u001b[32m━━━━━━━━━━━━━━━━━━━━\u001b[0m\u001b[37m\u001b[0m \u001b[1m0s\u001b[0m 5ms/step - accuracy: 0.9173 - loss: 0.2484 - val_accuracy: 1.0000 - val_loss: 0.1578\n",
            "Epoch 28/50\n",
            "\u001b[1m15/15\u001b[0m \u001b[32m━━━━━━━━━━━━━━━━━━━━\u001b[0m\u001b[37m\u001b[0m \u001b[1m0s\u001b[0m 5ms/step - accuracy: 0.9736 - loss: 0.1597 - val_accuracy: 1.0000 - val_loss: 0.1481\n",
            "Epoch 29/50\n",
            "\u001b[1m15/15\u001b[0m \u001b[32m━━━━━━━━━━━━━━━━━━━━\u001b[0m\u001b[37m\u001b[0m \u001b[1m0s\u001b[0m 4ms/step - accuracy: 0.9455 - loss: 0.1933 - val_accuracy: 1.0000 - val_loss: 0.1401\n",
            "Epoch 30/50\n",
            "\u001b[1m15/15\u001b[0m \u001b[32m━━━━━━━━━━━━━━━━━━━━\u001b[0m\u001b[37m\u001b[0m \u001b[1m0s\u001b[0m 5ms/step - accuracy: 0.9597 - loss: 0.1506 - val_accuracy: 1.0000 - val_loss: 0.1355\n",
            "Epoch 31/50\n",
            "\u001b[1m15/15\u001b[0m \u001b[32m━━━━━━━━━━━━━━━━━━━━\u001b[0m\u001b[37m\u001b[0m \u001b[1m0s\u001b[0m 5ms/step - accuracy: 0.9795 - loss: 0.1364 - val_accuracy: 1.0000 - val_loss: 0.1278\n",
            "Epoch 32/50\n",
            "\u001b[1m15/15\u001b[0m \u001b[32m━━━━━━━━━━━━━━━━━━━━\u001b[0m\u001b[37m\u001b[0m \u001b[1m0s\u001b[0m 4ms/step - accuracy: 0.9413 - loss: 0.1524 - val_accuracy: 1.0000 - val_loss: 0.1189\n",
            "Epoch 33/50\n",
            "\u001b[1m15/15\u001b[0m \u001b[32m━━━━━━━━━━━━━━━━━━━━\u001b[0m\u001b[37m\u001b[0m \u001b[1m0s\u001b[0m 4ms/step - accuracy: 0.9337 - loss: 0.1774 - val_accuracy: 1.0000 - val_loss: 0.1139\n",
            "Epoch 34/50\n",
            "\u001b[1m15/15\u001b[0m \u001b[32m━━━━━━━━━━━━━━━━━━━━\u001b[0m\u001b[37m\u001b[0m \u001b[1m0s\u001b[0m 5ms/step - accuracy: 0.9786 - loss: 0.1316 - val_accuracy: 1.0000 - val_loss: 0.1124\n",
            "Epoch 35/50\n",
            "\u001b[1m15/15\u001b[0m \u001b[32m━━━━━━━━━━━━━━━━━━━━\u001b[0m\u001b[37m\u001b[0m \u001b[1m0s\u001b[0m 5ms/step - accuracy: 0.9677 - loss: 0.1143 - val_accuracy: 1.0000 - val_loss: 0.1086\n",
            "Epoch 36/50\n",
            "\u001b[1m15/15\u001b[0m \u001b[32m━━━━━━━━━━━━━━━━━━━━\u001b[0m\u001b[37m\u001b[0m \u001b[1m0s\u001b[0m 4ms/step - accuracy: 0.9788 - loss: 0.1245 - val_accuracy: 1.0000 - val_loss: 0.1042\n",
            "Epoch 37/50\n",
            "\u001b[1m15/15\u001b[0m \u001b[32m━━━━━━━━━━━━━━━━━━━━\u001b[0m\u001b[37m\u001b[0m \u001b[1m0s\u001b[0m 5ms/step - accuracy: 0.9676 - loss: 0.1417 - val_accuracy: 1.0000 - val_loss: 0.0981\n",
            "Epoch 38/50\n",
            "\u001b[1m15/15\u001b[0m \u001b[32m━━━━━━━━━━━━━━━━━━━━\u001b[0m\u001b[37m\u001b[0m \u001b[1m0s\u001b[0m 5ms/step - accuracy: 0.9781 - loss: 0.1156 - val_accuracy: 1.0000 - val_loss: 0.0984\n",
            "Epoch 39/50\n",
            "\u001b[1m15/15\u001b[0m \u001b[32m━━━━━━━━━━━━━━━━━━━━\u001b[0m\u001b[37m\u001b[0m \u001b[1m0s\u001b[0m 5ms/step - accuracy: 0.9545 - loss: 0.1081 - val_accuracy: 1.0000 - val_loss: 0.0951\n",
            "Epoch 40/50\n",
            "\u001b[1m15/15\u001b[0m \u001b[32m━━━━━━━━━━━━━━━━━━━━\u001b[0m\u001b[37m\u001b[0m \u001b[1m0s\u001b[0m 4ms/step - accuracy: 0.9659 - loss: 0.1098 - val_accuracy: 1.0000 - val_loss: 0.0933\n",
            "Epoch 41/50\n",
            "\u001b[1m15/15\u001b[0m \u001b[32m━━━━━━━━━━━━━━━━━━━━\u001b[0m\u001b[37m\u001b[0m \u001b[1m0s\u001b[0m 5ms/step - accuracy: 0.9894 - loss: 0.0874 - val_accuracy: 1.0000 - val_loss: 0.0864\n",
            "Epoch 42/50\n",
            "\u001b[1m15/15\u001b[0m \u001b[32m━━━━━━━━━━━━━━━━━━━━\u001b[0m\u001b[37m\u001b[0m \u001b[1m0s\u001b[0m 4ms/step - accuracy: 0.9809 - loss: 0.0969 - val_accuracy: 1.0000 - val_loss: 0.0866\n",
            "Epoch 43/50\n",
            "\u001b[1m15/15\u001b[0m \u001b[32m━━━━━━━━━━━━━━━━━━━━\u001b[0m\u001b[37m\u001b[0m \u001b[1m0s\u001b[0m 4ms/step - accuracy: 0.9534 - loss: 0.1049 - val_accuracy: 1.0000 - val_loss: 0.0857\n",
            "Epoch 44/50\n",
            "\u001b[1m15/15\u001b[0m \u001b[32m━━━━━━━━━━━━━━━━━━━━\u001b[0m\u001b[37m\u001b[0m \u001b[1m0s\u001b[0m 4ms/step - accuracy: 0.9435 - loss: 0.1383 - val_accuracy: 1.0000 - val_loss: 0.0835\n",
            "Epoch 45/50\n",
            "\u001b[1m15/15\u001b[0m \u001b[32m━━━━━━━━━━━━━━━━━━━━\u001b[0m\u001b[37m\u001b[0m \u001b[1m0s\u001b[0m 5ms/step - accuracy: 0.9539 - loss: 0.0893 - val_accuracy: 0.9667 - val_loss: 0.0868\n",
            "Epoch 46/50\n",
            "\u001b[1m15/15\u001b[0m \u001b[32m━━━━━━━━━━━━━━━━━━━━\u001b[0m\u001b[37m\u001b[0m \u001b[1m0s\u001b[0m 4ms/step - accuracy: 0.9656 - loss: 0.0884 - val_accuracy: 1.0000 - val_loss: 0.0776\n",
            "Epoch 47/50\n",
            "\u001b[1m15/15\u001b[0m \u001b[32m━━━━━━━━━━━━━━━━━━━━\u001b[0m\u001b[37m\u001b[0m \u001b[1m0s\u001b[0m 5ms/step - accuracy: 0.9685 - loss: 0.0981 - val_accuracy: 1.0000 - val_loss: 0.0780\n",
            "Epoch 48/50\n",
            "\u001b[1m15/15\u001b[0m \u001b[32m━━━━━━━━━━━━━━━━━━━━\u001b[0m\u001b[37m\u001b[0m \u001b[1m0s\u001b[0m 4ms/step - accuracy: 0.9684 - loss: 0.0833 - val_accuracy: 1.0000 - val_loss: 0.0760\n",
            "Epoch 49/50\n",
            "\u001b[1m15/15\u001b[0m \u001b[32m━━━━━━━━━━━━━━━━━━━━\u001b[0m\u001b[37m\u001b[0m \u001b[1m0s\u001b[0m 4ms/step - accuracy: 0.9678 - loss: 0.0694 - val_accuracy: 1.0000 - val_loss: 0.0735\n",
            "Epoch 50/50\n",
            "\u001b[1m15/15\u001b[0m \u001b[32m━━━━━━━━━━━━━━━━━━━━\u001b[0m\u001b[37m\u001b[0m \u001b[1m0s\u001b[0m 4ms/step - accuracy: 0.9709 - loss: 0.0898 - val_accuracy: 1.0000 - val_loss: 0.0747\n",
            "\u001b[1m1/1\u001b[0m \u001b[32m━━━━━━━━━━━━━━━━━━━━\u001b[0m\u001b[37m\u001b[0m \u001b[1m0s\u001b[0m 35ms/step - accuracy: 1.0000 - loss: 0.0747\n",
            "Test Loss: 0.0747\n",
            "Test Accuracy: 1.0000\n"
          ]
        }
      ]
    },
    {
      "cell_type": "code",
      "source": [
        "import matplotlib.pyplot as plt\n",
        "\n",
        "# Extract accuracy and loss from the history object\n",
        "train_accuracy = history.history['accuracy']\n",
        "train_loss = history.history['loss']\n",
        "epochs = range(1, len(train_accuracy) + 1)\n",
        "\n",
        "# Plot Accuracy Progression\n",
        "plt.figure(figsize=(12, 6))\n",
        "\n",
        "# Subplot 1: Accuracy\n",
        "plt.subplot(1, 2, 1)\n",
        "plt.plot(epochs, train_accuracy, label='Training Accuracy')\n",
        "plt.xlabel('Epochs')\n",
        "plt.ylabel('Accuracy')\n",
        "plt.title('Accuracy Progression Over Epochs')\n",
        "plt.legend()\n",
        "\n",
        "# Subplot 2: Loss\n",
        "plt.subplot(1, 2, 2)\n",
        "plt.plot(epochs, train_loss, label='Training Loss')\n",
        "plt.xlabel('Epochs')\n",
        "plt.ylabel('Loss')\n",
        "plt.title('Loss Progression Over Epochs')\n",
        "plt.legend()\n",
        "\n",
        "# Show the plots\n",
        "plt.tight_layout()\n",
        "plt.show()\n"
      ],
      "metadata": {
        "colab": {
          "base_uri": "https://localhost:8080/",
          "height": 607
        },
        "id": "SoiAZ9tUvD4t",
        "outputId": "a2b7b782-0f9c-421d-8dcb-ae73b2dd1239"
      },
      "execution_count": 70,
      "outputs": [
        {
          "output_type": "display_data",
          "data": {
            "text/plain": [
              "<Figure size 1200x600 with 2 Axes>"
            ],
            "image/png": "[encoded data removed]"
          },
          "metadata": {}
        }
      ]
    },
    {
      "cell_type": "markdown",
      "source": [
        "## 2-4 Comparison"
      ],
      "metadata": {
        "id": "d1Evlh2w4Tt7"
      }
    },
    {
      "cell_type": "code",
      "source": [
        "\n",
        "plt.figure(figsize=(10, 6))\n",
        "plt.plot( fitenss_over_time, label='Genetic Model Accuracy')\n",
        "plt.plot( train_accuracy, label='Classic Model Accuracy')\n",
        "plt.xlabel(\"Iteration\")\n",
        "plt.ylabel(\"Best Fitness\")\n",
        "plt.title(\"Fitness Progression Over Iterations\")\n",
        "plt.grid(True)\n",
        "plt.show()"
      ],
      "metadata": {
        "colab": {
          "base_uri": "https://localhost:8080/",
          "height": 564
        },
        "id": "HIeyBhxh1kka",
        "outputId": "511f08b6-d57b-4899-d61b-f856440452a0"
      },
      "execution_count": 75,
      "outputs": [
        {
          "output_type": "display_data",
          "data": {
            "text/plain": [
              "<Figure size 1000x600 with 1 Axes>"
            ],
            "image/png": "[encoded data removed]"
          },
          "metadata": {}
        }
      ]
    },
    {
      "cell_type": "markdown",
      "source": [
        "## 2-5 Conusion Matrix of Genetic Model"
      ],
      "metadata": {
        "id": "j4prZVuG4YT4"
      }
    },
    {
      "cell_type": "code",
      "source": [
        "import numpy as np\n",
        "from sklearn.metrics import confusion_matrix, precision_score, recall_score\n",
        "import seaborn as sns\n",
        "import matplotlib.pyplot as plt\n",
        "\n",
        "def make_confusion_matrix(model, part, X_test, y_test):\n",
        "    # Set model weights from the best individual\n",
        "    particular_to_model(model, part)\n",
        "\n",
        "    # predict test data\n",
        "    y_pred = model.predict(X_test)\n",
        "    y_pred_class = np.argmax(y_pred, axis=1)  # Convert predictions to class labels\n",
        "    y_true = np.argmax(y_test, axis=1)  # True labels\n",
        "\n",
        "    # Calculate confusion matrix\n",
        "    cm = confusion_matrix(y_true, y_pred_class)\n",
        "\n",
        "    # Calculate precision and recall\n",
        "    precision = precision_score(y_true, y_pred_class, average='weighted')\n",
        "    recall = recall_score(y_true, y_pred_class, average='weighted')\n",
        "\n",
        "    # Display confusion matrix\n",
        "    plt.figure(figsize=(8, 6))\n",
        "    sns.heatmap(cm, annot=True, fmt=\"d\", cmap=\"Blues\", xticklabels=np.unique(y_true), yticklabels=np.unique(y_true))\n",
        "    plt.xlabel(\"Predicted Label\")\n",
        "    plt.ylabel(\"True Label\")\n",
        "    plt.title(\"Confusion Matrix of Genetic Model\")\n",
        "    plt.show()\n",
        "\n",
        "    # Return precision, recall, and confusion matrix\n",
        "    return precision, recall, cm\n",
        "\n",
        "\n",
        "\n",
        "# Evaluate the genetic model on test data\n",
        "precision, recall, cm = make_confusion_matrix(model, best_particular, X_test, y_test)\n",
        "\n",
        "# Print Precision and Recall\n",
        "print(f\"Precision: {precision:.4f}\")\n",
        "print(f\"Recall: {recall:.4f}\")\n"
      ],
      "metadata": {
        "colab": {
          "base_uri": "https://localhost:8080/",
          "height": 616
        },
        "id": "yydAFmJE2kaD",
        "outputId": "f167bb36-2178-4a0d-96f0-55595ab50bbf"
      },
      "execution_count": 80,
      "outputs": [
        {
          "output_type": "stream",
          "name": "stdout",
          "text": [
            "\u001b[1m1/1\u001b[0m \u001b[32m━━━━━━━━━━━━━━━━━━━━\u001b[0m\u001b[37m\u001b[0m \u001b[1m0s\u001b[0m 36ms/step\n"
          ]
        },
        {
          "output_type": "display_data",
          "data": {
            "text/plain": [
              "<Figure size 800x600 with 2 Axes>"
            ],
            "image/png": "[encoded data removed]"
          },
          "metadata": {}
        },
        {
          "output_type": "stream",
          "name": "stdout",
          "text": [
            "Precision: 0.7867\n",
            "Recall: 0.7333\n"
          ]
        }
      ]
    }
  ]
}